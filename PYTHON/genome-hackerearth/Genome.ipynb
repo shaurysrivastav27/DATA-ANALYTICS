{
 "cells": [
  {
   "cell_type": "code",
   "execution_count": 1,
   "id": "07d3c814",
   "metadata": {},
   "outputs": [],
   "source": [
    "import pandas as pd\n",
    "import seaborn as sns\n",
    "import numpy as np\n",
    "import matplotlib.pyplot as plt \n",
    "%matplotlib inline"
   ]
  },
  {
   "cell_type": "code",
   "execution_count": 2,
   "id": "6334aff6",
   "metadata": {},
   "outputs": [],
   "source": [
    "pd.set_option('display.max_columns',None)"
   ]
  },
  {
   "cell_type": "code",
   "execution_count": 3,
   "id": "a5420b42",
   "metadata": {},
   "outputs": [
    {
     "data": {
      "text/html": [
       "<div>\n",
       "<style scoped>\n",
       "    .dataframe tbody tr th:only-of-type {\n",
       "        vertical-align: middle;\n",
       "    }\n",
       "\n",
       "    .dataframe tbody tr th {\n",
       "        vertical-align: top;\n",
       "    }\n",
       "\n",
       "    .dataframe thead th {\n",
       "        text-align: right;\n",
       "    }\n",
       "</style>\n",
       "<table border=\"1\" class=\"dataframe\">\n",
       "  <thead>\n",
       "    <tr style=\"text-align: right;\">\n",
       "      <th></th>\n",
       "      <th>Patient Id</th>\n",
       "      <th>Patient Age</th>\n",
       "      <th>Genes in mother's side</th>\n",
       "      <th>Inherited from father</th>\n",
       "      <th>Maternal gene</th>\n",
       "      <th>Paternal gene</th>\n",
       "      <th>Blood cell count (mcL)</th>\n",
       "      <th>Patient First Name</th>\n",
       "      <th>Family Name</th>\n",
       "      <th>Father's name</th>\n",
       "      <th>Mother's age</th>\n",
       "      <th>Father's age</th>\n",
       "      <th>Institute Name</th>\n",
       "      <th>Location of Institute</th>\n",
       "      <th>Status</th>\n",
       "      <th>Respiratory Rate (breaths/min)</th>\n",
       "      <th>Heart Rate (rates/min</th>\n",
       "      <th>Test 1</th>\n",
       "      <th>Test 2</th>\n",
       "      <th>Test 3</th>\n",
       "      <th>Test 4</th>\n",
       "      <th>Test 5</th>\n",
       "      <th>Parental consent</th>\n",
       "      <th>Follow-up</th>\n",
       "      <th>Gender</th>\n",
       "      <th>Birth asphyxia</th>\n",
       "      <th>Autopsy shows birth defect (if applicable)</th>\n",
       "      <th>Place of birth</th>\n",
       "      <th>Folic acid details (peri-conceptional)</th>\n",
       "      <th>H/O serious maternal illness</th>\n",
       "      <th>H/O radiation exposure (x-ray)</th>\n",
       "      <th>H/O substance abuse</th>\n",
       "      <th>Assisted conception IVF/ART</th>\n",
       "      <th>History of anomalies in previous pregnancies</th>\n",
       "      <th>No. of previous abortion</th>\n",
       "      <th>Birth defects</th>\n",
       "      <th>White Blood cell count (thousand per microliter)</th>\n",
       "      <th>Blood test result</th>\n",
       "      <th>Symptom 1</th>\n",
       "      <th>Symptom 2</th>\n",
       "      <th>Symptom 3</th>\n",
       "      <th>Symptom 4</th>\n",
       "      <th>Symptom 5</th>\n",
       "      <th>Genetic Disorder</th>\n",
       "      <th>Disorder Subclass</th>\n",
       "    </tr>\n",
       "  </thead>\n",
       "  <tbody>\n",
       "    <tr>\n",
       "      <th>0</th>\n",
       "      <td>PID0x6418</td>\n",
       "      <td>2.0</td>\n",
       "      <td>Yes</td>\n",
       "      <td>No</td>\n",
       "      <td>Yes</td>\n",
       "      <td>No</td>\n",
       "      <td>4.760603</td>\n",
       "      <td>Richard</td>\n",
       "      <td>NaN</td>\n",
       "      <td>Larre</td>\n",
       "      <td>NaN</td>\n",
       "      <td>NaN</td>\n",
       "      <td>Boston Specialty &amp; Rehabilitation Hospital</td>\n",
       "      <td>55 FRUIT ST\\nCENTRAL, MA 02114\\n(42.3624748574...</td>\n",
       "      <td>Alive</td>\n",
       "      <td>Normal (30-60)</td>\n",
       "      <td>Normal</td>\n",
       "      <td>0.0</td>\n",
       "      <td>NaN</td>\n",
       "      <td>NaN</td>\n",
       "      <td>1.0</td>\n",
       "      <td>0.0</td>\n",
       "      <td>Yes</td>\n",
       "      <td>High</td>\n",
       "      <td>NaN</td>\n",
       "      <td>NaN</td>\n",
       "      <td>Not applicable</td>\n",
       "      <td>Institute</td>\n",
       "      <td>No</td>\n",
       "      <td>NaN</td>\n",
       "      <td>No</td>\n",
       "      <td>No</td>\n",
       "      <td>No</td>\n",
       "      <td>Yes</td>\n",
       "      <td>NaN</td>\n",
       "      <td>NaN</td>\n",
       "      <td>9.857562</td>\n",
       "      <td>NaN</td>\n",
       "      <td>1.0</td>\n",
       "      <td>1.0</td>\n",
       "      <td>1.0</td>\n",
       "      <td>1.0</td>\n",
       "      <td>1.0</td>\n",
       "      <td>Mitochondrial genetic inheritance disorders</td>\n",
       "      <td>Leber's hereditary optic neuropathy</td>\n",
       "    </tr>\n",
       "    <tr>\n",
       "      <th>1</th>\n",
       "      <td>PID0x25d5</td>\n",
       "      <td>4.0</td>\n",
       "      <td>Yes</td>\n",
       "      <td>Yes</td>\n",
       "      <td>No</td>\n",
       "      <td>No</td>\n",
       "      <td>4.910669</td>\n",
       "      <td>Mike</td>\n",
       "      <td>NaN</td>\n",
       "      <td>Brycen</td>\n",
       "      <td>NaN</td>\n",
       "      <td>23.0</td>\n",
       "      <td>St. Margaret's Hospital For Women</td>\n",
       "      <td>1515 COMMONWEALTH AV\\nALLSTON/BRIGHTON, MA 021...</td>\n",
       "      <td>Deceased</td>\n",
       "      <td>Tachypnea</td>\n",
       "      <td>Normal</td>\n",
       "      <td>NaN</td>\n",
       "      <td>0.0</td>\n",
       "      <td>0.0</td>\n",
       "      <td>1.0</td>\n",
       "      <td>0.0</td>\n",
       "      <td>Yes</td>\n",
       "      <td>High</td>\n",
       "      <td>NaN</td>\n",
       "      <td>No</td>\n",
       "      <td>None</td>\n",
       "      <td>NaN</td>\n",
       "      <td>Yes</td>\n",
       "      <td>Yes</td>\n",
       "      <td>Not applicable</td>\n",
       "      <td>Not applicable</td>\n",
       "      <td>No</td>\n",
       "      <td>Yes</td>\n",
       "      <td>NaN</td>\n",
       "      <td>Multiple</td>\n",
       "      <td>5.522560</td>\n",
       "      <td>normal</td>\n",
       "      <td>1.0</td>\n",
       "      <td>NaN</td>\n",
       "      <td>1.0</td>\n",
       "      <td>1.0</td>\n",
       "      <td>0.0</td>\n",
       "      <td>NaN</td>\n",
       "      <td>Cystic fibrosis</td>\n",
       "    </tr>\n",
       "    <tr>\n",
       "      <th>2</th>\n",
       "      <td>PID0x4a82</td>\n",
       "      <td>6.0</td>\n",
       "      <td>Yes</td>\n",
       "      <td>No</td>\n",
       "      <td>No</td>\n",
       "      <td>No</td>\n",
       "      <td>4.893297</td>\n",
       "      <td>Kimberly</td>\n",
       "      <td>NaN</td>\n",
       "      <td>Nashon</td>\n",
       "      <td>41.0</td>\n",
       "      <td>22.0</td>\n",
       "      <td>NaN</td>\n",
       "      <td>-</td>\n",
       "      <td>Alive</td>\n",
       "      <td>Normal (30-60)</td>\n",
       "      <td>Tachycardia</td>\n",
       "      <td>0.0</td>\n",
       "      <td>0.0</td>\n",
       "      <td>0.0</td>\n",
       "      <td>1.0</td>\n",
       "      <td>0.0</td>\n",
       "      <td>Yes</td>\n",
       "      <td>Low</td>\n",
       "      <td>NaN</td>\n",
       "      <td>No record</td>\n",
       "      <td>Not applicable</td>\n",
       "      <td>NaN</td>\n",
       "      <td>Yes</td>\n",
       "      <td>No</td>\n",
       "      <td>Yes</td>\n",
       "      <td>NaN</td>\n",
       "      <td>Yes</td>\n",
       "      <td>Yes</td>\n",
       "      <td>4.0</td>\n",
       "      <td>Singular</td>\n",
       "      <td>NaN</td>\n",
       "      <td>normal</td>\n",
       "      <td>0.0</td>\n",
       "      <td>1.0</td>\n",
       "      <td>1.0</td>\n",
       "      <td>1.0</td>\n",
       "      <td>1.0</td>\n",
       "      <td>Multifactorial genetic inheritance disorders</td>\n",
       "      <td>Diabetes</td>\n",
       "    </tr>\n",
       "    <tr>\n",
       "      <th>3</th>\n",
       "      <td>PID0x4ac8</td>\n",
       "      <td>12.0</td>\n",
       "      <td>Yes</td>\n",
       "      <td>No</td>\n",
       "      <td>Yes</td>\n",
       "      <td>No</td>\n",
       "      <td>4.705280</td>\n",
       "      <td>Jeffery</td>\n",
       "      <td>Hoelscher</td>\n",
       "      <td>Aayaan</td>\n",
       "      <td>21.0</td>\n",
       "      <td>NaN</td>\n",
       "      <td>NaN</td>\n",
       "      <td>55 FRUIT ST\\nCENTRAL, MA 02114\\n(42.3624748574...</td>\n",
       "      <td>Deceased</td>\n",
       "      <td>Tachypnea</td>\n",
       "      <td>Normal</td>\n",
       "      <td>0.0</td>\n",
       "      <td>0.0</td>\n",
       "      <td>0.0</td>\n",
       "      <td>1.0</td>\n",
       "      <td>0.0</td>\n",
       "      <td>Yes</td>\n",
       "      <td>High</td>\n",
       "      <td>Male</td>\n",
       "      <td>Not available</td>\n",
       "      <td>No</td>\n",
       "      <td>Institute</td>\n",
       "      <td>No</td>\n",
       "      <td>Yes</td>\n",
       "      <td>-</td>\n",
       "      <td>Not applicable</td>\n",
       "      <td>NaN</td>\n",
       "      <td>Yes</td>\n",
       "      <td>1.0</td>\n",
       "      <td>Singular</td>\n",
       "      <td>7.919321</td>\n",
       "      <td>inconclusive</td>\n",
       "      <td>0.0</td>\n",
       "      <td>0.0</td>\n",
       "      <td>1.0</td>\n",
       "      <td>0.0</td>\n",
       "      <td>0.0</td>\n",
       "      <td>Mitochondrial genetic inheritance disorders</td>\n",
       "      <td>Leigh syndrome</td>\n",
       "    </tr>\n",
       "    <tr>\n",
       "      <th>4</th>\n",
       "      <td>PID0x1bf7</td>\n",
       "      <td>11.0</td>\n",
       "      <td>Yes</td>\n",
       "      <td>No</td>\n",
       "      <td>NaN</td>\n",
       "      <td>Yes</td>\n",
       "      <td>4.720703</td>\n",
       "      <td>Johanna</td>\n",
       "      <td>Stutzman</td>\n",
       "      <td>Suave</td>\n",
       "      <td>32.0</td>\n",
       "      <td>NaN</td>\n",
       "      <td>Carney Hospital</td>\n",
       "      <td>300 LONGWOOD AV\\nFENWAY/KENMORE, MA 02115\\n(42...</td>\n",
       "      <td>Alive</td>\n",
       "      <td>Tachypnea</td>\n",
       "      <td>Tachycardia</td>\n",
       "      <td>0.0</td>\n",
       "      <td>0.0</td>\n",
       "      <td>0.0</td>\n",
       "      <td>1.0</td>\n",
       "      <td>0.0</td>\n",
       "      <td>NaN</td>\n",
       "      <td>Low</td>\n",
       "      <td>Male</td>\n",
       "      <td>Not available</td>\n",
       "      <td>Not applicable</td>\n",
       "      <td>Institute</td>\n",
       "      <td>No</td>\n",
       "      <td>Yes</td>\n",
       "      <td>-</td>\n",
       "      <td>Not applicable</td>\n",
       "      <td>Yes</td>\n",
       "      <td>No</td>\n",
       "      <td>4.0</td>\n",
       "      <td>Multiple</td>\n",
       "      <td>4.098210</td>\n",
       "      <td>NaN</td>\n",
       "      <td>0.0</td>\n",
       "      <td>0.0</td>\n",
       "      <td>0.0</td>\n",
       "      <td>0.0</td>\n",
       "      <td>NaN</td>\n",
       "      <td>Multifactorial genetic inheritance disorders</td>\n",
       "      <td>Cancer</td>\n",
       "    </tr>\n",
       "  </tbody>\n",
       "</table>\n",
       "</div>"
      ],
      "text/plain": [
       "  Patient Id  Patient Age Genes in mother's side Inherited from father  \\\n",
       "0  PID0x6418          2.0                    Yes                    No   \n",
       "1  PID0x25d5          4.0                    Yes                   Yes   \n",
       "2  PID0x4a82          6.0                    Yes                    No   \n",
       "3  PID0x4ac8         12.0                    Yes                    No   \n",
       "4  PID0x1bf7         11.0                    Yes                    No   \n",
       "\n",
       "  Maternal gene Paternal gene  Blood cell count (mcL) Patient First Name  \\\n",
       "0           Yes            No                4.760603            Richard   \n",
       "1            No            No                4.910669               Mike   \n",
       "2            No            No                4.893297           Kimberly   \n",
       "3           Yes            No                4.705280            Jeffery   \n",
       "4           NaN           Yes                4.720703            Johanna   \n",
       "\n",
       "  Family Name Father's name  Mother's age  Father's age  \\\n",
       "0         NaN         Larre           NaN           NaN   \n",
       "1         NaN        Brycen           NaN          23.0   \n",
       "2         NaN        Nashon          41.0          22.0   \n",
       "3   Hoelscher        Aayaan          21.0           NaN   \n",
       "4    Stutzman         Suave          32.0           NaN   \n",
       "\n",
       "                               Institute Name  \\\n",
       "0  Boston Specialty & Rehabilitation Hospital   \n",
       "1           St. Margaret's Hospital For Women   \n",
       "2                                         NaN   \n",
       "3                                         NaN   \n",
       "4                             Carney Hospital   \n",
       "\n",
       "                               Location of Institute    Status  \\\n",
       "0  55 FRUIT ST\\nCENTRAL, MA 02114\\n(42.3624748574...     Alive   \n",
       "1  1515 COMMONWEALTH AV\\nALLSTON/BRIGHTON, MA 021...  Deceased   \n",
       "2                                                  -     Alive   \n",
       "3  55 FRUIT ST\\nCENTRAL, MA 02114\\n(42.3624748574...  Deceased   \n",
       "4  300 LONGWOOD AV\\nFENWAY/KENMORE, MA 02115\\n(42...     Alive   \n",
       "\n",
       "  Respiratory Rate (breaths/min) Heart Rate (rates/min  Test 1  Test 2  \\\n",
       "0                 Normal (30-60)                Normal     0.0     NaN   \n",
       "1                      Tachypnea                Normal     NaN     0.0   \n",
       "2                 Normal (30-60)           Tachycardia     0.0     0.0   \n",
       "3                      Tachypnea                Normal     0.0     0.0   \n",
       "4                      Tachypnea           Tachycardia     0.0     0.0   \n",
       "\n",
       "   Test 3  Test 4  Test 5 Parental consent Follow-up Gender Birth asphyxia  \\\n",
       "0     NaN     1.0     0.0              Yes      High    NaN            NaN   \n",
       "1     0.0     1.0     0.0              Yes      High    NaN             No   \n",
       "2     0.0     1.0     0.0              Yes       Low    NaN      No record   \n",
       "3     0.0     1.0     0.0              Yes      High   Male  Not available   \n",
       "4     0.0     1.0     0.0              NaN       Low   Male  Not available   \n",
       "\n",
       "  Autopsy shows birth defect (if applicable) Place of birth  \\\n",
       "0                             Not applicable      Institute   \n",
       "1                                       None            NaN   \n",
       "2                             Not applicable            NaN   \n",
       "3                                         No      Institute   \n",
       "4                             Not applicable      Institute   \n",
       "\n",
       "  Folic acid details (peri-conceptional) H/O serious maternal illness  \\\n",
       "0                                     No                          NaN   \n",
       "1                                    Yes                          Yes   \n",
       "2                                    Yes                           No   \n",
       "3                                     No                          Yes   \n",
       "4                                     No                          Yes   \n",
       "\n",
       "  H/O radiation exposure (x-ray) H/O substance abuse  \\\n",
       "0                             No                  No   \n",
       "1                 Not applicable      Not applicable   \n",
       "2                            Yes                 NaN   \n",
       "3                              -      Not applicable   \n",
       "4                              -      Not applicable   \n",
       "\n",
       "  Assisted conception IVF/ART History of anomalies in previous pregnancies  \\\n",
       "0                          No                                          Yes   \n",
       "1                          No                                          Yes   \n",
       "2                         Yes                                          Yes   \n",
       "3                         NaN                                          Yes   \n",
       "4                         Yes                                           No   \n",
       "\n",
       "   No. of previous abortion Birth defects  \\\n",
       "0                       NaN           NaN   \n",
       "1                       NaN      Multiple   \n",
       "2                       4.0      Singular   \n",
       "3                       1.0      Singular   \n",
       "4                       4.0      Multiple   \n",
       "\n",
       "   White Blood cell count (thousand per microliter) Blood test result  \\\n",
       "0                                          9.857562               NaN   \n",
       "1                                          5.522560            normal   \n",
       "2                                               NaN            normal   \n",
       "3                                          7.919321      inconclusive   \n",
       "4                                          4.098210               NaN   \n",
       "\n",
       "   Symptom 1  Symptom 2  Symptom 3  Symptom 4  Symptom 5  \\\n",
       "0        1.0        1.0        1.0        1.0        1.0   \n",
       "1        1.0        NaN        1.0        1.0        0.0   \n",
       "2        0.0        1.0        1.0        1.0        1.0   \n",
       "3        0.0        0.0        1.0        0.0        0.0   \n",
       "4        0.0        0.0        0.0        0.0        NaN   \n",
       "\n",
       "                               Genetic Disorder  \\\n",
       "0   Mitochondrial genetic inheritance disorders   \n",
       "1                                           NaN   \n",
       "2  Multifactorial genetic inheritance disorders   \n",
       "3   Mitochondrial genetic inheritance disorders   \n",
       "4  Multifactorial genetic inheritance disorders   \n",
       "\n",
       "                     Disorder Subclass  \n",
       "0  Leber's hereditary optic neuropathy  \n",
       "1                      Cystic fibrosis  \n",
       "2                             Diabetes  \n",
       "3                       Leigh syndrome  \n",
       "4                               Cancer  "
      ]
     },
     "execution_count": 3,
     "metadata": {},
     "output_type": "execute_result"
    }
   ],
   "source": [
    "train = pd.read_csv('/home/shaury/Desktop/pvsc/genome-hackerearth/dataset/train.csv',sep=',',na_values=\"nan\")\n",
    "train.head()"
   ]
  },
  {
   "cell_type": "code",
   "execution_count": 4,
   "id": "6f47467d",
   "metadata": {},
   "outputs": [
    {
     "data": {
      "text/html": [
       "<div>\n",
       "<style scoped>\n",
       "    .dataframe tbody tr th:only-of-type {\n",
       "        vertical-align: middle;\n",
       "    }\n",
       "\n",
       "    .dataframe tbody tr th {\n",
       "        vertical-align: top;\n",
       "    }\n",
       "\n",
       "    .dataframe thead th {\n",
       "        text-align: right;\n",
       "    }\n",
       "</style>\n",
       "<table border=\"1\" class=\"dataframe\">\n",
       "  <thead>\n",
       "    <tr style=\"text-align: right;\">\n",
       "      <th></th>\n",
       "      <th>Patient Id</th>\n",
       "      <th>Patient Age</th>\n",
       "      <th>Genes in mother's side</th>\n",
       "      <th>Inherited from father</th>\n",
       "      <th>Maternal gene</th>\n",
       "      <th>Paternal gene</th>\n",
       "      <th>Blood cell count (mcL)</th>\n",
       "      <th>Patient First Name</th>\n",
       "      <th>Family Name</th>\n",
       "      <th>Father's name</th>\n",
       "      <th>Mother's age</th>\n",
       "      <th>Father's age</th>\n",
       "      <th>Institute Name</th>\n",
       "      <th>Location of Institute</th>\n",
       "      <th>Status</th>\n",
       "      <th>Respiratory Rate (breaths/min)</th>\n",
       "      <th>Heart Rate (rates/min</th>\n",
       "      <th>Test 1</th>\n",
       "      <th>Test 2</th>\n",
       "      <th>Test 3</th>\n",
       "      <th>Test 4</th>\n",
       "      <th>Test 5</th>\n",
       "      <th>Parental consent</th>\n",
       "      <th>Follow-up</th>\n",
       "      <th>Gender</th>\n",
       "      <th>Birth asphyxia</th>\n",
       "      <th>Autopsy shows birth defect (if applicable)</th>\n",
       "      <th>Place of birth</th>\n",
       "      <th>Folic acid details (peri-conceptional)</th>\n",
       "      <th>H/O serious maternal illness</th>\n",
       "      <th>H/O radiation exposure (x-ray)</th>\n",
       "      <th>H/O substance abuse</th>\n",
       "      <th>Assisted conception IVF/ART</th>\n",
       "      <th>History of anomalies in previous pregnancies</th>\n",
       "      <th>No. of previous abortion</th>\n",
       "      <th>Birth defects</th>\n",
       "      <th>White Blood cell count (thousand per microliter)</th>\n",
       "      <th>Blood test result</th>\n",
       "      <th>Symptom 1</th>\n",
       "      <th>Symptom 2</th>\n",
       "      <th>Symptom 3</th>\n",
       "      <th>Symptom 4</th>\n",
       "      <th>Symptom 5</th>\n",
       "    </tr>\n",
       "  </thead>\n",
       "  <tbody>\n",
       "    <tr>\n",
       "      <th>0</th>\n",
       "      <td>PID0x4175</td>\n",
       "      <td>6</td>\n",
       "      <td>No</td>\n",
       "      <td>Yes</td>\n",
       "      <td>No</td>\n",
       "      <td>No</td>\n",
       "      <td>4.981655</td>\n",
       "      <td>Charles</td>\n",
       "      <td>NaN</td>\n",
       "      <td>Kore</td>\n",
       "      <td>38</td>\n",
       "      <td>61</td>\n",
       "      <td>St. Elizabeth's Hospital</td>\n",
       "      <td>30 WARREN ST\\nALLSTON/BRIGHTON, MA 02134\\n(42....</td>\n",
       "      <td>Alive</td>\n",
       "      <td>Tachypnea</td>\n",
       "      <td>Normal</td>\n",
       "      <td>0</td>\n",
       "      <td>-99</td>\n",
       "      <td>0</td>\n",
       "      <td>1</td>\n",
       "      <td>0</td>\n",
       "      <td>-99</td>\n",
       "      <td>Low</td>\n",
       "      <td>Male</td>\n",
       "      <td>Yes</td>\n",
       "      <td>Not applicable</td>\n",
       "      <td>Institute</td>\n",
       "      <td>Yes</td>\n",
       "      <td>No</td>\n",
       "      <td>Yes</td>\n",
       "      <td>-</td>\n",
       "      <td>No</td>\n",
       "      <td>-99</td>\n",
       "      <td>2</td>\n",
       "      <td>Multiple</td>\n",
       "      <td>-99.000000</td>\n",
       "      <td>slightly abnormal</td>\n",
       "      <td>True</td>\n",
       "      <td>True</td>\n",
       "      <td>True</td>\n",
       "      <td>True</td>\n",
       "      <td>True</td>\n",
       "    </tr>\n",
       "    <tr>\n",
       "      <th>1</th>\n",
       "      <td>PID0x21f5</td>\n",
       "      <td>10</td>\n",
       "      <td>Yes</td>\n",
       "      <td>No</td>\n",
       "      <td>NaN</td>\n",
       "      <td>Yes</td>\n",
       "      <td>5.118890</td>\n",
       "      <td>Catherine</td>\n",
       "      <td>NaN</td>\n",
       "      <td>Homero</td>\n",
       "      <td>33</td>\n",
       "      <td>53</td>\n",
       "      <td>-99</td>\n",
       "      <td>249 RIVER ST\\nMATTAPAN, MA 02126\\n(42.27137912...</td>\n",
       "      <td>Alive</td>\n",
       "      <td>NaN</td>\n",
       "      <td>-99</td>\n",
       "      <td>0</td>\n",
       "      <td>0</td>\n",
       "      <td>-99</td>\n",
       "      <td>1</td>\n",
       "      <td>-99</td>\n",
       "      <td>Yes</td>\n",
       "      <td>Low</td>\n",
       "      <td>Male</td>\n",
       "      <td>Yes</td>\n",
       "      <td>Not applicable</td>\n",
       "      <td>-99</td>\n",
       "      <td>Yes</td>\n",
       "      <td>No</td>\n",
       "      <td>-99</td>\n",
       "      <td>-99</td>\n",
       "      <td>No</td>\n",
       "      <td>Yes</td>\n",
       "      <td>-99</td>\n",
       "      <td>Multiple</td>\n",
       "      <td>8.179584</td>\n",
       "      <td>normal</td>\n",
       "      <td>False</td>\n",
       "      <td>False</td>\n",
       "      <td>False</td>\n",
       "      <td>True</td>\n",
       "      <td>False</td>\n",
       "    </tr>\n",
       "    <tr>\n",
       "      <th>2</th>\n",
       "      <td>PID0x49b8</td>\n",
       "      <td>5</td>\n",
       "      <td>No</td>\n",
       "      <td>NaN</td>\n",
       "      <td>No</td>\n",
       "      <td>No</td>\n",
       "      <td>4.876204</td>\n",
       "      <td>James</td>\n",
       "      <td>NaN</td>\n",
       "      <td>Danield</td>\n",
       "      <td>48</td>\n",
       "      <td>60</td>\n",
       "      <td>NaN</td>\n",
       "      <td>1400 VFW Parkway\\nWest Roxbury, MA 02132\\n(42....</td>\n",
       "      <td>Deceased</td>\n",
       "      <td>NaN</td>\n",
       "      <td>Normal</td>\n",
       "      <td>0</td>\n",
       "      <td>0</td>\n",
       "      <td>0</td>\n",
       "      <td>1</td>\n",
       "      <td>0</td>\n",
       "      <td>-99</td>\n",
       "      <td>Low</td>\n",
       "      <td>Ambiguous</td>\n",
       "      <td>Not available</td>\n",
       "      <td>-99</td>\n",
       "      <td>Institute</td>\n",
       "      <td>No</td>\n",
       "      <td>Yes</td>\n",
       "      <td>Yes</td>\n",
       "      <td>Yes</td>\n",
       "      <td>Yes</td>\n",
       "      <td>No</td>\n",
       "      <td>0</td>\n",
       "      <td>Singular</td>\n",
       "      <td>-99.000000</td>\n",
       "      <td>slightly abnormal</td>\n",
       "      <td>False</td>\n",
       "      <td>False</td>\n",
       "      <td>True</td>\n",
       "      <td>True</td>\n",
       "      <td>False</td>\n",
       "    </tr>\n",
       "    <tr>\n",
       "      <th>3</th>\n",
       "      <td>PID0x2d97</td>\n",
       "      <td>13</td>\n",
       "      <td>No</td>\n",
       "      <td>Yes</td>\n",
       "      <td>Yes</td>\n",
       "      <td>No</td>\n",
       "      <td>4.687767</td>\n",
       "      <td>Brian</td>\n",
       "      <td>NaN</td>\n",
       "      <td>Orville</td>\n",
       "      <td>25</td>\n",
       "      <td>55</td>\n",
       "      <td>Boston Specialty &amp; Rehabilitation Hospital</td>\n",
       "      <td>51 BLOSSOM ST\\nCENTRAL, MA 02114\\n(42.36327718...</td>\n",
       "      <td>Alive</td>\n",
       "      <td>-99</td>\n",
       "      <td>-99</td>\n",
       "      <td>0</td>\n",
       "      <td>0</td>\n",
       "      <td>0</td>\n",
       "      <td>1</td>\n",
       "      <td>0</td>\n",
       "      <td>-99</td>\n",
       "      <td>Low</td>\n",
       "      <td>Ambiguous</td>\n",
       "      <td>No</td>\n",
       "      <td>Not applicable</td>\n",
       "      <td>-99</td>\n",
       "      <td>Yes</td>\n",
       "      <td>Yes</td>\n",
       "      <td>-</td>\n",
       "      <td>-99</td>\n",
       "      <td>-99</td>\n",
       "      <td>Yes</td>\n",
       "      <td>-99</td>\n",
       "      <td>Singular</td>\n",
       "      <td>6.884071</td>\n",
       "      <td>normal</td>\n",
       "      <td>True</td>\n",
       "      <td>False</td>\n",
       "      <td>True</td>\n",
       "      <td>False</td>\n",
       "      <td>True</td>\n",
       "    </tr>\n",
       "    <tr>\n",
       "      <th>4</th>\n",
       "      <td>PID0x58da</td>\n",
       "      <td>5</td>\n",
       "      <td>No</td>\n",
       "      <td>NaN</td>\n",
       "      <td>NaN</td>\n",
       "      <td>Yes</td>\n",
       "      <td>5.152362</td>\n",
       "      <td>Gary</td>\n",
       "      <td>NaN</td>\n",
       "      <td>Issiah</td>\n",
       "      <td>41</td>\n",
       "      <td>38</td>\n",
       "      <td>Not applicable</td>\n",
       "      <td>-</td>\n",
       "      <td>Deceased</td>\n",
       "      <td>Tachypnea</td>\n",
       "      <td>NaN</td>\n",
       "      <td>0</td>\n",
       "      <td>0</td>\n",
       "      <td>0</td>\n",
       "      <td>1</td>\n",
       "      <td>0</td>\n",
       "      <td>Yes</td>\n",
       "      <td>Low</td>\n",
       "      <td>Ambiguous</td>\n",
       "      <td>No</td>\n",
       "      <td>None</td>\n",
       "      <td>Home</td>\n",
       "      <td>Yes</td>\n",
       "      <td>Yes</td>\n",
       "      <td>Yes</td>\n",
       "      <td>Not applicable</td>\n",
       "      <td>No</td>\n",
       "      <td>No</td>\n",
       "      <td>-99</td>\n",
       "      <td>Multiple</td>\n",
       "      <td>6.195178</td>\n",
       "      <td>normal</td>\n",
       "      <td>True</td>\n",
       "      <td>True</td>\n",
       "      <td>True</td>\n",
       "      <td>True</td>\n",
       "      <td>False</td>\n",
       "    </tr>\n",
       "  </tbody>\n",
       "</table>\n",
       "</div>"
      ],
      "text/plain": [
       "  Patient Id  Patient Age Genes in mother's side Inherited from father  \\\n",
       "0  PID0x4175            6                     No                   Yes   \n",
       "1  PID0x21f5           10                    Yes                    No   \n",
       "2  PID0x49b8            5                     No                   NaN   \n",
       "3  PID0x2d97           13                     No                   Yes   \n",
       "4  PID0x58da            5                     No                   NaN   \n",
       "\n",
       "  Maternal gene Paternal gene  Blood cell count (mcL) Patient First Name  \\\n",
       "0            No            No                4.981655            Charles   \n",
       "1           NaN           Yes                5.118890          Catherine   \n",
       "2            No            No                4.876204              James   \n",
       "3           Yes            No                4.687767              Brian   \n",
       "4           NaN           Yes                5.152362               Gary   \n",
       "\n",
       "  Family Name Father's name  Mother's age  Father's age  \\\n",
       "0         NaN          Kore            38            61   \n",
       "1         NaN        Homero            33            53   \n",
       "2         NaN       Danield            48            60   \n",
       "3         NaN       Orville            25            55   \n",
       "4         NaN        Issiah            41            38   \n",
       "\n",
       "                               Institute Name  \\\n",
       "0                    St. Elizabeth's Hospital   \n",
       "1                                         -99   \n",
       "2                                         NaN   \n",
       "3  Boston Specialty & Rehabilitation Hospital   \n",
       "4                              Not applicable   \n",
       "\n",
       "                               Location of Institute    Status  \\\n",
       "0  30 WARREN ST\\nALLSTON/BRIGHTON, MA 02134\\n(42....     Alive   \n",
       "1  249 RIVER ST\\nMATTAPAN, MA 02126\\n(42.27137912...     Alive   \n",
       "2  1400 VFW Parkway\\nWest Roxbury, MA 02132\\n(42....  Deceased   \n",
       "3  51 BLOSSOM ST\\nCENTRAL, MA 02114\\n(42.36327718...     Alive   \n",
       "4                                                  -  Deceased   \n",
       "\n",
       "  Respiratory Rate (breaths/min) Heart Rate (rates/min  Test 1  Test 2  \\\n",
       "0                      Tachypnea                Normal       0     -99   \n",
       "1                            NaN                   -99       0       0   \n",
       "2                            NaN                Normal       0       0   \n",
       "3                            -99                   -99       0       0   \n",
       "4                      Tachypnea                   NaN       0       0   \n",
       "\n",
       "   Test 3  Test 4  Test 5 Parental consent Follow-up     Gender  \\\n",
       "0       0       1       0              -99       Low       Male   \n",
       "1     -99       1     -99              Yes       Low       Male   \n",
       "2       0       1       0              -99       Low  Ambiguous   \n",
       "3       0       1       0              -99       Low  Ambiguous   \n",
       "4       0       1       0              Yes       Low  Ambiguous   \n",
       "\n",
       "  Birth asphyxia Autopsy shows birth defect (if applicable) Place of birth  \\\n",
       "0            Yes                             Not applicable      Institute   \n",
       "1            Yes                             Not applicable            -99   \n",
       "2  Not available                                        -99      Institute   \n",
       "3             No                             Not applicable            -99   \n",
       "4             No                                       None           Home   \n",
       "\n",
       "  Folic acid details (peri-conceptional) H/O serious maternal illness  \\\n",
       "0                                    Yes                           No   \n",
       "1                                    Yes                           No   \n",
       "2                                     No                          Yes   \n",
       "3                                    Yes                          Yes   \n",
       "4                                    Yes                          Yes   \n",
       "\n",
       "  H/O radiation exposure (x-ray) H/O substance abuse  \\\n",
       "0                            Yes                   -   \n",
       "1                            -99                 -99   \n",
       "2                            Yes                 Yes   \n",
       "3                              -                 -99   \n",
       "4                            Yes      Not applicable   \n",
       "\n",
       "  Assisted conception IVF/ART History of anomalies in previous pregnancies  \\\n",
       "0                          No                                          -99   \n",
       "1                          No                                          Yes   \n",
       "2                         Yes                                           No   \n",
       "3                         -99                                          Yes   \n",
       "4                          No                                           No   \n",
       "\n",
       "   No. of previous abortion Birth defects  \\\n",
       "0                         2      Multiple   \n",
       "1                       -99      Multiple   \n",
       "2                         0      Singular   \n",
       "3                       -99      Singular   \n",
       "4                       -99      Multiple   \n",
       "\n",
       "   White Blood cell count (thousand per microliter)  Blood test result  \\\n",
       "0                                        -99.000000  slightly abnormal   \n",
       "1                                          8.179584             normal   \n",
       "2                                        -99.000000  slightly abnormal   \n",
       "3                                          6.884071             normal   \n",
       "4                                          6.195178             normal   \n",
       "\n",
       "   Symptom 1  Symptom 2  Symptom 3  Symptom 4  Symptom 5  \n",
       "0       True       True       True       True       True  \n",
       "1      False      False      False       True      False  \n",
       "2      False      False       True       True      False  \n",
       "3       True      False       True      False       True  \n",
       "4       True       True       True       True      False  "
      ]
     },
     "execution_count": 4,
     "metadata": {},
     "output_type": "execute_result"
    }
   ],
   "source": [
    "test= pd.read_csv('/home/shaury/Desktop/pvsc/genome-hackerearth/dataset/test.csv')\n",
    "test.head()"
   ]
  },
  {
   "cell_type": "code",
   "execution_count": 5,
   "id": "ccf094c9",
   "metadata": {},
   "outputs": [
    {
     "name": "stdout",
     "output_type": "stream",
     "text": [
      "9465 22083\n",
      "AxesSubplot(0.125,0.125;0.698618x0.755)\n",
      "AxesSubplot(0.125,0.125;0.698618x0.755)\n"
     ]
    },
    {
     "data": {
      "image/png": "[encoded data removed]",
      "text/plain": [
       "<Figure size 1800x720 with 2 Axes>"
      ]
     },
     "metadata": {
      "needs_background": "light"
     },
     "output_type": "display_data"
    },
    {
     "data": {
      "image/png": "[encoded data removed]",
      "text/plain": [
       "<Figure size 1800x720 with 2 Axes>"
      ]
     },
     "metadata": {
      "needs_background": "light"
     },
     "output_type": "display_data"
    }
   ],
   "source": [
    "import missingno as ms\n",
    "print(len(test),len(train))\n",
    "print(ms.matrix(train))\n",
    "print(ms.matrix(test))"
   ]
  },
  {
   "cell_type": "code",
   "execution_count": 6,
   "id": "1eb8ed68",
   "metadata": {},
   "outputs": [],
   "source": [
    "train.drop(['Inherited from father','Maternal gene','Respiratory Rate (breaths/min)','Heart Rate (rates/min'],axis=1,inplace=True)\n",
    "test.drop(['Inherited from father','Maternal gene','Respiratory Rate (breaths/min)','Heart Rate (rates/min'],axis=1,inplace=True)"
   ]
  },
  {
   "cell_type": "code",
   "execution_count": 7,
   "id": "47dcd5a0",
   "metadata": {},
   "outputs": [
    {
     "name": "stdout",
     "output_type": "stream",
     "text": [
      "Genetic Disorder\n",
      "Disorder Subclass\n"
     ]
    }
   ],
   "source": [
    "for i in train.columns:\n",
    "    if(i not in test.columns):\n",
    "        print(i)"
   ]
  },
  {
   "cell_type": "code",
   "execution_count": 8,
   "id": "5a857dac",
   "metadata": {},
   "outputs": [
    {
     "data": {
      "text/html": [
       "<div>\n",
       "<style scoped>\n",
       "    .dataframe tbody tr th:only-of-type {\n",
       "        vertical-align: middle;\n",
       "    }\n",
       "\n",
       "    .dataframe tbody tr th {\n",
       "        vertical-align: top;\n",
       "    }\n",
       "\n",
       "    .dataframe thead th {\n",
       "        text-align: right;\n",
       "    }\n",
       "</style>\n",
       "<table border=\"1\" class=\"dataframe\">\n",
       "  <thead>\n",
       "    <tr style=\"text-align: right;\">\n",
       "      <th></th>\n",
       "      <th>Patient Id</th>\n",
       "      <th>Patient Age</th>\n",
       "      <th>Genes in mother's side</th>\n",
       "      <th>Paternal gene</th>\n",
       "      <th>Blood cell count (mcL)</th>\n",
       "      <th>Patient First Name</th>\n",
       "      <th>Family Name</th>\n",
       "      <th>Father's name</th>\n",
       "      <th>Mother's age</th>\n",
       "      <th>Father's age</th>\n",
       "      <th>Institute Name</th>\n",
       "      <th>Location of Institute</th>\n",
       "      <th>Status</th>\n",
       "      <th>Test 1</th>\n",
       "      <th>Test 2</th>\n",
       "      <th>Test 3</th>\n",
       "      <th>Test 4</th>\n",
       "      <th>Test 5</th>\n",
       "      <th>Parental consent</th>\n",
       "      <th>Follow-up</th>\n",
       "      <th>Gender</th>\n",
       "      <th>Birth asphyxia</th>\n",
       "      <th>Autopsy shows birth defect (if applicable)</th>\n",
       "      <th>Place of birth</th>\n",
       "      <th>Folic acid details (peri-conceptional)</th>\n",
       "      <th>H/O serious maternal illness</th>\n",
       "      <th>H/O radiation exposure (x-ray)</th>\n",
       "      <th>H/O substance abuse</th>\n",
       "      <th>Assisted conception IVF/ART</th>\n",
       "      <th>History of anomalies in previous pregnancies</th>\n",
       "      <th>No. of previous abortion</th>\n",
       "      <th>Birth defects</th>\n",
       "      <th>White Blood cell count (thousand per microliter)</th>\n",
       "      <th>Blood test result</th>\n",
       "      <th>Symptom 1</th>\n",
       "      <th>Symptom 2</th>\n",
       "      <th>Symptom 3</th>\n",
       "      <th>Symptom 4</th>\n",
       "      <th>Symptom 5</th>\n",
       "      <th>Genetic Disorder</th>\n",
       "      <th>Disorder Subclass</th>\n",
       "    </tr>\n",
       "  </thead>\n",
       "  <tbody>\n",
       "    <tr>\n",
       "      <th>0</th>\n",
       "      <td>PID0x6418</td>\n",
       "      <td>2.0</td>\n",
       "      <td>Yes</td>\n",
       "      <td>No</td>\n",
       "      <td>4.760603</td>\n",
       "      <td>Richard</td>\n",
       "      <td>NaN</td>\n",
       "      <td>Larre</td>\n",
       "      <td>NaN</td>\n",
       "      <td>NaN</td>\n",
       "      <td>Boston Specialty &amp; Rehabilitation Hospital</td>\n",
       "      <td>55 FRUIT ST\\nCENTRAL, MA 02114\\n(42.3624748574...</td>\n",
       "      <td>Alive</td>\n",
       "      <td>0.0</td>\n",
       "      <td>NaN</td>\n",
       "      <td>NaN</td>\n",
       "      <td>1.0</td>\n",
       "      <td>0.0</td>\n",
       "      <td>Yes</td>\n",
       "      <td>High</td>\n",
       "      <td>NaN</td>\n",
       "      <td>NaN</td>\n",
       "      <td>Not applicable</td>\n",
       "      <td>Institute</td>\n",
       "      <td>No</td>\n",
       "      <td>NaN</td>\n",
       "      <td>No</td>\n",
       "      <td>No</td>\n",
       "      <td>No</td>\n",
       "      <td>Yes</td>\n",
       "      <td>NaN</td>\n",
       "      <td>NaN</td>\n",
       "      <td>9.857562</td>\n",
       "      <td>NaN</td>\n",
       "      <td>1.0</td>\n",
       "      <td>1.0</td>\n",
       "      <td>1.0</td>\n",
       "      <td>1.0</td>\n",
       "      <td>1.0</td>\n",
       "      <td>Mitochondrial genetic inheritance disorders</td>\n",
       "      <td>Leber's hereditary optic neuropathy</td>\n",
       "    </tr>\n",
       "    <tr>\n",
       "      <th>1</th>\n",
       "      <td>PID0x25d5</td>\n",
       "      <td>4.0</td>\n",
       "      <td>Yes</td>\n",
       "      <td>No</td>\n",
       "      <td>4.910669</td>\n",
       "      <td>Mike</td>\n",
       "      <td>NaN</td>\n",
       "      <td>Brycen</td>\n",
       "      <td>NaN</td>\n",
       "      <td>23.0</td>\n",
       "      <td>St. Margaret's Hospital For Women</td>\n",
       "      <td>1515 COMMONWEALTH AV\\nALLSTON/BRIGHTON, MA 021...</td>\n",
       "      <td>Deceased</td>\n",
       "      <td>NaN</td>\n",
       "      <td>0.0</td>\n",
       "      <td>0.0</td>\n",
       "      <td>1.0</td>\n",
       "      <td>0.0</td>\n",
       "      <td>Yes</td>\n",
       "      <td>High</td>\n",
       "      <td>NaN</td>\n",
       "      <td>No</td>\n",
       "      <td>None</td>\n",
       "      <td>NaN</td>\n",
       "      <td>Yes</td>\n",
       "      <td>Yes</td>\n",
       "      <td>Not applicable</td>\n",
       "      <td>Not applicable</td>\n",
       "      <td>No</td>\n",
       "      <td>Yes</td>\n",
       "      <td>NaN</td>\n",
       "      <td>Multiple</td>\n",
       "      <td>5.522560</td>\n",
       "      <td>normal</td>\n",
       "      <td>1.0</td>\n",
       "      <td>NaN</td>\n",
       "      <td>1.0</td>\n",
       "      <td>1.0</td>\n",
       "      <td>0.0</td>\n",
       "      <td>NaN</td>\n",
       "      <td>Cystic fibrosis</td>\n",
       "    </tr>\n",
       "    <tr>\n",
       "      <th>2</th>\n",
       "      <td>PID0x4a82</td>\n",
       "      <td>6.0</td>\n",
       "      <td>Yes</td>\n",
       "      <td>No</td>\n",
       "      <td>4.893297</td>\n",
       "      <td>Kimberly</td>\n",
       "      <td>NaN</td>\n",
       "      <td>Nashon</td>\n",
       "      <td>41.0</td>\n",
       "      <td>22.0</td>\n",
       "      <td>NaN</td>\n",
       "      <td>-</td>\n",
       "      <td>Alive</td>\n",
       "      <td>0.0</td>\n",
       "      <td>0.0</td>\n",
       "      <td>0.0</td>\n",
       "      <td>1.0</td>\n",
       "      <td>0.0</td>\n",
       "      <td>Yes</td>\n",
       "      <td>Low</td>\n",
       "      <td>NaN</td>\n",
       "      <td>No record</td>\n",
       "      <td>Not applicable</td>\n",
       "      <td>NaN</td>\n",
       "      <td>Yes</td>\n",
       "      <td>No</td>\n",
       "      <td>Yes</td>\n",
       "      <td>NaN</td>\n",
       "      <td>Yes</td>\n",
       "      <td>Yes</td>\n",
       "      <td>4.0</td>\n",
       "      <td>Singular</td>\n",
       "      <td>NaN</td>\n",
       "      <td>normal</td>\n",
       "      <td>0.0</td>\n",
       "      <td>1.0</td>\n",
       "      <td>1.0</td>\n",
       "      <td>1.0</td>\n",
       "      <td>1.0</td>\n",
       "      <td>Multifactorial genetic inheritance disorders</td>\n",
       "      <td>Diabetes</td>\n",
       "    </tr>\n",
       "    <tr>\n",
       "      <th>3</th>\n",
       "      <td>PID0x4ac8</td>\n",
       "      <td>12.0</td>\n",
       "      <td>Yes</td>\n",
       "      <td>No</td>\n",
       "      <td>4.705280</td>\n",
       "      <td>Jeffery</td>\n",
       "      <td>Hoelscher</td>\n",
       "      <td>Aayaan</td>\n",
       "      <td>21.0</td>\n",
       "      <td>NaN</td>\n",
       "      <td>NaN</td>\n",
       "      <td>55 FRUIT ST\\nCENTRAL, MA 02114\\n(42.3624748574...</td>\n",
       "      <td>Deceased</td>\n",
       "      <td>0.0</td>\n",
       "      <td>0.0</td>\n",
       "      <td>0.0</td>\n",
       "      <td>1.0</td>\n",
       "      <td>0.0</td>\n",
       "      <td>Yes</td>\n",
       "      <td>High</td>\n",
       "      <td>Male</td>\n",
       "      <td>Not available</td>\n",
       "      <td>No</td>\n",
       "      <td>Institute</td>\n",
       "      <td>No</td>\n",
       "      <td>Yes</td>\n",
       "      <td>-</td>\n",
       "      <td>Not applicable</td>\n",
       "      <td>NaN</td>\n",
       "      <td>Yes</td>\n",
       "      <td>1.0</td>\n",
       "      <td>Singular</td>\n",
       "      <td>7.919321</td>\n",
       "      <td>inconclusive</td>\n",
       "      <td>0.0</td>\n",
       "      <td>0.0</td>\n",
       "      <td>1.0</td>\n",
       "      <td>0.0</td>\n",
       "      <td>0.0</td>\n",
       "      <td>Mitochondrial genetic inheritance disorders</td>\n",
       "      <td>Leigh syndrome</td>\n",
       "    </tr>\n",
       "    <tr>\n",
       "      <th>4</th>\n",
       "      <td>PID0x1bf7</td>\n",
       "      <td>11.0</td>\n",
       "      <td>Yes</td>\n",
       "      <td>Yes</td>\n",
       "      <td>4.720703</td>\n",
       "      <td>Johanna</td>\n",
       "      <td>Stutzman</td>\n",
       "      <td>Suave</td>\n",
       "      <td>32.0</td>\n",
       "      <td>NaN</td>\n",
       "      <td>Carney Hospital</td>\n",
       "      <td>300 LONGWOOD AV\\nFENWAY/KENMORE, MA 02115\\n(42...</td>\n",
       "      <td>Alive</td>\n",
       "      <td>0.0</td>\n",
       "      <td>0.0</td>\n",
       "      <td>0.0</td>\n",
       "      <td>1.0</td>\n",
       "      <td>0.0</td>\n",
       "      <td>NaN</td>\n",
       "      <td>Low</td>\n",
       "      <td>Male</td>\n",
       "      <td>Not available</td>\n",
       "      <td>Not applicable</td>\n",
       "      <td>Institute</td>\n",
       "      <td>No</td>\n",
       "      <td>Yes</td>\n",
       "      <td>-</td>\n",
       "      <td>Not applicable</td>\n",
       "      <td>Yes</td>\n",
       "      <td>No</td>\n",
       "      <td>4.0</td>\n",
       "      <td>Multiple</td>\n",
       "      <td>4.098210</td>\n",
       "      <td>NaN</td>\n",
       "      <td>0.0</td>\n",
       "      <td>0.0</td>\n",
       "      <td>0.0</td>\n",
       "      <td>0.0</td>\n",
       "      <td>NaN</td>\n",
       "      <td>Multifactorial genetic inheritance disorders</td>\n",
       "      <td>Cancer</td>\n",
       "    </tr>\n",
       "  </tbody>\n",
       "</table>\n",
       "</div>"
      ],
      "text/plain": [
       "  Patient Id  Patient Age Genes in mother's side Paternal gene  \\\n",
       "0  PID0x6418          2.0                    Yes            No   \n",
       "1  PID0x25d5          4.0                    Yes            No   \n",
       "2  PID0x4a82          6.0                    Yes            No   \n",
       "3  PID0x4ac8         12.0                    Yes            No   \n",
       "4  PID0x1bf7         11.0                    Yes           Yes   \n",
       "\n",
       "   Blood cell count (mcL) Patient First Name Family Name Father's name  \\\n",
       "0                4.760603            Richard         NaN         Larre   \n",
       "1                4.910669               Mike         NaN        Brycen   \n",
       "2                4.893297           Kimberly         NaN        Nashon   \n",
       "3                4.705280            Jeffery   Hoelscher        Aayaan   \n",
       "4                4.720703            Johanna    Stutzman         Suave   \n",
       "\n",
       "   Mother's age  Father's age                              Institute Name  \\\n",
       "0           NaN           NaN  Boston Specialty & Rehabilitation Hospital   \n",
       "1           NaN          23.0           St. Margaret's Hospital For Women   \n",
       "2          41.0          22.0                                         NaN   \n",
       "3          21.0           NaN                                         NaN   \n",
       "4          32.0           NaN                             Carney Hospital   \n",
       "\n",
       "                               Location of Institute    Status  Test 1  \\\n",
       "0  55 FRUIT ST\\nCENTRAL, MA 02114\\n(42.3624748574...     Alive     0.0   \n",
       "1  1515 COMMONWEALTH AV\\nALLSTON/BRIGHTON, MA 021...  Deceased     NaN   \n",
       "2                                                  -     Alive     0.0   \n",
       "3  55 FRUIT ST\\nCENTRAL, MA 02114\\n(42.3624748574...  Deceased     0.0   \n",
       "4  300 LONGWOOD AV\\nFENWAY/KENMORE, MA 02115\\n(42...     Alive     0.0   \n",
       "\n",
       "   Test 2  Test 3  Test 4  Test 5 Parental consent Follow-up Gender  \\\n",
       "0     NaN     NaN     1.0     0.0              Yes      High    NaN   \n",
       "1     0.0     0.0     1.0     0.0              Yes      High    NaN   \n",
       "2     0.0     0.0     1.0     0.0              Yes       Low    NaN   \n",
       "3     0.0     0.0     1.0     0.0              Yes      High   Male   \n",
       "4     0.0     0.0     1.0     0.0              NaN       Low   Male   \n",
       "\n",
       "  Birth asphyxia Autopsy shows birth defect (if applicable) Place of birth  \\\n",
       "0            NaN                             Not applicable      Institute   \n",
       "1             No                                       None            NaN   \n",
       "2      No record                             Not applicable            NaN   \n",
       "3  Not available                                         No      Institute   \n",
       "4  Not available                             Not applicable      Institute   \n",
       "\n",
       "  Folic acid details (peri-conceptional) H/O serious maternal illness  \\\n",
       "0                                     No                          NaN   \n",
       "1                                    Yes                          Yes   \n",
       "2                                    Yes                           No   \n",
       "3                                     No                          Yes   \n",
       "4                                     No                          Yes   \n",
       "\n",
       "  H/O radiation exposure (x-ray) H/O substance abuse  \\\n",
       "0                             No                  No   \n",
       "1                 Not applicable      Not applicable   \n",
       "2                            Yes                 NaN   \n",
       "3                              -      Not applicable   \n",
       "4                              -      Not applicable   \n",
       "\n",
       "  Assisted conception IVF/ART History of anomalies in previous pregnancies  \\\n",
       "0                          No                                          Yes   \n",
       "1                          No                                          Yes   \n",
       "2                         Yes                                          Yes   \n",
       "3                         NaN                                          Yes   \n",
       "4                         Yes                                           No   \n",
       "\n",
       "   No. of previous abortion Birth defects  \\\n",
       "0                       NaN           NaN   \n",
       "1                       NaN      Multiple   \n",
       "2                       4.0      Singular   \n",
       "3                       1.0      Singular   \n",
       "4                       4.0      Multiple   \n",
       "\n",
       "   White Blood cell count (thousand per microliter) Blood test result  \\\n",
       "0                                          9.857562               NaN   \n",
       "1                                          5.522560            normal   \n",
       "2                                               NaN            normal   \n",
       "3                                          7.919321      inconclusive   \n",
       "4                                          4.098210               NaN   \n",
       "\n",
       "   Symptom 1  Symptom 2  Symptom 3  Symptom 4  Symptom 5  \\\n",
       "0        1.0        1.0        1.0        1.0        1.0   \n",
       "1        1.0        NaN        1.0        1.0        0.0   \n",
       "2        0.0        1.0        1.0        1.0        1.0   \n",
       "3        0.0        0.0        1.0        0.0        0.0   \n",
       "4        0.0        0.0        0.0        0.0        NaN   \n",
       "\n",
       "                               Genetic Disorder  \\\n",
       "0   Mitochondrial genetic inheritance disorders   \n",
       "1                                           NaN   \n",
       "2  Multifactorial genetic inheritance disorders   \n",
       "3   Mitochondrial genetic inheritance disorders   \n",
       "4  Multifactorial genetic inheritance disorders   \n",
       "\n",
       "                     Disorder Subclass  \n",
       "0  Leber's hereditary optic neuropathy  \n",
       "1                      Cystic fibrosis  \n",
       "2                             Diabetes  \n",
       "3                       Leigh syndrome  \n",
       "4                               Cancer  "
      ]
     },
     "execution_count": 8,
     "metadata": {},
     "output_type": "execute_result"
    }
   ],
   "source": [
    "train.head()"
   ]
  },
  {
   "cell_type": "code",
   "execution_count": 9,
   "id": "74e3a4f3",
   "metadata": {},
   "outputs": [
    {
     "data": {
      "text/html": [
       "<div>\n",
       "<style scoped>\n",
       "    .dataframe tbody tr th:only-of-type {\n",
       "        vertical-align: middle;\n",
       "    }\n",
       "\n",
       "    .dataframe tbody tr th {\n",
       "        vertical-align: top;\n",
       "    }\n",
       "\n",
       "    .dataframe thead th {\n",
       "        text-align: right;\n",
       "    }\n",
       "</style>\n",
       "<table border=\"1\" class=\"dataframe\">\n",
       "  <thead>\n",
       "    <tr style=\"text-align: right;\">\n",
       "      <th></th>\n",
       "      <th>Patient Id</th>\n",
       "      <th>Patient Age</th>\n",
       "      <th>Genes in mother's side</th>\n",
       "      <th>Paternal gene</th>\n",
       "      <th>Blood cell count (mcL)</th>\n",
       "      <th>Patient First Name</th>\n",
       "      <th>Family Name</th>\n",
       "      <th>Father's name</th>\n",
       "      <th>Mother's age</th>\n",
       "      <th>Father's age</th>\n",
       "      <th>Institute Name</th>\n",
       "      <th>Location of Institute</th>\n",
       "      <th>Status</th>\n",
       "      <th>Test 1</th>\n",
       "      <th>Test 2</th>\n",
       "      <th>Test 3</th>\n",
       "      <th>Test 4</th>\n",
       "      <th>Test 5</th>\n",
       "      <th>Parental consent</th>\n",
       "      <th>Follow-up</th>\n",
       "      <th>Gender</th>\n",
       "      <th>Birth asphyxia</th>\n",
       "      <th>Autopsy shows birth defect (if applicable)</th>\n",
       "      <th>Place of birth</th>\n",
       "      <th>Folic acid details (peri-conceptional)</th>\n",
       "      <th>H/O serious maternal illness</th>\n",
       "      <th>H/O radiation exposure (x-ray)</th>\n",
       "      <th>H/O substance abuse</th>\n",
       "      <th>Assisted conception IVF/ART</th>\n",
       "      <th>History of anomalies in previous pregnancies</th>\n",
       "      <th>No. of previous abortion</th>\n",
       "      <th>Birth defects</th>\n",
       "      <th>White Blood cell count (thousand per microliter)</th>\n",
       "      <th>Blood test result</th>\n",
       "      <th>Symptom 1</th>\n",
       "      <th>Symptom 2</th>\n",
       "      <th>Symptom 3</th>\n",
       "      <th>Symptom 4</th>\n",
       "      <th>Symptom 5</th>\n",
       "    </tr>\n",
       "  </thead>\n",
       "  <tbody>\n",
       "    <tr>\n",
       "      <th>0</th>\n",
       "      <td>PID0x4175</td>\n",
       "      <td>6</td>\n",
       "      <td>No</td>\n",
       "      <td>No</td>\n",
       "      <td>4.981655</td>\n",
       "      <td>Charles</td>\n",
       "      <td>NaN</td>\n",
       "      <td>Kore</td>\n",
       "      <td>38</td>\n",
       "      <td>61</td>\n",
       "      <td>St. Elizabeth's Hospital</td>\n",
       "      <td>30 WARREN ST\\nALLSTON/BRIGHTON, MA 02134\\n(42....</td>\n",
       "      <td>Alive</td>\n",
       "      <td>0</td>\n",
       "      <td>-99</td>\n",
       "      <td>0</td>\n",
       "      <td>1</td>\n",
       "      <td>0</td>\n",
       "      <td>-99</td>\n",
       "      <td>Low</td>\n",
       "      <td>Male</td>\n",
       "      <td>Yes</td>\n",
       "      <td>Not applicable</td>\n",
       "      <td>Institute</td>\n",
       "      <td>Yes</td>\n",
       "      <td>No</td>\n",
       "      <td>Yes</td>\n",
       "      <td>-</td>\n",
       "      <td>No</td>\n",
       "      <td>-99</td>\n",
       "      <td>2</td>\n",
       "      <td>Multiple</td>\n",
       "      <td>-99.000000</td>\n",
       "      <td>slightly abnormal</td>\n",
       "      <td>True</td>\n",
       "      <td>True</td>\n",
       "      <td>True</td>\n",
       "      <td>True</td>\n",
       "      <td>True</td>\n",
       "    </tr>\n",
       "    <tr>\n",
       "      <th>1</th>\n",
       "      <td>PID0x21f5</td>\n",
       "      <td>10</td>\n",
       "      <td>Yes</td>\n",
       "      <td>Yes</td>\n",
       "      <td>5.118890</td>\n",
       "      <td>Catherine</td>\n",
       "      <td>NaN</td>\n",
       "      <td>Homero</td>\n",
       "      <td>33</td>\n",
       "      <td>53</td>\n",
       "      <td>-99</td>\n",
       "      <td>249 RIVER ST\\nMATTAPAN, MA 02126\\n(42.27137912...</td>\n",
       "      <td>Alive</td>\n",
       "      <td>0</td>\n",
       "      <td>0</td>\n",
       "      <td>-99</td>\n",
       "      <td>1</td>\n",
       "      <td>-99</td>\n",
       "      <td>Yes</td>\n",
       "      <td>Low</td>\n",
       "      <td>Male</td>\n",
       "      <td>Yes</td>\n",
       "      <td>Not applicable</td>\n",
       "      <td>-99</td>\n",
       "      <td>Yes</td>\n",
       "      <td>No</td>\n",
       "      <td>-99</td>\n",
       "      <td>-99</td>\n",
       "      <td>No</td>\n",
       "      <td>Yes</td>\n",
       "      <td>-99</td>\n",
       "      <td>Multiple</td>\n",
       "      <td>8.179584</td>\n",
       "      <td>normal</td>\n",
       "      <td>False</td>\n",
       "      <td>False</td>\n",
       "      <td>False</td>\n",
       "      <td>True</td>\n",
       "      <td>False</td>\n",
       "    </tr>\n",
       "    <tr>\n",
       "      <th>2</th>\n",
       "      <td>PID0x49b8</td>\n",
       "      <td>5</td>\n",
       "      <td>No</td>\n",
       "      <td>No</td>\n",
       "      <td>4.876204</td>\n",
       "      <td>James</td>\n",
       "      <td>NaN</td>\n",
       "      <td>Danield</td>\n",
       "      <td>48</td>\n",
       "      <td>60</td>\n",
       "      <td>NaN</td>\n",
       "      <td>1400 VFW Parkway\\nWest Roxbury, MA 02132\\n(42....</td>\n",
       "      <td>Deceased</td>\n",
       "      <td>0</td>\n",
       "      <td>0</td>\n",
       "      <td>0</td>\n",
       "      <td>1</td>\n",
       "      <td>0</td>\n",
       "      <td>-99</td>\n",
       "      <td>Low</td>\n",
       "      <td>Ambiguous</td>\n",
       "      <td>Not available</td>\n",
       "      <td>-99</td>\n",
       "      <td>Institute</td>\n",
       "      <td>No</td>\n",
       "      <td>Yes</td>\n",
       "      <td>Yes</td>\n",
       "      <td>Yes</td>\n",
       "      <td>Yes</td>\n",
       "      <td>No</td>\n",
       "      <td>0</td>\n",
       "      <td>Singular</td>\n",
       "      <td>-99.000000</td>\n",
       "      <td>slightly abnormal</td>\n",
       "      <td>False</td>\n",
       "      <td>False</td>\n",
       "      <td>True</td>\n",
       "      <td>True</td>\n",
       "      <td>False</td>\n",
       "    </tr>\n",
       "    <tr>\n",
       "      <th>3</th>\n",
       "      <td>PID0x2d97</td>\n",
       "      <td>13</td>\n",
       "      <td>No</td>\n",
       "      <td>No</td>\n",
       "      <td>4.687767</td>\n",
       "      <td>Brian</td>\n",
       "      <td>NaN</td>\n",
       "      <td>Orville</td>\n",
       "      <td>25</td>\n",
       "      <td>55</td>\n",
       "      <td>Boston Specialty &amp; Rehabilitation Hospital</td>\n",
       "      <td>51 BLOSSOM ST\\nCENTRAL, MA 02114\\n(42.36327718...</td>\n",
       "      <td>Alive</td>\n",
       "      <td>0</td>\n",
       "      <td>0</td>\n",
       "      <td>0</td>\n",
       "      <td>1</td>\n",
       "      <td>0</td>\n",
       "      <td>-99</td>\n",
       "      <td>Low</td>\n",
       "      <td>Ambiguous</td>\n",
       "      <td>No</td>\n",
       "      <td>Not applicable</td>\n",
       "      <td>-99</td>\n",
       "      <td>Yes</td>\n",
       "      <td>Yes</td>\n",
       "      <td>-</td>\n",
       "      <td>-99</td>\n",
       "      <td>-99</td>\n",
       "      <td>Yes</td>\n",
       "      <td>-99</td>\n",
       "      <td>Singular</td>\n",
       "      <td>6.884071</td>\n",
       "      <td>normal</td>\n",
       "      <td>True</td>\n",
       "      <td>False</td>\n",
       "      <td>True</td>\n",
       "      <td>False</td>\n",
       "      <td>True</td>\n",
       "    </tr>\n",
       "    <tr>\n",
       "      <th>4</th>\n",
       "      <td>PID0x58da</td>\n",
       "      <td>5</td>\n",
       "      <td>No</td>\n",
       "      <td>Yes</td>\n",
       "      <td>5.152362</td>\n",
       "      <td>Gary</td>\n",
       "      <td>NaN</td>\n",
       "      <td>Issiah</td>\n",
       "      <td>41</td>\n",
       "      <td>38</td>\n",
       "      <td>Not applicable</td>\n",
       "      <td>-</td>\n",
       "      <td>Deceased</td>\n",
       "      <td>0</td>\n",
       "      <td>0</td>\n",
       "      <td>0</td>\n",
       "      <td>1</td>\n",
       "      <td>0</td>\n",
       "      <td>Yes</td>\n",
       "      <td>Low</td>\n",
       "      <td>Ambiguous</td>\n",
       "      <td>No</td>\n",
       "      <td>None</td>\n",
       "      <td>Home</td>\n",
       "      <td>Yes</td>\n",
       "      <td>Yes</td>\n",
       "      <td>Yes</td>\n",
       "      <td>Not applicable</td>\n",
       "      <td>No</td>\n",
       "      <td>No</td>\n",
       "      <td>-99</td>\n",
       "      <td>Multiple</td>\n",
       "      <td>6.195178</td>\n",
       "      <td>normal</td>\n",
       "      <td>True</td>\n",
       "      <td>True</td>\n",
       "      <td>True</td>\n",
       "      <td>True</td>\n",
       "      <td>False</td>\n",
       "    </tr>\n",
       "  </tbody>\n",
       "</table>\n",
       "</div>"
      ],
      "text/plain": [
       "  Patient Id  Patient Age Genes in mother's side Paternal gene  \\\n",
       "0  PID0x4175            6                     No            No   \n",
       "1  PID0x21f5           10                    Yes           Yes   \n",
       "2  PID0x49b8            5                     No            No   \n",
       "3  PID0x2d97           13                     No            No   \n",
       "4  PID0x58da            5                     No           Yes   \n",
       "\n",
       "   Blood cell count (mcL) Patient First Name Family Name Father's name  \\\n",
       "0                4.981655            Charles         NaN          Kore   \n",
       "1                5.118890          Catherine         NaN        Homero   \n",
       "2                4.876204              James         NaN       Danield   \n",
       "3                4.687767              Brian         NaN       Orville   \n",
       "4                5.152362               Gary         NaN        Issiah   \n",
       "\n",
       "   Mother's age  Father's age                              Institute Name  \\\n",
       "0            38            61                    St. Elizabeth's Hospital   \n",
       "1            33            53                                         -99   \n",
       "2            48            60                                         NaN   \n",
       "3            25            55  Boston Specialty & Rehabilitation Hospital   \n",
       "4            41            38                              Not applicable   \n",
       "\n",
       "                               Location of Institute    Status  Test 1  \\\n",
       "0  30 WARREN ST\\nALLSTON/BRIGHTON, MA 02134\\n(42....     Alive       0   \n",
       "1  249 RIVER ST\\nMATTAPAN, MA 02126\\n(42.27137912...     Alive       0   \n",
       "2  1400 VFW Parkway\\nWest Roxbury, MA 02132\\n(42....  Deceased       0   \n",
       "3  51 BLOSSOM ST\\nCENTRAL, MA 02114\\n(42.36327718...     Alive       0   \n",
       "4                                                  -  Deceased       0   \n",
       "\n",
       "   Test 2  Test 3  Test 4  Test 5 Parental consent Follow-up     Gender  \\\n",
       "0     -99       0       1       0              -99       Low       Male   \n",
       "1       0     -99       1     -99              Yes       Low       Male   \n",
       "2       0       0       1       0              -99       Low  Ambiguous   \n",
       "3       0       0       1       0              -99       Low  Ambiguous   \n",
       "4       0       0       1       0              Yes       Low  Ambiguous   \n",
       "\n",
       "  Birth asphyxia Autopsy shows birth defect (if applicable) Place of birth  \\\n",
       "0            Yes                             Not applicable      Institute   \n",
       "1            Yes                             Not applicable            -99   \n",
       "2  Not available                                        -99      Institute   \n",
       "3             No                             Not applicable            -99   \n",
       "4             No                                       None           Home   \n",
       "\n",
       "  Folic acid details (peri-conceptional) H/O serious maternal illness  \\\n",
       "0                                    Yes                           No   \n",
       "1                                    Yes                           No   \n",
       "2                                     No                          Yes   \n",
       "3                                    Yes                          Yes   \n",
       "4                                    Yes                          Yes   \n",
       "\n",
       "  H/O radiation exposure (x-ray) H/O substance abuse  \\\n",
       "0                            Yes                   -   \n",
       "1                            -99                 -99   \n",
       "2                            Yes                 Yes   \n",
       "3                              -                 -99   \n",
       "4                            Yes      Not applicable   \n",
       "\n",
       "  Assisted conception IVF/ART History of anomalies in previous pregnancies  \\\n",
       "0                          No                                          -99   \n",
       "1                          No                                          Yes   \n",
       "2                         Yes                                           No   \n",
       "3                         -99                                          Yes   \n",
       "4                          No                                           No   \n",
       "\n",
       "   No. of previous abortion Birth defects  \\\n",
       "0                         2      Multiple   \n",
       "1                       -99      Multiple   \n",
       "2                         0      Singular   \n",
       "3                       -99      Singular   \n",
       "4                       -99      Multiple   \n",
       "\n",
       "   White Blood cell count (thousand per microliter)  Blood test result  \\\n",
       "0                                        -99.000000  slightly abnormal   \n",
       "1                                          8.179584             normal   \n",
       "2                                        -99.000000  slightly abnormal   \n",
       "3                                          6.884071             normal   \n",
       "4                                          6.195178             normal   \n",
       "\n",
       "   Symptom 1  Symptom 2  Symptom 3  Symptom 4  Symptom 5  \n",
       "0       True       True       True       True       True  \n",
       "1      False      False      False       True      False  \n",
       "2      False      False       True       True      False  \n",
       "3       True      False       True      False       True  \n",
       "4       True       True       True       True      False  "
      ]
     },
     "execution_count": 9,
     "metadata": {},
     "output_type": "execute_result"
    }
   ],
   "source": [
    "test.head()"
   ]
  },
  {
   "cell_type": "code",
   "execution_count": 10,
   "id": "58e68f74",
   "metadata": {},
   "outputs": [],
   "source": [
    "### removing the unneccessary columns :\n",
    "train.drop(['Patient Id','Patient First Name','Family Name',\"Father's name\"\n",
    "            ,\"Institute Name\",'Location of Institute','Parental consent','Place of birth'],axis=1,inplace=True)\n",
    "test.drop(['Patient Id','Patient First Name','Family Name',\"Father's name\"\n",
    "            ,\"Institute Name\",'Location of Institute','Parental consent','Place of birth'],axis=1,inplace=True)"
   ]
  },
  {
   "cell_type": "code",
   "execution_count": 11,
   "id": "d0d3224f",
   "metadata": {},
   "outputs": [
    {
     "name": "stdout",
     "output_type": "stream",
     "text": [
      "<class 'pandas.core.frame.DataFrame'>\n",
      "RangeIndex: 22083 entries, 0 to 22082\n",
      "Data columns (total 33 columns):\n",
      " #   Column                                            Non-Null Count  Dtype  \n",
      "---  ------                                            --------------  -----  \n",
      " 0   Patient Age                                       20656 non-null  float64\n",
      " 1   Genes in mother's side                            22083 non-null  object \n",
      " 2   Paternal gene                                     22083 non-null  object \n",
      " 3   Blood cell count (mcL)                            22083 non-null  float64\n",
      " 4   Mother's age                                      16047 non-null  float64\n",
      " 5   Father's age                                      16097 non-null  float64\n",
      " 6   Status                                            22083 non-null  object \n",
      " 7   Test 1                                            19956 non-null  float64\n",
      " 8   Test 2                                            19931 non-null  float64\n",
      " 9   Test 3                                            19936 non-null  float64\n",
      " 10  Test 4                                            19943 non-null  float64\n",
      " 11  Test 5                                            19913 non-null  float64\n",
      " 12  Follow-up                                         19917 non-null  object \n",
      " 13  Gender                                            19910 non-null  object \n",
      " 14  Birth asphyxia                                    19944 non-null  object \n",
      " 15  Autopsy shows birth defect (if applicable)        21057 non-null  object \n",
      " 16  Folic acid details (peri-conceptional)            19966 non-null  object \n",
      " 17  H/O serious maternal illness                      19931 non-null  object \n",
      " 18  H/O radiation exposure (x-ray)                    19930 non-null  object \n",
      " 19  H/O substance abuse                               19888 non-null  object \n",
      " 20  Assisted conception IVF/ART                       19961 non-null  object \n",
      " 21  History of anomalies in previous pregnancies      19911 non-null  object \n",
      " 22  No. of previous abortion                          19921 non-null  float64\n",
      " 23  Birth defects                                     19929 non-null  object \n",
      " 24  White Blood cell count (thousand per microliter)  19935 non-null  float64\n",
      " 25  Blood test result                                 19938 non-null  object \n",
      " 26  Symptom 1                                         19928 non-null  float64\n",
      " 27  Symptom 2                                         19861 non-null  float64\n",
      " 28  Symptom 3                                         19982 non-null  float64\n",
      " 29  Symptom 4                                         19970 non-null  float64\n",
      " 30  Symptom 5                                         19930 non-null  float64\n",
      " 31  Genetic Disorder                                  19937 non-null  object \n",
      " 32  Disorder Subclass                                 19915 non-null  object \n",
      "dtypes: float64(16), object(17)\n",
      "memory usage: 5.6+ MB\n"
     ]
    }
   ],
   "source": [
    "train.info()"
   ]
  },
  {
   "cell_type": "code",
   "execution_count": 12,
   "id": "1f7a89b6",
   "metadata": {},
   "outputs": [
    {
     "data": {
      "text/plain": [
       "[\"Genes in mother's side\",\n",
       " 'Paternal gene',\n",
       " 'Status',\n",
       " 'Follow-up',\n",
       " 'Autopsy shows birth defect (if applicable)',\n",
       " 'Folic acid details (peri-conceptional)',\n",
       " 'H/O radiation exposure (x-ray)',\n",
       " 'H/O substance abuse',\n",
       " 'Assisted conception IVF/ART',\n",
       " 'History of anomalies in previous pregnancies',\n",
       " 'Genetic Disorder',\n",
       " 'Disorder Subclass']"
      ]
     },
     "execution_count": 12,
     "metadata": {},
     "output_type": "execute_result"
    }
   ],
   "source": [
    "a = []\n",
    "for i in train.columns:\n",
    "    if(type(train[i][0])==str):\n",
    "        a.append(i)\n",
    "a"
   ]
  },
  {
   "cell_type": "code",
   "execution_count": 13,
   "id": "67410059",
   "metadata": {},
   "outputs": [
    {
     "data": {
      "text/html": [
       "<div>\n",
       "<style scoped>\n",
       "    .dataframe tbody tr th:only-of-type {\n",
       "        vertical-align: middle;\n",
       "    }\n",
       "\n",
       "    .dataframe tbody tr th {\n",
       "        vertical-align: top;\n",
       "    }\n",
       "\n",
       "    .dataframe thead th {\n",
       "        text-align: right;\n",
       "    }\n",
       "</style>\n",
       "<table border=\"1\" class=\"dataframe\">\n",
       "  <thead>\n",
       "    <tr style=\"text-align: right;\">\n",
       "      <th></th>\n",
       "      <th>Genes in mother's side</th>\n",
       "      <th>Paternal gene</th>\n",
       "      <th>Status</th>\n",
       "      <th>Follow-up</th>\n",
       "      <th>Autopsy shows birth defect (if applicable)</th>\n",
       "      <th>Folic acid details (peri-conceptional)</th>\n",
       "      <th>H/O radiation exposure (x-ray)</th>\n",
       "      <th>H/O substance abuse</th>\n",
       "      <th>Assisted conception IVF/ART</th>\n",
       "      <th>History of anomalies in previous pregnancies</th>\n",
       "      <th>Genetic Disorder</th>\n",
       "      <th>Disorder Subclass</th>\n",
       "    </tr>\n",
       "  </thead>\n",
       "  <tbody>\n",
       "    <tr>\n",
       "      <th>0</th>\n",
       "      <td>Yes</td>\n",
       "      <td>No</td>\n",
       "      <td>Alive</td>\n",
       "      <td>High</td>\n",
       "      <td>Not applicable</td>\n",
       "      <td>No</td>\n",
       "      <td>No</td>\n",
       "      <td>No</td>\n",
       "      <td>No</td>\n",
       "      <td>Yes</td>\n",
       "      <td>Mitochondrial genetic inheritance disorders</td>\n",
       "      <td>Leber's hereditary optic neuropathy</td>\n",
       "    </tr>\n",
       "    <tr>\n",
       "      <th>1</th>\n",
       "      <td>Yes</td>\n",
       "      <td>No</td>\n",
       "      <td>Deceased</td>\n",
       "      <td>High</td>\n",
       "      <td>None</td>\n",
       "      <td>Yes</td>\n",
       "      <td>Not applicable</td>\n",
       "      <td>Not applicable</td>\n",
       "      <td>No</td>\n",
       "      <td>Yes</td>\n",
       "      <td>NaN</td>\n",
       "      <td>Cystic fibrosis</td>\n",
       "    </tr>\n",
       "  </tbody>\n",
       "</table>\n",
       "</div>"
      ],
      "text/plain": [
       "  Genes in mother's side Paternal gene    Status Follow-up  \\\n",
       "0                    Yes            No     Alive      High   \n",
       "1                    Yes            No  Deceased      High   \n",
       "\n",
       "  Autopsy shows birth defect (if applicable)  \\\n",
       "0                             Not applicable   \n",
       "1                                       None   \n",
       "\n",
       "  Folic acid details (peri-conceptional) H/O radiation exposure (x-ray)  \\\n",
       "0                                     No                             No   \n",
       "1                                    Yes                 Not applicable   \n",
       "\n",
       "  H/O substance abuse Assisted conception IVF/ART  \\\n",
       "0                  No                          No   \n",
       "1      Not applicable                          No   \n",
       "\n",
       "  History of anomalies in previous pregnancies  \\\n",
       "0                                          Yes   \n",
       "1                                          Yes   \n",
       "\n",
       "                              Genetic Disorder  \\\n",
       "0  Mitochondrial genetic inheritance disorders   \n",
       "1                                          NaN   \n",
       "\n",
       "                     Disorder Subclass  \n",
       "0  Leber's hereditary optic neuropathy  \n",
       "1                      Cystic fibrosis  "
      ]
     },
     "execution_count": 13,
     "metadata": {},
     "output_type": "execute_result"
    }
   ],
   "source": [
    "train[a].head(2)"
   ]
  },
  {
   "cell_type": "code",
   "execution_count": 14,
   "id": "3a2e6336",
   "metadata": {},
   "outputs": [],
   "source": [
    "def onezero(x):\n",
    "    if(type(x)==str):\n",
    "        return 1 if x.lower() == 'yes' else 0\n",
    "    else:\n",
    "        return x"
   ]
  },
  {
   "cell_type": "code",
   "execution_count": 15,
   "id": "9585ce5d",
   "metadata": {},
   "outputs": [],
   "source": [
    "train['Genes in mother\\'s side'] = train['Genes in mother\\'s side'].map(onezero)\n",
    "train['Paternal gene'] = train['Paternal gene'].map(onezero)\n",
    "test['Genes in mother\\'s side'] = test['Genes in mother\\'s side'].map(onezero)\n",
    "test['Paternal gene'] = test['Paternal gene'].map(onezero)"
   ]
  },
  {
   "cell_type": "code",
   "execution_count": 16,
   "id": "c3d4b527",
   "metadata": {},
   "outputs": [
    {
     "data": {
      "text/html": [
       "<div>\n",
       "<style scoped>\n",
       "    .dataframe tbody tr th:only-of-type {\n",
       "        vertical-align: middle;\n",
       "    }\n",
       "\n",
       "    .dataframe tbody tr th {\n",
       "        vertical-align: top;\n",
       "    }\n",
       "\n",
       "    .dataframe thead th {\n",
       "        text-align: right;\n",
       "    }\n",
       "</style>\n",
       "<table border=\"1\" class=\"dataframe\">\n",
       "  <thead>\n",
       "    <tr style=\"text-align: right;\">\n",
       "      <th></th>\n",
       "      <th>Patient Age</th>\n",
       "      <th>Genes in mother's side</th>\n",
       "      <th>Paternal gene</th>\n",
       "      <th>Blood cell count (mcL)</th>\n",
       "      <th>Mother's age</th>\n",
       "      <th>Father's age</th>\n",
       "      <th>Status</th>\n",
       "      <th>Test 1</th>\n",
       "      <th>Test 2</th>\n",
       "      <th>Test 3</th>\n",
       "      <th>Test 4</th>\n",
       "      <th>Test 5</th>\n",
       "      <th>Follow-up</th>\n",
       "      <th>Gender</th>\n",
       "      <th>Birth asphyxia</th>\n",
       "      <th>Autopsy shows birth defect (if applicable)</th>\n",
       "      <th>Folic acid details (peri-conceptional)</th>\n",
       "      <th>H/O serious maternal illness</th>\n",
       "      <th>H/O radiation exposure (x-ray)</th>\n",
       "      <th>H/O substance abuse</th>\n",
       "      <th>Assisted conception IVF/ART</th>\n",
       "      <th>History of anomalies in previous pregnancies</th>\n",
       "      <th>No. of previous abortion</th>\n",
       "      <th>Birth defects</th>\n",
       "      <th>White Blood cell count (thousand per microliter)</th>\n",
       "      <th>Blood test result</th>\n",
       "      <th>Symptom 1</th>\n",
       "      <th>Symptom 2</th>\n",
       "      <th>Symptom 3</th>\n",
       "      <th>Symptom 4</th>\n",
       "      <th>Symptom 5</th>\n",
       "      <th>Genetic Disorder</th>\n",
       "      <th>Disorder Subclass</th>\n",
       "    </tr>\n",
       "  </thead>\n",
       "  <tbody>\n",
       "    <tr>\n",
       "      <th>0</th>\n",
       "      <td>2.0</td>\n",
       "      <td>1</td>\n",
       "      <td>0</td>\n",
       "      <td>4.760603</td>\n",
       "      <td>NaN</td>\n",
       "      <td>NaN</td>\n",
       "      <td>Alive</td>\n",
       "      <td>0.0</td>\n",
       "      <td>NaN</td>\n",
       "      <td>NaN</td>\n",
       "      <td>1.0</td>\n",
       "      <td>0.0</td>\n",
       "      <td>High</td>\n",
       "      <td>NaN</td>\n",
       "      <td>NaN</td>\n",
       "      <td>Not applicable</td>\n",
       "      <td>No</td>\n",
       "      <td>NaN</td>\n",
       "      <td>No</td>\n",
       "      <td>No</td>\n",
       "      <td>No</td>\n",
       "      <td>Yes</td>\n",
       "      <td>NaN</td>\n",
       "      <td>NaN</td>\n",
       "      <td>9.857562</td>\n",
       "      <td>NaN</td>\n",
       "      <td>1.0</td>\n",
       "      <td>1.0</td>\n",
       "      <td>1.0</td>\n",
       "      <td>1.0</td>\n",
       "      <td>1.0</td>\n",
       "      <td>Mitochondrial genetic inheritance disorders</td>\n",
       "      <td>Leber's hereditary optic neuropathy</td>\n",
       "    </tr>\n",
       "    <tr>\n",
       "      <th>1</th>\n",
       "      <td>4.0</td>\n",
       "      <td>1</td>\n",
       "      <td>0</td>\n",
       "      <td>4.910669</td>\n",
       "      <td>NaN</td>\n",
       "      <td>23.0</td>\n",
       "      <td>Deceased</td>\n",
       "      <td>NaN</td>\n",
       "      <td>0.0</td>\n",
       "      <td>0.0</td>\n",
       "      <td>1.0</td>\n",
       "      <td>0.0</td>\n",
       "      <td>High</td>\n",
       "      <td>NaN</td>\n",
       "      <td>No</td>\n",
       "      <td>None</td>\n",
       "      <td>Yes</td>\n",
       "      <td>Yes</td>\n",
       "      <td>Not applicable</td>\n",
       "      <td>Not applicable</td>\n",
       "      <td>No</td>\n",
       "      <td>Yes</td>\n",
       "      <td>NaN</td>\n",
       "      <td>Multiple</td>\n",
       "      <td>5.522560</td>\n",
       "      <td>normal</td>\n",
       "      <td>1.0</td>\n",
       "      <td>NaN</td>\n",
       "      <td>1.0</td>\n",
       "      <td>1.0</td>\n",
       "      <td>0.0</td>\n",
       "      <td>NaN</td>\n",
       "      <td>Cystic fibrosis</td>\n",
       "    </tr>\n",
       "  </tbody>\n",
       "</table>\n",
       "</div>"
      ],
      "text/plain": [
       "   Patient Age  Genes in mother's side  Paternal gene  Blood cell count (mcL)  \\\n",
       "0          2.0                       1              0                4.760603   \n",
       "1          4.0                       1              0                4.910669   \n",
       "\n",
       "   Mother's age  Father's age    Status  Test 1  Test 2  Test 3  Test 4  \\\n",
       "0           NaN           NaN     Alive     0.0     NaN     NaN     1.0   \n",
       "1           NaN          23.0  Deceased     NaN     0.0     0.0     1.0   \n",
       "\n",
       "   Test 5 Follow-up Gender Birth asphyxia  \\\n",
       "0     0.0      High    NaN            NaN   \n",
       "1     0.0      High    NaN             No   \n",
       "\n",
       "  Autopsy shows birth defect (if applicable)  \\\n",
       "0                             Not applicable   \n",
       "1                                       None   \n",
       "\n",
       "  Folic acid details (peri-conceptional) H/O serious maternal illness  \\\n",
       "0                                     No                          NaN   \n",
       "1                                    Yes                          Yes   \n",
       "\n",
       "  H/O radiation exposure (x-ray) H/O substance abuse  \\\n",
       "0                             No                  No   \n",
       "1                 Not applicable      Not applicable   \n",
       "\n",
       "  Assisted conception IVF/ART History of anomalies in previous pregnancies  \\\n",
       "0                          No                                          Yes   \n",
       "1                          No                                          Yes   \n",
       "\n",
       "   No. of previous abortion Birth defects  \\\n",
       "0                       NaN           NaN   \n",
       "1                       NaN      Multiple   \n",
       "\n",
       "   White Blood cell count (thousand per microliter) Blood test result  \\\n",
       "0                                          9.857562               NaN   \n",
       "1                                          5.522560            normal   \n",
       "\n",
       "   Symptom 1  Symptom 2  Symptom 3  Symptom 4  Symptom 5  \\\n",
       "0        1.0        1.0        1.0        1.0        1.0   \n",
       "1        1.0        NaN        1.0        1.0        0.0   \n",
       "\n",
       "                              Genetic Disorder  \\\n",
       "0  Mitochondrial genetic inheritance disorders   \n",
       "1                                          NaN   \n",
       "\n",
       "                     Disorder Subclass  \n",
       "0  Leber's hereditary optic neuropathy  \n",
       "1                      Cystic fibrosis  "
      ]
     },
     "execution_count": 16,
     "metadata": {},
     "output_type": "execute_result"
    }
   ],
   "source": [
    "train.head(2)"
   ]
  },
  {
   "cell_type": "code",
   "execution_count": 17,
   "id": "d16191de",
   "metadata": {},
   "outputs": [
    {
     "data": {
      "text/plain": [
       "array(['Alive', 'Deceased'], dtype=object)"
      ]
     },
     "execution_count": 17,
     "metadata": {},
     "output_type": "execute_result"
    }
   ],
   "source": [
    "train.Status.unique()"
   ]
  },
  {
   "cell_type": "code",
   "execution_count": 18,
   "id": "047ec401",
   "metadata": {},
   "outputs": [],
   "source": [
    "def alive(x):\n",
    "    if(x=='Alive'):\n",
    "        return 1\n",
    "    elif(x=='Deceased'):\n",
    "        return 0\n",
    "train['Status'] = train['Status'].map(alive)\n",
    "test['Status'] = test['Status'].map(alive)"
   ]
  },
  {
   "cell_type": "code",
   "execution_count": 19,
   "id": "286fa540",
   "metadata": {},
   "outputs": [],
   "source": [
    "train[['Symptom 1','Symptom 2','Symptom 3','Symptom 4','Symptom 5']]=train[['Symptom 1','Symptom 2','Symptom 3','Symptom 4','Symptom 5']].astype('bool')"
   ]
  },
  {
   "cell_type": "markdown",
   "id": "197708ef",
   "metadata": {},
   "source": [
    "### median imputation of parents age"
   ]
  },
  {
   "cell_type": "code",
   "execution_count": 20,
   "id": "42c2908b",
   "metadata": {},
   "outputs": [
    {
     "data": {
      "text/plain": [
       "array([ 2.,  4.,  6., 12., 11., 14.,  3.,  7.,  1.,  0., nan, 10.,  5.,\n",
       "       13.,  8.,  9.])"
      ]
     },
     "execution_count": 20,
     "metadata": {},
     "output_type": "execute_result"
    }
   ],
   "source": [
    "train['Patient Age'].unique()"
   ]
  },
  {
   "cell_type": "code",
   "execution_count": 21,
   "id": "e6c3d9c2",
   "metadata": {},
   "outputs": [],
   "source": [
    "agepatient = [ 2.,  4.,  6., 12., 11., 14.,  3.,  7.,  1.,  0., 10.,  5., 13.,  8.,  9.]"
   ]
  },
  {
   "cell_type": "code",
   "execution_count": 22,
   "id": "399b654c",
   "metadata": {},
   "outputs": [],
   "source": [
    "for i in agepatient:\n",
    "        train.loc[(train['Patient Age']==i) & (train['Father\\'s age'].isna()),\"Father's age\"] = train[train['Patient Age']==i]['Father\\'s age'].median(skipna=True)"
   ]
  },
  {
   "cell_type": "code",
   "execution_count": 23,
   "id": "dada3309",
   "metadata": {},
   "outputs": [],
   "source": [
    "for i in agepatient:\n",
    "        train.loc[(train['Patient Age']==i) & (train['Mother\\'s age'].isna()),\"Mother's age\"] = train[train['Patient Age']==i]['Mother\\'s age'].median(skipna=True)"
   ]
  },
  {
   "cell_type": "code",
   "execution_count": 24,
   "id": "759f7e7f",
   "metadata": {},
   "outputs": [
    {
     "data": {
      "text/plain": [
       "array([42., 23., 22., 41., 63., 44., 43., 56., 20., 24., 57., 48., 30.,\n",
       "       nan, 55., 62., 32., 52., 28., 31., 61., 35., 49., 50., 29., 64.,\n",
       "       39., 34., 51., 25., 60., 53., 58., 26., 27., 59., 47., 38., 54.,\n",
       "       21., 37., 36., 33., 46., 40., 45.])"
      ]
     },
     "execution_count": 24,
     "metadata": {},
     "output_type": "execute_result"
    }
   ],
   "source": [
    "train['Father\\'s age'].unique()"
   ]
  },
  {
   "cell_type": "code",
   "execution_count": 25,
   "id": "6d2aa7d3",
   "metadata": {},
   "outputs": [],
   "source": [
    "agefather = [42., 23., 22., 41., 63., 44., 43., 56., 20., 24., 57., 48., 30., 55., 62., 32., 52., 28., 31., 61., 35., 49., 50., 29., 64.,\n",
    "       39., 34., 51., 25., 60., 53., 58., 26., 27., 59., 47., 38., 54.,\n",
    "       21., 37., 36., 33., 46., 40., 45.]"
   ]
  },
  {
   "cell_type": "code",
   "execution_count": 26,
   "id": "10771958",
   "metadata": {},
   "outputs": [],
   "source": [
    "for i in agefather:\n",
    "    train.loc[(train['Father\\'s age']==i) & (train['Patient Age'].isna()),\"Patient Age\"] = train[train['Father\\'s age']==i]['Patient Age'].median(skipna=True)"
   ]
  },
  {
   "cell_type": "code",
   "execution_count": 27,
   "id": "dae51dbb",
   "metadata": {},
   "outputs": [
    {
     "data": {
      "text/plain": [
       "array([34., 35., 41., 21., 32., 40., 45., 44., 50., 28., 30., 24., 36.,\n",
       "       nan, 51., 23., 49., 46., 18., 38., 37., 42., 48., 25., 19., 47.,\n",
       "       22., 33., 20., 26., 31., 29., 27., 43., 39.])"
      ]
     },
     "execution_count": 27,
     "metadata": {},
     "output_type": "execute_result"
    }
   ],
   "source": [
    "train['Mother\\'s age'].unique()"
   ]
  },
  {
   "cell_type": "code",
   "execution_count": 28,
   "id": "2f4a890c",
   "metadata": {},
   "outputs": [],
   "source": [
    "agemother = [34., 35., 41., 21., 32., 40., 45., 44., 50., 28., 30., 24., 36.,51., 23., 49., 46., 18., 38., 37., 42., 48., 25., 19., 47.,\n",
    "       22., 33., 20., 26., 31., 29., 27., 43., 39.]"
   ]
  },
  {
   "cell_type": "code",
   "execution_count": 29,
   "id": "1545c6cd",
   "metadata": {},
   "outputs": [],
   "source": [
    "for i in agemother:\n",
    "    train.loc[(train['Mother\\'s age']==i) & (train['Patient Age'].isna()),\"Patient Age\"] = train[train['Mother\\'s age']==i]['Patient Age'].median(skipna=True)"
   ]
  },
  {
   "cell_type": "code",
   "execution_count": 30,
   "id": "96cb59b4",
   "metadata": {},
   "outputs": [
    {
     "data": {
      "text/plain": [
       "array([ 2. ,  4. ,  6. , 12. , 11. , 14. ,  3. ,  7. ,  1. ,  0. , 10. ,\n",
       "        nan,  5. , 13. ,  8. ,  9. ,  7.5])"
      ]
     },
     "execution_count": 30,
     "metadata": {},
     "output_type": "execute_result"
    }
   ],
   "source": [
    "train['Patient Age'].unique()"
   ]
  },
  {
   "cell_type": "code",
   "execution_count": 31,
   "id": "164b58ca",
   "metadata": {},
   "outputs": [],
   "source": [
    "agepatient = [ 2. ,  4. ,  6. , 12. , 11. , 14. ,  3. ,  7. ,  1. ,  0. , 10. , 5. , 13. ,  8. ,  9. ,  7.5]\n",
    "\n",
    "for i in agepatient:\n",
    "        train.loc[(train['Patient Age']==i) & (train['Father\\'s age'].isna()),\"Father's age\"] = train[train['Patient Age']==i]['Father\\'s age'].median(skipna=True)\n",
    "\n",
    "for i in agepatient:\n",
    "        train.loc[(train['Patient Age']==i) & (train['Mother\\'s age'].isna()),\"Mother's age\"] = train[train['Patient Age']==i]['Mother\\'s age'].median(skipna=True)"
   ]
  },
  {
   "cell_type": "code",
   "execution_count": 32,
   "id": "ebf8f5b4",
   "metadata": {},
   "outputs": [
    {
     "data": {
      "text/plain": [
       "<AxesSubplot:>"
      ]
     },
     "execution_count": 32,
     "metadata": {},
     "output_type": "execute_result"
    },
    {
     "data": {
      "image/png": "[encoded data removed]",
      "text/plain": [
       "<Figure size 1800x720 with 2 Axes>"
      ]
     },
     "metadata": {
      "needs_background": "light"
     },
     "output_type": "display_data"
    }
   ],
   "source": [
    "ms.matrix(train)"
   ]
  },
  {
   "cell_type": "code",
   "execution_count": 33,
   "id": "9d429b20",
   "metadata": {},
   "outputs": [
    {
     "data": {
      "text/plain": [
       "['Follow-up',\n",
       " 'Autopsy shows birth defect (if applicable)',\n",
       " 'Folic acid details (peri-conceptional)',\n",
       " 'H/O radiation exposure (x-ray)',\n",
       " 'H/O substance abuse',\n",
       " 'Assisted conception IVF/ART',\n",
       " 'History of anomalies in previous pregnancies',\n",
       " 'Genetic Disorder',\n",
       " 'Disorder Subclass']"
      ]
     },
     "execution_count": 33,
     "metadata": {},
     "output_type": "execute_result"
    }
   ],
   "source": [
    "a = []\n",
    "for i in train.columns:\n",
    "    if(type(train[i][0])==str):\n",
    "        a.append(i)\n",
    "a"
   ]
  },
  {
   "cell_type": "code",
   "execution_count": 34,
   "id": "21e815c5",
   "metadata": {},
   "outputs": [
    {
     "data": {
      "text/html": [
       "<div>\n",
       "<style scoped>\n",
       "    .dataframe tbody tr th:only-of-type {\n",
       "        vertical-align: middle;\n",
       "    }\n",
       "\n",
       "    .dataframe tbody tr th {\n",
       "        vertical-align: top;\n",
       "    }\n",
       "\n",
       "    .dataframe thead th {\n",
       "        text-align: right;\n",
       "    }\n",
       "</style>\n",
       "<table border=\"1\" class=\"dataframe\">\n",
       "  <thead>\n",
       "    <tr style=\"text-align: right;\">\n",
       "      <th></th>\n",
       "      <th>Follow-up</th>\n",
       "      <th>Autopsy shows birth defect (if applicable)</th>\n",
       "      <th>Folic acid details (peri-conceptional)</th>\n",
       "      <th>H/O radiation exposure (x-ray)</th>\n",
       "      <th>H/O substance abuse</th>\n",
       "      <th>Assisted conception IVF/ART</th>\n",
       "      <th>History of anomalies in previous pregnancies</th>\n",
       "      <th>Genetic Disorder</th>\n",
       "      <th>Disorder Subclass</th>\n",
       "    </tr>\n",
       "  </thead>\n",
       "  <tbody>\n",
       "    <tr>\n",
       "      <th>0</th>\n",
       "      <td>High</td>\n",
       "      <td>Not applicable</td>\n",
       "      <td>No</td>\n",
       "      <td>No</td>\n",
       "      <td>No</td>\n",
       "      <td>No</td>\n",
       "      <td>Yes</td>\n",
       "      <td>Mitochondrial genetic inheritance disorders</td>\n",
       "      <td>Leber's hereditary optic neuropathy</td>\n",
       "    </tr>\n",
       "    <tr>\n",
       "      <th>1</th>\n",
       "      <td>High</td>\n",
       "      <td>None</td>\n",
       "      <td>Yes</td>\n",
       "      <td>Not applicable</td>\n",
       "      <td>Not applicable</td>\n",
       "      <td>No</td>\n",
       "      <td>Yes</td>\n",
       "      <td>NaN</td>\n",
       "      <td>Cystic fibrosis</td>\n",
       "    </tr>\n",
       "  </tbody>\n",
       "</table>\n",
       "</div>"
      ],
      "text/plain": [
       "  Follow-up Autopsy shows birth defect (if applicable)  \\\n",
       "0      High                             Not applicable   \n",
       "1      High                                       None   \n",
       "\n",
       "  Folic acid details (peri-conceptional) H/O radiation exposure (x-ray)  \\\n",
       "0                                     No                             No   \n",
       "1                                    Yes                 Not applicable   \n",
       "\n",
       "  H/O substance abuse Assisted conception IVF/ART  \\\n",
       "0                  No                          No   \n",
       "1      Not applicable                          No   \n",
       "\n",
       "  History of anomalies in previous pregnancies  \\\n",
       "0                                          Yes   \n",
       "1                                          Yes   \n",
       "\n",
       "                              Genetic Disorder  \\\n",
       "0  Mitochondrial genetic inheritance disorders   \n",
       "1                                          NaN   \n",
       "\n",
       "                     Disorder Subclass  \n",
       "0  Leber's hereditary optic neuropathy  \n",
       "1                      Cystic fibrosis  "
      ]
     },
     "execution_count": 34,
     "metadata": {},
     "output_type": "execute_result"
    }
   ],
   "source": [
    "train[a].head(2)"
   ]
  },
  {
   "cell_type": "code",
   "execution_count": 35,
   "id": "5cf6f482",
   "metadata": {},
   "outputs": [
    {
     "data": {
      "text/plain": [
       "array(['High', 'Low', nan], dtype=object)"
      ]
     },
     "execution_count": 35,
     "metadata": {},
     "output_type": "execute_result"
    }
   ],
   "source": [
    "train['Follow-up'].unique()"
   ]
  },
  {
   "cell_type": "code",
   "execution_count": 36,
   "id": "f7f9c108",
   "metadata": {},
   "outputs": [],
   "source": [
    "def followup(x):\n",
    "    if(type(x)==str):\n",
    "        return 1 if x=='High' else 0\n",
    "    else:\n",
    "        return x\n",
    "train['Follow-up']=train['Follow-up'].map(followup)\n",
    "test['Follow-up']=test['Follow-up'].map(followup)"
   ]
  },
  {
   "cell_type": "code",
   "execution_count": 37,
   "id": "e2773c85",
   "metadata": {},
   "outputs": [
    {
     "data": {
      "text/plain": [
       "array(['Not applicable', 'None', 'No', 'Yes', nan], dtype=object)"
      ]
     },
     "execution_count": 37,
     "metadata": {},
     "output_type": "execute_result"
    }
   ],
   "source": [
    "train['Autopsy shows birth defect (if applicable)'].unique()"
   ]
  },
  {
   "cell_type": "code",
   "execution_count": 38,
   "id": "72b46b03",
   "metadata": {},
   "outputs": [
    {
     "data": {
      "text/plain": [
       "<AxesSubplot:xlabel='Autopsy shows birth defect (if applicable)', ylabel='count'>"
      ]
     },
     "execution_count": 38,
     "metadata": {},
     "output_type": "execute_result"
    },
    {
     "data": {
      "image/png": "[encoded data removed]",
      "text/plain": [
       "<Figure size 432x288 with 1 Axes>"
      ]
     },
     "metadata": {
      "needs_background": "light"
     },
     "output_type": "display_data"
    }
   ],
   "source": [
    "sns.countplot(x=train['Autopsy shows birth defect (if applicable)'])"
   ]
  },
  {
   "cell_type": "code",
   "execution_count": 39,
   "id": "d70b3ebb",
   "metadata": {},
   "outputs": [
    {
     "data": {
      "text/plain": [
       "None    14449\n",
       "Yes      3383\n",
       "No       3225\n",
       "Name: Autopsy shows birth defect (if applicable), dtype: int64"
      ]
     },
     "execution_count": 39,
     "metadata": {},
     "output_type": "execute_result"
    }
   ],
   "source": [
    "train['Autopsy shows birth defect (if applicable)'].replace(\"Not applicable\",\"None\",inplace=True)\n",
    "train['Autopsy shows birth defect (if applicable)'].value_counts()"
   ]
  },
  {
   "cell_type": "code",
   "execution_count": 40,
   "id": "60a24680",
   "metadata": {},
   "outputs": [
    {
     "data": {
      "text/plain": [
       "2.0    14449\n",
       "1.0     3383\n",
       "0.0     3225\n",
       "Name: Autopsy shows birth defect (if applicable), dtype: int64"
      ]
     },
     "execution_count": 40,
     "metadata": {},
     "output_type": "execute_result"
    }
   ],
   "source": [
    "def aut(x):\n",
    "    if(type(x)==str):\n",
    "        if(x.lower()=='yes'):\n",
    "            return 1\n",
    "        elif(x.lower()=='no'):\n",
    "            return 0\n",
    "        elif(x.lower()=='none'):\n",
    "            return 2\n",
    "    else:\n",
    "        return x\n",
    "train['Autopsy shows birth defect (if applicable)'].map(aut).value_counts()"
   ]
  },
  {
   "cell_type": "code",
   "execution_count": 41,
   "id": "8ba8f7d2",
   "metadata": {},
   "outputs": [],
   "source": [
    "train['Autopsy shows birth defect (if applicable)']=train['Autopsy shows birth defect (if applicable)'].map(aut)\n",
    "test['Autopsy shows birth defect (if applicable)']=test['Autopsy shows birth defect (if applicable)'].map(aut)"
   ]
  },
  {
   "cell_type": "code",
   "execution_count": 42,
   "id": "fceddb2a",
   "metadata": {},
   "outputs": [
    {
     "data": {
      "text/plain": [
       "array(['No', 'Yes', nan], dtype=object)"
      ]
     },
     "execution_count": 42,
     "metadata": {},
     "output_type": "execute_result"
    }
   ],
   "source": [
    "train['Folic acid details (peri-conceptional)'].unique()"
   ]
  },
  {
   "cell_type": "code",
   "execution_count": 43,
   "id": "e7562333",
   "metadata": {},
   "outputs": [],
   "source": [
    "train['Folic acid details (peri-conceptional)']=train['Folic acid details (peri-conceptional)'].map(onezero)\n",
    "test['Folic acid details (peri-conceptional)']=test['Folic acid details (peri-conceptional)'].map(onezero)"
   ]
  },
  {
   "cell_type": "code",
   "execution_count": 44,
   "id": "624191bc",
   "metadata": {},
   "outputs": [
    {
     "data": {
      "text/plain": [
       "array(['No', 'Not applicable', 'Yes', '-', nan], dtype=object)"
      ]
     },
     "execution_count": 44,
     "metadata": {},
     "output_type": "execute_result"
    }
   ],
   "source": [
    "train['H/O radiation exposure (x-ray)'].unique()"
   ]
  },
  {
   "cell_type": "code",
   "execution_count": 45,
   "id": "e35ed2df",
   "metadata": {},
   "outputs": [
    {
     "data": {
      "text/plain": [
       "array(['Yes', '-99', '-', 'Not applicable', 'No'], dtype=object)"
      ]
     },
     "execution_count": 45,
     "metadata": {},
     "output_type": "execute_result"
    }
   ],
   "source": [
    "test['H/O radiation exposure (x-ray)'].unique()"
   ]
  },
  {
   "cell_type": "code",
   "execution_count": 46,
   "id": "cf9fc3aa",
   "metadata": {},
   "outputs": [],
   "source": [
    "train['H/O radiation exposure (x-ray)'].replace([\"Not applicable\",\"-99\"],\"-\",inplace=True)"
   ]
  },
  {
   "cell_type": "code",
   "execution_count": 47,
   "id": "cb6eeb17",
   "metadata": {},
   "outputs": [],
   "source": [
    "test['H/O radiation exposure (x-ray)'].replace([\"Not applicable\",\"-99\"],\"-\",inplace=True)"
   ]
  },
  {
   "cell_type": "code",
   "execution_count": 48,
   "id": "748bd8fb",
   "metadata": {},
   "outputs": [],
   "source": [
    "def ho(x):\n",
    "    if(x=='Yes'):\n",
    "        return 1\n",
    "    elif(x=='No'):\n",
    "        return 0\n",
    "    elif(x=='-'):\n",
    "        return 2\n",
    "train['H/O radiation exposure (x-ray)'] = train['H/O radiation exposure (x-ray)'].map(ho)\n",
    "test['H/O radiation exposure (x-ray)'] = test['H/O radiation exposure (x-ray)'].map(ho)"
   ]
  },
  {
   "cell_type": "code",
   "execution_count": 49,
   "id": "edfdbf41",
   "metadata": {},
   "outputs": [
    {
     "data": {
      "text/plain": [
       "array([nan, 'Yes', 'No'], dtype=object)"
      ]
     },
     "execution_count": 49,
     "metadata": {},
     "output_type": "execute_result"
    }
   ],
   "source": [
    "train['H/O serious maternal illness'].unique()"
   ]
  },
  {
   "cell_type": "code",
   "execution_count": 50,
   "id": "ff75771a",
   "metadata": {},
   "outputs": [],
   "source": [
    "def ivf(x):\n",
    "    if(x=='Yes'):\n",
    "        return 1\n",
    "    elif(x=='No'):\n",
    "        return 0\n",
    "    else:\n",
    "        return 2\n",
    "train['Assisted conception IVF/ART']=train['Assisted conception IVF/ART'].map(ivf)\n",
    "test['Assisted conception IVF/ART']=test['Assisted conception IVF/ART'].map(ivf)"
   ]
  },
  {
   "cell_type": "code",
   "execution_count": 51,
   "id": "f1e1bda2",
   "metadata": {},
   "outputs": [
    {
     "data": {
      "text/plain": [
       "array(['Yes', 'No', nan], dtype=object)"
      ]
     },
     "execution_count": 51,
     "metadata": {},
     "output_type": "execute_result"
    }
   ],
   "source": [
    "train['History of anomalies in previous pregnancies'].unique()"
   ]
  },
  {
   "cell_type": "code",
   "execution_count": 52,
   "id": "bd500b5a",
   "metadata": {},
   "outputs": [
    {
     "data": {
      "text/plain": [
       "array(['-99', 'Yes', 'No'], dtype=object)"
      ]
     },
     "execution_count": 52,
     "metadata": {},
     "output_type": "execute_result"
    }
   ],
   "source": [
    "test['History of anomalies in previous pregnancies'].unique()"
   ]
  },
  {
   "cell_type": "code",
   "execution_count": 53,
   "id": "38e91e71",
   "metadata": {},
   "outputs": [],
   "source": [
    "train['History of anomalies in previous pregnancies']=train['History of anomalies in previous pregnancies'].map(ivf)\n",
    "test['History of anomalies in previous pregnancies']=test['History of anomalies in previous pregnancies'].map(ivf)"
   ]
  },
  {
   "cell_type": "code",
   "execution_count": 54,
   "id": "3e2deb74",
   "metadata": {},
   "outputs": [
    {
     "data": {
      "text/plain": [
       "array(['No', 'Not applicable', nan, '-', 'Yes'], dtype=object)"
      ]
     },
     "execution_count": 54,
     "metadata": {},
     "output_type": "execute_result"
    }
   ],
   "source": [
    "train['H/O substance abuse'].unique()"
   ]
  },
  {
   "cell_type": "code",
   "execution_count": 55,
   "id": "f035bfde",
   "metadata": {},
   "outputs": [
    {
     "data": {
      "text/plain": [
       "array(['-', '-99', 'Yes', 'Not applicable', 'No'], dtype=object)"
      ]
     },
     "execution_count": 55,
     "metadata": {},
     "output_type": "execute_result"
    }
   ],
   "source": [
    "test['H/O substance abuse'].unique()"
   ]
  },
  {
   "cell_type": "code",
   "execution_count": 56,
   "id": "0542cd45",
   "metadata": {},
   "outputs": [
    {
     "data": {
      "text/plain": [
       "<AxesSubplot:xlabel='H/O substance abuse', ylabel='count'>"
      ]
     },
     "execution_count": 56,
     "metadata": {},
     "output_type": "execute_result"
    },
    {
     "data": {
      "image/png": "[encoded data removed]",
      "text/plain": [
       "<Figure size 432x288 with 1 Axes>"
      ]
     },
     "metadata": {
      "needs_background": "light"
     },
     "output_type": "display_data"
    }
   ],
   "source": [
    "sns.countplot(x=train['H/O substance abuse'])"
   ]
  },
  {
   "cell_type": "code",
   "execution_count": 57,
   "id": "506cdd5c",
   "metadata": {},
   "outputs": [],
   "source": [
    "train['H/O substance abuse'].replace(['Not applicable','-99'],'-',inplace=True)\n",
    "test['H/O substance abuse'].replace(['Not applicable','-99'],'-',inplace=True)"
   ]
  },
  {
   "cell_type": "code",
   "execution_count": 58,
   "id": "e29acfb8",
   "metadata": {},
   "outputs": [
    {
     "data": {
      "text/plain": [
       "<AxesSubplot:xlabel='H/O substance abuse', ylabel='count'>"
      ]
     },
     "execution_count": 58,
     "metadata": {},
     "output_type": "execute_result"
    },
    {
     "data": {
      "image/png": "[encoded data removed]",
      "text/plain": [
       "<Figure size 432x288 with 1 Axes>"
      ]
     },
     "metadata": {
      "needs_background": "light"
     },
     "output_type": "display_data"
    }
   ],
   "source": [
    "sns.countplot(x=train['H/O substance abuse'])"
   ]
  },
  {
   "cell_type": "code",
   "execution_count": 59,
   "id": "c6574462",
   "metadata": {},
   "outputs": [
    {
     "data": {
      "text/plain": [
       "<AxesSubplot:xlabel='H/O substance abuse', ylabel='count'>"
      ]
     },
     "execution_count": 59,
     "metadata": {},
     "output_type": "execute_result"
    },
    {
     "data": {
      "image/png": "[encoded data removed]",
      "text/plain": [
       "<Figure size 432x288 with 1 Axes>"
      ]
     },
     "metadata": {
      "needs_background": "light"
     },
     "output_type": "display_data"
    }
   ],
   "source": [
    "sns.countplot(x=test['H/O substance abuse'])"
   ]
  },
  {
   "cell_type": "code",
   "execution_count": 60,
   "id": "37b87f0e",
   "metadata": {},
   "outputs": [
    {
     "data": {
      "text/html": [
       "<div>\n",
       "<style scoped>\n",
       "    .dataframe tbody tr th:only-of-type {\n",
       "        vertical-align: middle;\n",
       "    }\n",
       "\n",
       "    .dataframe tbody tr th {\n",
       "        vertical-align: top;\n",
       "    }\n",
       "\n",
       "    .dataframe thead th {\n",
       "        text-align: right;\n",
       "    }\n",
       "</style>\n",
       "<table border=\"1\" class=\"dataframe\">\n",
       "  <thead>\n",
       "    <tr style=\"text-align: right;\">\n",
       "      <th></th>\n",
       "      <th>Follow-up</th>\n",
       "      <th>Autopsy shows birth defect (if applicable)</th>\n",
       "      <th>Folic acid details (peri-conceptional)</th>\n",
       "      <th>H/O radiation exposure (x-ray)</th>\n",
       "      <th>H/O substance abuse</th>\n",
       "      <th>Assisted conception IVF/ART</th>\n",
       "      <th>History of anomalies in previous pregnancies</th>\n",
       "      <th>Genetic Disorder</th>\n",
       "      <th>Disorder Subclass</th>\n",
       "    </tr>\n",
       "  </thead>\n",
       "  <tbody>\n",
       "    <tr>\n",
       "      <th>0</th>\n",
       "      <td>1.0</td>\n",
       "      <td>2.0</td>\n",
       "      <td>0.0</td>\n",
       "      <td>0.0</td>\n",
       "      <td>No</td>\n",
       "      <td>0</td>\n",
       "      <td>1</td>\n",
       "      <td>Mitochondrial genetic inheritance disorders</td>\n",
       "      <td>Leber's hereditary optic neuropathy</td>\n",
       "    </tr>\n",
       "    <tr>\n",
       "      <th>1</th>\n",
       "      <td>1.0</td>\n",
       "      <td>2.0</td>\n",
       "      <td>1.0</td>\n",
       "      <td>2.0</td>\n",
       "      <td>-</td>\n",
       "      <td>0</td>\n",
       "      <td>1</td>\n",
       "      <td>NaN</td>\n",
       "      <td>Cystic fibrosis</td>\n",
       "    </tr>\n",
       "  </tbody>\n",
       "</table>\n",
       "</div>"
      ],
      "text/plain": [
       "   Follow-up  Autopsy shows birth defect (if applicable)  \\\n",
       "0        1.0                                         2.0   \n",
       "1        1.0                                         2.0   \n",
       "\n",
       "   Folic acid details (peri-conceptional)  H/O radiation exposure (x-ray)  \\\n",
       "0                                     0.0                             0.0   \n",
       "1                                     1.0                             2.0   \n",
       "\n",
       "  H/O substance abuse  Assisted conception IVF/ART  \\\n",
       "0                  No                            0   \n",
       "1                   -                            0   \n",
       "\n",
       "   History of anomalies in previous pregnancies  \\\n",
       "0                                             1   \n",
       "1                                             1   \n",
       "\n",
       "                              Genetic Disorder  \\\n",
       "0  Mitochondrial genetic inheritance disorders   \n",
       "1                                          NaN   \n",
       "\n",
       "                     Disorder Subclass  \n",
       "0  Leber's hereditary optic neuropathy  \n",
       "1                      Cystic fibrosis  "
      ]
     },
     "execution_count": 60,
     "metadata": {},
     "output_type": "execute_result"
    }
   ],
   "source": [
    "train[a].head(2)"
   ]
  },
  {
   "cell_type": "code",
   "execution_count": 61,
   "id": "95e07a6f",
   "metadata": {},
   "outputs": [],
   "source": [
    "train['H/O substance abuse']=train['H/O substance abuse'].map(ivf)\n",
    "test['H/O substance abuse'] = test['H/O substance abuse'].map(ivf)"
   ]
  },
  {
   "cell_type": "code",
   "execution_count": 62,
   "id": "2555a75c",
   "metadata": {},
   "outputs": [],
   "source": [
    "train.loc[(train['Symptom 2'].isna()),'Symptom 2'] = train[(train['Symptom 2'].isna())]['Symptom 1']\n",
    "train.loc[(train['Symptom 3'].isna()),'Symptom 3'] = train[(train['Symptom 3'].isna())]['Symptom 2']\n",
    "train.loc[(train['Symptom 4'].isna()),'Symptom 4'] = train[(train['Symptom 4'].isna())]['Symptom 3']\n",
    "train.loc[(train['Symptom 5'].isna()),'Symptom 5'] = train[(train['Symptom 5'].isna())]['Symptom 4']\n",
    "train.loc[(train['Symptom 1'].isna()),'Symptom 1'] = train[(train['Symptom 1'].isna())]['Symptom 2']\n",
    "train.loc[(train['Symptom 2'].isna()),'Symptom 2'] = train[(train['Symptom 2'].isna())]['Symptom 3']\n",
    "train.loc[(train['Symptom 3'].isna()),'Symptom 3'] = train[(train['Symptom 3'].isna())]['Symptom 4']\n",
    "train.loc[(train['Symptom 4'].isna()),'Symptom 4'] = train[(train['Symptom 4'].isna())]['Symptom 5']"
   ]
  },
  {
   "cell_type": "code",
   "execution_count": 63,
   "id": "3816c1ae",
   "metadata": {},
   "outputs": [
    {
     "name": "stdout",
     "output_type": "stream",
     "text": [
      "<class 'pandas.core.frame.DataFrame'>\n",
      "RangeIndex: 22083 entries, 0 to 22082\n",
      "Data columns (total 33 columns):\n",
      " #   Column                                            Non-Null Count  Dtype  \n",
      "---  ------                                            --------------  -----  \n",
      " 0   Patient Age                                       21871 non-null  float64\n",
      " 1   Genes in mother's side                            22083 non-null  int64  \n",
      " 2   Paternal gene                                     22083 non-null  int64  \n",
      " 3   Blood cell count (mcL)                            22083 non-null  float64\n",
      " 4   Mother's age                                      21871 non-null  float64\n",
      " 5   Father's age                                      21871 non-null  float64\n",
      " 6   Status                                            22083 non-null  int64  \n",
      " 7   Test 1                                            19956 non-null  float64\n",
      " 8   Test 2                                            19931 non-null  float64\n",
      " 9   Test 3                                            19936 non-null  float64\n",
      " 10  Test 4                                            19943 non-null  float64\n",
      " 11  Test 5                                            19913 non-null  float64\n",
      " 12  Follow-up                                         19917 non-null  float64\n",
      " 13  Gender                                            19910 non-null  object \n",
      " 14  Birth asphyxia                                    19944 non-null  object \n",
      " 15  Autopsy shows birth defect (if applicable)        21057 non-null  float64\n",
      " 16  Folic acid details (peri-conceptional)            19966 non-null  float64\n",
      " 17  H/O serious maternal illness                      19931 non-null  object \n",
      " 18  H/O radiation exposure (x-ray)                    19930 non-null  float64\n",
      " 19  H/O substance abuse                               22083 non-null  int64  \n",
      " 20  Assisted conception IVF/ART                       22083 non-null  int64  \n",
      " 21  History of anomalies in previous pregnancies      22083 non-null  int64  \n",
      " 22  No. of previous abortion                          19921 non-null  float64\n",
      " 23  Birth defects                                     19929 non-null  object \n",
      " 24  White Blood cell count (thousand per microliter)  19935 non-null  float64\n",
      " 25  Blood test result                                 19938 non-null  object \n",
      " 26  Symptom 1                                         22083 non-null  bool   \n",
      " 27  Symptom 2                                         22083 non-null  bool   \n",
      " 28  Symptom 3                                         22083 non-null  bool   \n",
      " 29  Symptom 4                                         22083 non-null  bool   \n",
      " 30  Symptom 5                                         22083 non-null  bool   \n",
      " 31  Genetic Disorder                                  19937 non-null  object \n",
      " 32  Disorder Subclass                                 19915 non-null  object \n",
      "dtypes: bool(5), float64(15), int64(6), object(7)\n",
      "memory usage: 4.8+ MB\n"
     ]
    }
   ],
   "source": [
    "train.info()"
   ]
  },
  {
   "cell_type": "markdown",
   "id": "6e033c89",
   "metadata": {},
   "source": [
    "### imputing the white blood reports through blood cell count/mcl "
   ]
  },
  {
   "cell_type": "markdown",
   "id": "079dcc5e",
   "metadata": {},
   "source": [
    "for males 4.35-5.65\n",
    "for females 3.92-5.13"
   ]
  },
  {
   "cell_type": "code",
   "execution_count": 64,
   "id": "55806b64",
   "metadata": {},
   "outputs": [
    {
     "data": {
      "text/html": [
       "<div>\n",
       "<style scoped>\n",
       "    .dataframe tbody tr th:only-of-type {\n",
       "        vertical-align: middle;\n",
       "    }\n",
       "\n",
       "    .dataframe tbody tr th {\n",
       "        vertical-align: top;\n",
       "    }\n",
       "\n",
       "    .dataframe thead th {\n",
       "        text-align: right;\n",
       "    }\n",
       "</style>\n",
       "<table border=\"1\" class=\"dataframe\">\n",
       "  <thead>\n",
       "    <tr style=\"text-align: right;\">\n",
       "      <th></th>\n",
       "      <th>Patient Age</th>\n",
       "      <th>Genes in mother's side</th>\n",
       "      <th>Paternal gene</th>\n",
       "      <th>Blood cell count (mcL)</th>\n",
       "      <th>Mother's age</th>\n",
       "      <th>Father's age</th>\n",
       "      <th>Status</th>\n",
       "      <th>Test 1</th>\n",
       "      <th>Test 2</th>\n",
       "      <th>Test 3</th>\n",
       "      <th>Test 4</th>\n",
       "      <th>Test 5</th>\n",
       "      <th>Follow-up</th>\n",
       "      <th>Gender</th>\n",
       "      <th>Birth asphyxia</th>\n",
       "      <th>Autopsy shows birth defect (if applicable)</th>\n",
       "      <th>Folic acid details (peri-conceptional)</th>\n",
       "      <th>H/O serious maternal illness</th>\n",
       "      <th>H/O radiation exposure (x-ray)</th>\n",
       "      <th>H/O substance abuse</th>\n",
       "      <th>Assisted conception IVF/ART</th>\n",
       "      <th>History of anomalies in previous pregnancies</th>\n",
       "      <th>No. of previous abortion</th>\n",
       "      <th>Birth defects</th>\n",
       "      <th>White Blood cell count (thousand per microliter)</th>\n",
       "      <th>Blood test result</th>\n",
       "      <th>Symptom 1</th>\n",
       "      <th>Symptom 2</th>\n",
       "      <th>Symptom 3</th>\n",
       "      <th>Symptom 4</th>\n",
       "      <th>Symptom 5</th>\n",
       "      <th>Genetic Disorder</th>\n",
       "      <th>Disorder Subclass</th>\n",
       "    </tr>\n",
       "  </thead>\n",
       "  <tbody>\n",
       "  </tbody>\n",
       "</table>\n",
       "</div>"
      ],
      "text/plain": [
       "Empty DataFrame\n",
       "Columns: [Patient Age, Genes in mother's side, Paternal gene, Blood cell count (mcL), Mother's age, Father's age, Status, Test 1, Test 2, Test 3, Test 4, Test 5, Follow-up, Gender, Birth asphyxia, Autopsy shows birth defect (if applicable), Folic acid details (peri-conceptional), H/O serious maternal illness, H/O radiation exposure (x-ray), H/O substance abuse, Assisted conception IVF/ART, History of anomalies in previous pregnancies, No. of previous abortion, Birth defects, White Blood cell count (thousand per microliter), Blood test result, Symptom 1, Symptom 2, Symptom 3, Symptom 4, Symptom 5, Genetic Disorder, Disorder Subclass]\n",
       "Index: []"
      ]
     },
     "execution_count": 64,
     "metadata": {},
     "output_type": "execute_result"
    }
   ],
   "source": [
    "train[train['Blood cell count (mcL)'].isna()]"
   ]
  },
  {
   "cell_type": "markdown",
   "id": "30f68da2",
   "metadata": {},
   "source": [
    "people with normal blood cell count generally tend to have good white blood cell count , which is 4k or above hence we can impute 7.5(avg of range 4k and 11k) for normal and 3.5 for abnormal"
   ]
  },
  {
   "cell_type": "code",
   "execution_count": 65,
   "id": "85244c4b",
   "metadata": {},
   "outputs": [
    {
     "data": {
      "text/html": [
       "<div>\n",
       "<style scoped>\n",
       "    .dataframe tbody tr th:only-of-type {\n",
       "        vertical-align: middle;\n",
       "    }\n",
       "\n",
       "    .dataframe tbody tr th {\n",
       "        vertical-align: top;\n",
       "    }\n",
       "\n",
       "    .dataframe thead th {\n",
       "        text-align: right;\n",
       "    }\n",
       "</style>\n",
       "<table border=\"1\" class=\"dataframe\">\n",
       "  <thead>\n",
       "    <tr style=\"text-align: right;\">\n",
       "      <th></th>\n",
       "      <th>Patient Age</th>\n",
       "      <th>Genes in mother's side</th>\n",
       "      <th>Paternal gene</th>\n",
       "      <th>Blood cell count (mcL)</th>\n",
       "      <th>Mother's age</th>\n",
       "      <th>Father's age</th>\n",
       "      <th>Status</th>\n",
       "      <th>Test 1</th>\n",
       "      <th>Test 2</th>\n",
       "      <th>Test 3</th>\n",
       "      <th>Test 4</th>\n",
       "      <th>Test 5</th>\n",
       "      <th>Follow-up</th>\n",
       "      <th>Gender</th>\n",
       "      <th>Birth asphyxia</th>\n",
       "      <th>Autopsy shows birth defect (if applicable)</th>\n",
       "      <th>Folic acid details (peri-conceptional)</th>\n",
       "      <th>H/O serious maternal illness</th>\n",
       "      <th>H/O radiation exposure (x-ray)</th>\n",
       "      <th>H/O substance abuse</th>\n",
       "      <th>Assisted conception IVF/ART</th>\n",
       "      <th>History of anomalies in previous pregnancies</th>\n",
       "      <th>No. of previous abortion</th>\n",
       "      <th>Birth defects</th>\n",
       "      <th>White Blood cell count (thousand per microliter)</th>\n",
       "      <th>Blood test result</th>\n",
       "      <th>Symptom 1</th>\n",
       "      <th>Symptom 2</th>\n",
       "      <th>Symptom 3</th>\n",
       "      <th>Symptom 4</th>\n",
       "      <th>Symptom 5</th>\n",
       "      <th>Genetic Disorder</th>\n",
       "      <th>Disorder Subclass</th>\n",
       "    </tr>\n",
       "  </thead>\n",
       "  <tbody>\n",
       "    <tr>\n",
       "      <th>2</th>\n",
       "      <td>6.0</td>\n",
       "      <td>1</td>\n",
       "      <td>0</td>\n",
       "      <td>4.893297</td>\n",
       "      <td>41.0</td>\n",
       "      <td>22.0</td>\n",
       "      <td>1</td>\n",
       "      <td>0.0</td>\n",
       "      <td>0.0</td>\n",
       "      <td>0.0</td>\n",
       "      <td>1.0</td>\n",
       "      <td>0.0</td>\n",
       "      <td>0.0</td>\n",
       "      <td>NaN</td>\n",
       "      <td>No record</td>\n",
       "      <td>2.0</td>\n",
       "      <td>1.0</td>\n",
       "      <td>No</td>\n",
       "      <td>1.0</td>\n",
       "      <td>2</td>\n",
       "      <td>1</td>\n",
       "      <td>1</td>\n",
       "      <td>4.0</td>\n",
       "      <td>Singular</td>\n",
       "      <td>NaN</td>\n",
       "      <td>normal</td>\n",
       "      <td>False</td>\n",
       "      <td>True</td>\n",
       "      <td>True</td>\n",
       "      <td>True</td>\n",
       "      <td>True</td>\n",
       "      <td>Multifactorial genetic inheritance disorders</td>\n",
       "      <td>Diabetes</td>\n",
       "    </tr>\n",
       "    <tr>\n",
       "      <th>15</th>\n",
       "      <td>0.0</td>\n",
       "      <td>0</td>\n",
       "      <td>0</td>\n",
       "      <td>4.918570</td>\n",
       "      <td>30.0</td>\n",
       "      <td>24.0</td>\n",
       "      <td>1</td>\n",
       "      <td>0.0</td>\n",
       "      <td>0.0</td>\n",
       "      <td>0.0</td>\n",
       "      <td>NaN</td>\n",
       "      <td>0.0</td>\n",
       "      <td>1.0</td>\n",
       "      <td>Female</td>\n",
       "      <td>NaN</td>\n",
       "      <td>2.0</td>\n",
       "      <td>1.0</td>\n",
       "      <td>NaN</td>\n",
       "      <td>2.0</td>\n",
       "      <td>2</td>\n",
       "      <td>2</td>\n",
       "      <td>1</td>\n",
       "      <td>2.0</td>\n",
       "      <td>Multiple</td>\n",
       "      <td>NaN</td>\n",
       "      <td>normal</td>\n",
       "      <td>False</td>\n",
       "      <td>True</td>\n",
       "      <td>False</td>\n",
       "      <td>True</td>\n",
       "      <td>True</td>\n",
       "      <td>Mitochondrial genetic inheritance disorders</td>\n",
       "      <td>Mitochondrial myopathy</td>\n",
       "    </tr>\n",
       "    <tr>\n",
       "      <th>16</th>\n",
       "      <td>0.0</td>\n",
       "      <td>1</td>\n",
       "      <td>0</td>\n",
       "      <td>4.798520</td>\n",
       "      <td>34.0</td>\n",
       "      <td>57.0</td>\n",
       "      <td>1</td>\n",
       "      <td>0.0</td>\n",
       "      <td>NaN</td>\n",
       "      <td>0.0</td>\n",
       "      <td>1.0</td>\n",
       "      <td>0.0</td>\n",
       "      <td>0.0</td>\n",
       "      <td>Ambiguous</td>\n",
       "      <td>Not available</td>\n",
       "      <td>2.0</td>\n",
       "      <td>1.0</td>\n",
       "      <td>No</td>\n",
       "      <td>2.0</td>\n",
       "      <td>2</td>\n",
       "      <td>0</td>\n",
       "      <td>1</td>\n",
       "      <td>4.0</td>\n",
       "      <td>Multiple</td>\n",
       "      <td>NaN</td>\n",
       "      <td>normal</td>\n",
       "      <td>True</td>\n",
       "      <td>True</td>\n",
       "      <td>True</td>\n",
       "      <td>True</td>\n",
       "      <td>True</td>\n",
       "      <td>Single-gene inheritance diseases</td>\n",
       "      <td>Cystic fibrosis</td>\n",
       "    </tr>\n",
       "    <tr>\n",
       "      <th>25</th>\n",
       "      <td>13.0</td>\n",
       "      <td>1</td>\n",
       "      <td>0</td>\n",
       "      <td>4.854488</td>\n",
       "      <td>34.0</td>\n",
       "      <td>43.0</td>\n",
       "      <td>0</td>\n",
       "      <td>0.0</td>\n",
       "      <td>0.0</td>\n",
       "      <td>0.0</td>\n",
       "      <td>1.0</td>\n",
       "      <td>0.0</td>\n",
       "      <td>0.0</td>\n",
       "      <td>Female</td>\n",
       "      <td>Yes</td>\n",
       "      <td>1.0</td>\n",
       "      <td>1.0</td>\n",
       "      <td>No</td>\n",
       "      <td>0.0</td>\n",
       "      <td>2</td>\n",
       "      <td>1</td>\n",
       "      <td>1</td>\n",
       "      <td>2.0</td>\n",
       "      <td>Singular</td>\n",
       "      <td>NaN</td>\n",
       "      <td>slightly abnormal</td>\n",
       "      <td>False</td>\n",
       "      <td>True</td>\n",
       "      <td>False</td>\n",
       "      <td>False</td>\n",
       "      <td>False</td>\n",
       "      <td>Single-gene inheritance diseases</td>\n",
       "      <td>NaN</td>\n",
       "    </tr>\n",
       "    <tr>\n",
       "      <th>30</th>\n",
       "      <td>11.0</td>\n",
       "      <td>1</td>\n",
       "      <td>1</td>\n",
       "      <td>4.839044</td>\n",
       "      <td>46.0</td>\n",
       "      <td>42.0</td>\n",
       "      <td>1</td>\n",
       "      <td>0.0</td>\n",
       "      <td>0.0</td>\n",
       "      <td>0.0</td>\n",
       "      <td>1.0</td>\n",
       "      <td>0.0</td>\n",
       "      <td>0.0</td>\n",
       "      <td>Male</td>\n",
       "      <td>Yes</td>\n",
       "      <td>2.0</td>\n",
       "      <td>1.0</td>\n",
       "      <td>Yes</td>\n",
       "      <td>NaN</td>\n",
       "      <td>1</td>\n",
       "      <td>0</td>\n",
       "      <td>0</td>\n",
       "      <td>4.0</td>\n",
       "      <td>Multiple</td>\n",
       "      <td>NaN</td>\n",
       "      <td>abnormal</td>\n",
       "      <td>False</td>\n",
       "      <td>True</td>\n",
       "      <td>False</td>\n",
       "      <td>False</td>\n",
       "      <td>False</td>\n",
       "      <td>Mitochondrial genetic inheritance disorders</td>\n",
       "      <td>Mitochondrial myopathy</td>\n",
       "    </tr>\n",
       "    <tr>\n",
       "      <th>...</th>\n",
       "      <td>...</td>\n",
       "      <td>...</td>\n",
       "      <td>...</td>\n",
       "      <td>...</td>\n",
       "      <td>...</td>\n",
       "      <td>...</td>\n",
       "      <td>...</td>\n",
       "      <td>...</td>\n",
       "      <td>...</td>\n",
       "      <td>...</td>\n",
       "      <td>...</td>\n",
       "      <td>...</td>\n",
       "      <td>...</td>\n",
       "      <td>...</td>\n",
       "      <td>...</td>\n",
       "      <td>...</td>\n",
       "      <td>...</td>\n",
       "      <td>...</td>\n",
       "      <td>...</td>\n",
       "      <td>...</td>\n",
       "      <td>...</td>\n",
       "      <td>...</td>\n",
       "      <td>...</td>\n",
       "      <td>...</td>\n",
       "      <td>...</td>\n",
       "      <td>...</td>\n",
       "      <td>...</td>\n",
       "      <td>...</td>\n",
       "      <td>...</td>\n",
       "      <td>...</td>\n",
       "      <td>...</td>\n",
       "      <td>...</td>\n",
       "      <td>...</td>\n",
       "    </tr>\n",
       "    <tr>\n",
       "      <th>22051</th>\n",
       "      <td>7.0</td>\n",
       "      <td>1</td>\n",
       "      <td>1</td>\n",
       "      <td>4.664764</td>\n",
       "      <td>42.0</td>\n",
       "      <td>30.0</td>\n",
       "      <td>0</td>\n",
       "      <td>0.0</td>\n",
       "      <td>0.0</td>\n",
       "      <td>NaN</td>\n",
       "      <td>1.0</td>\n",
       "      <td>0.0</td>\n",
       "      <td>1.0</td>\n",
       "      <td>NaN</td>\n",
       "      <td>Not available</td>\n",
       "      <td>0.0</td>\n",
       "      <td>0.0</td>\n",
       "      <td>NaN</td>\n",
       "      <td>0.0</td>\n",
       "      <td>0</td>\n",
       "      <td>2</td>\n",
       "      <td>2</td>\n",
       "      <td>4.0</td>\n",
       "      <td>Singular</td>\n",
       "      <td>NaN</td>\n",
       "      <td>normal</td>\n",
       "      <td>False</td>\n",
       "      <td>False</td>\n",
       "      <td>False</td>\n",
       "      <td>False</td>\n",
       "      <td>False</td>\n",
       "      <td>NaN</td>\n",
       "      <td>Tay-Sachs</td>\n",
       "    </tr>\n",
       "    <tr>\n",
       "      <th>22055</th>\n",
       "      <td>1.0</td>\n",
       "      <td>0</td>\n",
       "      <td>0</td>\n",
       "      <td>4.516767</td>\n",
       "      <td>35.0</td>\n",
       "      <td>42.0</td>\n",
       "      <td>0</td>\n",
       "      <td>0.0</td>\n",
       "      <td>0.0</td>\n",
       "      <td>NaN</td>\n",
       "      <td>NaN</td>\n",
       "      <td>0.0</td>\n",
       "      <td>0.0</td>\n",
       "      <td>Male</td>\n",
       "      <td>Yes</td>\n",
       "      <td>1.0</td>\n",
       "      <td>NaN</td>\n",
       "      <td>No</td>\n",
       "      <td>0.0</td>\n",
       "      <td>2</td>\n",
       "      <td>1</td>\n",
       "      <td>1</td>\n",
       "      <td>2.0</td>\n",
       "      <td>Multiple</td>\n",
       "      <td>NaN</td>\n",
       "      <td>slightly abnormal</td>\n",
       "      <td>True</td>\n",
       "      <td>True</td>\n",
       "      <td>False</td>\n",
       "      <td>False</td>\n",
       "      <td>True</td>\n",
       "      <td>NaN</td>\n",
       "      <td>Tay-Sachs</td>\n",
       "    </tr>\n",
       "    <tr>\n",
       "      <th>22067</th>\n",
       "      <td>0.0</td>\n",
       "      <td>1</td>\n",
       "      <td>1</td>\n",
       "      <td>4.839422</td>\n",
       "      <td>42.0</td>\n",
       "      <td>43.0</td>\n",
       "      <td>0</td>\n",
       "      <td>0.0</td>\n",
       "      <td>0.0</td>\n",
       "      <td>0.0</td>\n",
       "      <td>NaN</td>\n",
       "      <td>0.0</td>\n",
       "      <td>0.0</td>\n",
       "      <td>Male</td>\n",
       "      <td>No</td>\n",
       "      <td>2.0</td>\n",
       "      <td>1.0</td>\n",
       "      <td>No</td>\n",
       "      <td>NaN</td>\n",
       "      <td>2</td>\n",
       "      <td>0</td>\n",
       "      <td>0</td>\n",
       "      <td>0.0</td>\n",
       "      <td>Multiple</td>\n",
       "      <td>NaN</td>\n",
       "      <td>inconclusive</td>\n",
       "      <td>True</td>\n",
       "      <td>False</td>\n",
       "      <td>True</td>\n",
       "      <td>False</td>\n",
       "      <td>False</td>\n",
       "      <td>Single-gene inheritance diseases</td>\n",
       "      <td>Tay-Sachs</td>\n",
       "    </tr>\n",
       "    <tr>\n",
       "      <th>22073</th>\n",
       "      <td>13.0</td>\n",
       "      <td>1</td>\n",
       "      <td>1</td>\n",
       "      <td>4.874635</td>\n",
       "      <td>44.0</td>\n",
       "      <td>62.0</td>\n",
       "      <td>1</td>\n",
       "      <td>0.0</td>\n",
       "      <td>NaN</td>\n",
       "      <td>0.0</td>\n",
       "      <td>1.0</td>\n",
       "      <td>0.0</td>\n",
       "      <td>NaN</td>\n",
       "      <td>NaN</td>\n",
       "      <td>No record</td>\n",
       "      <td>2.0</td>\n",
       "      <td>0.0</td>\n",
       "      <td>NaN</td>\n",
       "      <td>0.0</td>\n",
       "      <td>0</td>\n",
       "      <td>1</td>\n",
       "      <td>0</td>\n",
       "      <td>1.0</td>\n",
       "      <td>NaN</td>\n",
       "      <td>NaN</td>\n",
       "      <td>normal</td>\n",
       "      <td>False</td>\n",
       "      <td>False</td>\n",
       "      <td>False</td>\n",
       "      <td>True</td>\n",
       "      <td>True</td>\n",
       "      <td>NaN</td>\n",
       "      <td>Leigh syndrome</td>\n",
       "    </tr>\n",
       "    <tr>\n",
       "      <th>22074</th>\n",
       "      <td>4.0</td>\n",
       "      <td>0</td>\n",
       "      <td>0</td>\n",
       "      <td>4.789307</td>\n",
       "      <td>35.0</td>\n",
       "      <td>51.0</td>\n",
       "      <td>1</td>\n",
       "      <td>0.0</td>\n",
       "      <td>0.0</td>\n",
       "      <td>0.0</td>\n",
       "      <td>1.0</td>\n",
       "      <td>0.0</td>\n",
       "      <td>0.0</td>\n",
       "      <td>Male</td>\n",
       "      <td>Yes</td>\n",
       "      <td>2.0</td>\n",
       "      <td>0.0</td>\n",
       "      <td>No</td>\n",
       "      <td>2.0</td>\n",
       "      <td>0</td>\n",
       "      <td>0</td>\n",
       "      <td>0</td>\n",
       "      <td>3.0</td>\n",
       "      <td>Multiple</td>\n",
       "      <td>NaN</td>\n",
       "      <td>normal</td>\n",
       "      <td>False</td>\n",
       "      <td>False</td>\n",
       "      <td>True</td>\n",
       "      <td>False</td>\n",
       "      <td>False</td>\n",
       "      <td>Single-gene inheritance diseases</td>\n",
       "      <td>Hemochromatosis</td>\n",
       "    </tr>\n",
       "  </tbody>\n",
       "</table>\n",
       "<p>2148 rows × 33 columns</p>\n",
       "</div>"
      ],
      "text/plain": [
       "       Patient Age  Genes in mother's side  Paternal gene  \\\n",
       "2              6.0                       1              0   \n",
       "15             0.0                       0              0   \n",
       "16             0.0                       1              0   \n",
       "25            13.0                       1              0   \n",
       "30            11.0                       1              1   \n",
       "...            ...                     ...            ...   \n",
       "22051          7.0                       1              1   \n",
       "22055          1.0                       0              0   \n",
       "22067          0.0                       1              1   \n",
       "22073         13.0                       1              1   \n",
       "22074          4.0                       0              0   \n",
       "\n",
       "       Blood cell count (mcL)  Mother's age  Father's age  Status  Test 1  \\\n",
       "2                    4.893297          41.0          22.0       1     0.0   \n",
       "15                   4.918570          30.0          24.0       1     0.0   \n",
       "16                   4.798520          34.0          57.0       1     0.0   \n",
       "25                   4.854488          34.0          43.0       0     0.0   \n",
       "30                   4.839044          46.0          42.0       1     0.0   \n",
       "...                       ...           ...           ...     ...     ...   \n",
       "22051                4.664764          42.0          30.0       0     0.0   \n",
       "22055                4.516767          35.0          42.0       0     0.0   \n",
       "22067                4.839422          42.0          43.0       0     0.0   \n",
       "22073                4.874635          44.0          62.0       1     0.0   \n",
       "22074                4.789307          35.0          51.0       1     0.0   \n",
       "\n",
       "       Test 2  Test 3  Test 4  Test 5  Follow-up     Gender Birth asphyxia  \\\n",
       "2         0.0     0.0     1.0     0.0        0.0        NaN      No record   \n",
       "15        0.0     0.0     NaN     0.0        1.0     Female            NaN   \n",
       "16        NaN     0.0     1.0     0.0        0.0  Ambiguous  Not available   \n",
       "25        0.0     0.0     1.0     0.0        0.0     Female            Yes   \n",
       "30        0.0     0.0     1.0     0.0        0.0       Male            Yes   \n",
       "...       ...     ...     ...     ...        ...        ...            ...   \n",
       "22051     0.0     NaN     1.0     0.0        1.0        NaN  Not available   \n",
       "22055     0.0     NaN     NaN     0.0        0.0       Male            Yes   \n",
       "22067     0.0     0.0     NaN     0.0        0.0       Male             No   \n",
       "22073     NaN     0.0     1.0     0.0        NaN        NaN      No record   \n",
       "22074     0.0     0.0     1.0     0.0        0.0       Male            Yes   \n",
       "\n",
       "       Autopsy shows birth defect (if applicable)  \\\n",
       "2                                             2.0   \n",
       "15                                            2.0   \n",
       "16                                            2.0   \n",
       "25                                            1.0   \n",
       "30                                            2.0   \n",
       "...                                           ...   \n",
       "22051                                         0.0   \n",
       "22055                                         1.0   \n",
       "22067                                         2.0   \n",
       "22073                                         2.0   \n",
       "22074                                         2.0   \n",
       "\n",
       "       Folic acid details (peri-conceptional) H/O serious maternal illness  \\\n",
       "2                                         1.0                           No   \n",
       "15                                        1.0                          NaN   \n",
       "16                                        1.0                           No   \n",
       "25                                        1.0                           No   \n",
       "30                                        1.0                          Yes   \n",
       "...                                       ...                          ...   \n",
       "22051                                     0.0                          NaN   \n",
       "22055                                     NaN                           No   \n",
       "22067                                     1.0                           No   \n",
       "22073                                     0.0                          NaN   \n",
       "22074                                     0.0                           No   \n",
       "\n",
       "       H/O radiation exposure (x-ray)  H/O substance abuse  \\\n",
       "2                                 1.0                    2   \n",
       "15                                2.0                    2   \n",
       "16                                2.0                    2   \n",
       "25                                0.0                    2   \n",
       "30                                NaN                    1   \n",
       "...                               ...                  ...   \n",
       "22051                             0.0                    0   \n",
       "22055                             0.0                    2   \n",
       "22067                             NaN                    2   \n",
       "22073                             0.0                    0   \n",
       "22074                             2.0                    0   \n",
       "\n",
       "       Assisted conception IVF/ART  \\\n",
       "2                                1   \n",
       "15                               2   \n",
       "16                               0   \n",
       "25                               1   \n",
       "30                               0   \n",
       "...                            ...   \n",
       "22051                            2   \n",
       "22055                            1   \n",
       "22067                            0   \n",
       "22073                            1   \n",
       "22074                            0   \n",
       "\n",
       "       History of anomalies in previous pregnancies  No. of previous abortion  \\\n",
       "2                                                 1                       4.0   \n",
       "15                                                1                       2.0   \n",
       "16                                                1                       4.0   \n",
       "25                                                1                       2.0   \n",
       "30                                                0                       4.0   \n",
       "...                                             ...                       ...   \n",
       "22051                                             2                       4.0   \n",
       "22055                                             1                       2.0   \n",
       "22067                                             0                       0.0   \n",
       "22073                                             0                       1.0   \n",
       "22074                                             0                       3.0   \n",
       "\n",
       "      Birth defects  White Blood cell count (thousand per microliter)  \\\n",
       "2          Singular                                               NaN   \n",
       "15         Multiple                                               NaN   \n",
       "16         Multiple                                               NaN   \n",
       "25         Singular                                               NaN   \n",
       "30         Multiple                                               NaN   \n",
       "...             ...                                               ...   \n",
       "22051      Singular                                               NaN   \n",
       "22055      Multiple                                               NaN   \n",
       "22067      Multiple                                               NaN   \n",
       "22073           NaN                                               NaN   \n",
       "22074      Multiple                                               NaN   \n",
       "\n",
       "       Blood test result  Symptom 1  Symptom 2  Symptom 3  Symptom 4  \\\n",
       "2                 normal      False       True       True       True   \n",
       "15                normal      False       True      False       True   \n",
       "16                normal       True       True       True       True   \n",
       "25     slightly abnormal      False       True      False      False   \n",
       "30              abnormal      False       True      False      False   \n",
       "...                  ...        ...        ...        ...        ...   \n",
       "22051             normal      False      False      False      False   \n",
       "22055  slightly abnormal       True       True      False      False   \n",
       "22067       inconclusive       True      False       True      False   \n",
       "22073             normal      False      False      False       True   \n",
       "22074             normal      False      False       True      False   \n",
       "\n",
       "       Symptom 5                              Genetic Disorder  \\\n",
       "2           True  Multifactorial genetic inheritance disorders   \n",
       "15          True   Mitochondrial genetic inheritance disorders   \n",
       "16          True              Single-gene inheritance diseases   \n",
       "25         False              Single-gene inheritance diseases   \n",
       "30         False   Mitochondrial genetic inheritance disorders   \n",
       "...          ...                                           ...   \n",
       "22051      False                                           NaN   \n",
       "22055       True                                           NaN   \n",
       "22067      False              Single-gene inheritance diseases   \n",
       "22073       True                                           NaN   \n",
       "22074      False              Single-gene inheritance diseases   \n",
       "\n",
       "            Disorder Subclass  \n",
       "2                    Diabetes  \n",
       "15     Mitochondrial myopathy  \n",
       "16            Cystic fibrosis  \n",
       "25                        NaN  \n",
       "30     Mitochondrial myopathy  \n",
       "...                       ...  \n",
       "22051               Tay-Sachs  \n",
       "22055               Tay-Sachs  \n",
       "22067               Tay-Sachs  \n",
       "22073          Leigh syndrome  \n",
       "22074         Hemochromatosis  \n",
       "\n",
       "[2148 rows x 33 columns]"
      ]
     },
     "execution_count": 65,
     "metadata": {},
     "output_type": "execute_result"
    }
   ],
   "source": [
    "train[train['White Blood cell count (thousand per microliter)'].isna()]"
   ]
  },
  {
   "cell_type": "code",
   "execution_count": 66,
   "id": "51bbb7fa",
   "metadata": {},
   "outputs": [],
   "source": [
    "train.loc[(train['White Blood cell count (thousand per microliter)'].isna()) &\n",
    "          (train['Blood cell count (mcL)']>4),'White Blood cell count (thousand per microliter)'] = 7.75"
   ]
  },
  {
   "cell_type": "code",
   "execution_count": 67,
   "id": "fab31441",
   "metadata": {},
   "outputs": [],
   "source": [
    "def gender(x):\n",
    "    if(x=='Male'):\n",
    "        return 0\n",
    "    elif(x=='Female'):\n",
    "        return 1\n",
    "    else:\n",
    "        return 2"
   ]
  },
  {
   "cell_type": "code",
   "execution_count": 68,
   "id": "41f342c9",
   "metadata": {},
   "outputs": [],
   "source": [
    "train['Gender'] = train['Gender'].map(gender)\n",
    "test['Gender'] = test['Gender'].map(gender)"
   ]
  },
  {
   "cell_type": "code",
   "execution_count": 69,
   "id": "dfef9bd3",
   "metadata": {},
   "outputs": [
    {
     "data": {
      "text/plain": [
       "array([nan, 'No', 'No record', 'Not available', 'Yes'], dtype=object)"
      ]
     },
     "execution_count": 69,
     "metadata": {},
     "output_type": "execute_result"
    }
   ],
   "source": [
    "train['Birth asphyxia'].unique()"
   ]
  },
  {
   "cell_type": "code",
   "execution_count": 70,
   "id": "703c621f",
   "metadata": {},
   "outputs": [
    {
     "data": {
      "text/plain": [
       "array(['Yes', 'Not available', 'No', 'No record', '-99'], dtype=object)"
      ]
     },
     "execution_count": 70,
     "metadata": {},
     "output_type": "execute_result"
    }
   ],
   "source": [
    "test['Birth asphyxia'].unique()"
   ]
  },
  {
   "cell_type": "code",
   "execution_count": 71,
   "id": "e3c8e0a4",
   "metadata": {},
   "outputs": [],
   "source": [
    "test['Birth asphyxia'].replace(['Not available','No record','-99'],'none',inplace=True)\n",
    "train['Birth asphyxia'].replace(['Not available','No record','-99'],'none',inplace=True)"
   ]
  },
  {
   "cell_type": "code",
   "execution_count": 72,
   "id": "993c8695",
   "metadata": {},
   "outputs": [
    {
     "data": {
      "text/plain": [
       "array(['Yes', 'none', 'No'], dtype=object)"
      ]
     },
     "execution_count": 72,
     "metadata": {},
     "output_type": "execute_result"
    }
   ],
   "source": [
    "test['Birth asphyxia'].unique()"
   ]
  },
  {
   "cell_type": "code",
   "execution_count": 73,
   "id": "09b2ae40",
   "metadata": {},
   "outputs": [],
   "source": [
    "def asp(x):\n",
    "    if(x=='Yes'):\n",
    "        return 1\n",
    "    elif(x=='No'):\n",
    "        return 0\n",
    "    else:\n",
    "        return 2"
   ]
  },
  {
   "cell_type": "code",
   "execution_count": 74,
   "id": "71444893",
   "metadata": {},
   "outputs": [],
   "source": [
    "train['Birth asphyxia'] = train['Birth asphyxia'].map(asp)\n",
    "test['Birth asphyxia'] = test['Birth asphyxia'].map(asp)"
   ]
  },
  {
   "cell_type": "code",
   "execution_count": 75,
   "id": "8005390c",
   "metadata": {},
   "outputs": [
    {
     "data": {
      "text/plain": [
       "array([nan, 'Multiple', 'Singular'], dtype=object)"
      ]
     },
     "execution_count": 75,
     "metadata": {},
     "output_type": "execute_result"
    }
   ],
   "source": [
    "train['Birth defects'].unique()"
   ]
  },
  {
   "cell_type": "code",
   "execution_count": 76,
   "id": "ab9c5fad",
   "metadata": {},
   "outputs": [
    {
     "data": {
      "text/plain": [
       "array(['Multiple', 'Singular', '-99'], dtype=object)"
      ]
     },
     "execution_count": 76,
     "metadata": {},
     "output_type": "execute_result"
    }
   ],
   "source": [
    "test['Birth defects'].unique()"
   ]
  },
  {
   "cell_type": "code",
   "execution_count": 77,
   "id": "38e9ae60",
   "metadata": {},
   "outputs": [
    {
     "data": {
      "text/plain": [
       "<AxesSubplot:xlabel='Birth defects', ylabel='count'>"
      ]
     },
     "execution_count": 77,
     "metadata": {},
     "output_type": "execute_result"
    },
    {
     "data": {
      "image/png": "[encoded data removed]",
      "text/plain": [
       "<Figure size 432x288 with 1 Axes>"
      ]
     },
     "metadata": {
      "needs_background": "light"
     },
     "output_type": "display_data"
    }
   ],
   "source": [
    "sns.countplot(x=train['Birth defects'])"
   ]
  },
  {
   "cell_type": "code",
   "execution_count": 78,
   "id": "b2e50b91",
   "metadata": {},
   "outputs": [],
   "source": [
    "train['Birth defects'] = train['Birth defects'].map(lambda x: 1 if x=='Multiple' else 0)\n",
    "test['Birth defects'] = test['Birth defects'].map(lambda x: 1 if x=='Multiple' else 0)"
   ]
  },
  {
   "cell_type": "code",
   "execution_count": 79,
   "id": "f309e282",
   "metadata": {},
   "outputs": [
    {
     "data": {
      "text/plain": [
       "<AxesSubplot:>"
      ]
     },
     "execution_count": 79,
     "metadata": {},
     "output_type": "execute_result"
    },
    {
     "data": {
      "image/png": "[encoded data removed]",
      "text/plain": [
       "<Figure size 1800x720 with 2 Axes>"
      ]
     },
     "metadata": {
      "needs_background": "light"
     },
     "output_type": "display_data"
    }
   ],
   "source": [
    "ms.matrix(train)"
   ]
  },
  {
   "cell_type": "code",
   "execution_count": 80,
   "id": "8f1e9449",
   "metadata": {},
   "outputs": [
    {
     "data": {
      "text/plain": [
       "slightly abnormal    5128\n",
       "normal               4954\n",
       "inconclusive         4952\n",
       "abnormal             4904\n",
       "Name: Blood test result, dtype: int64"
      ]
     },
     "execution_count": 80,
     "metadata": {},
     "output_type": "execute_result"
    }
   ],
   "source": [
    "train['Blood test result'].value_counts()"
   ]
  },
  {
   "cell_type": "code",
   "execution_count": 81,
   "id": "814cf5e2",
   "metadata": {},
   "outputs": [
    {
     "data": {
      "text/plain": [
       "-99                  2080\n",
       "abnormal             1881\n",
       "slightly abnormal    1871\n",
       "normal               1829\n",
       "inconclusive         1804\n",
       "Name: Blood test result, dtype: int64"
      ]
     },
     "execution_count": 81,
     "metadata": {},
     "output_type": "execute_result"
    }
   ],
   "source": [
    "test['Blood test result'].value_counts()"
   ]
  },
  {
   "cell_type": "code",
   "execution_count": 82,
   "id": "b940bac0",
   "metadata": {},
   "outputs": [],
   "source": [
    "def bloodtest(x):\n",
    "    if(x=='normal'):\n",
    "        return 1\n",
    "    elif(x=='abnormal'):\n",
    "        return 0\n",
    "    elif(x=='slightly abnormal'):\n",
    "        return 2\n",
    "    else:\n",
    "        return 3"
   ]
  },
  {
   "cell_type": "code",
   "execution_count": 83,
   "id": "89e709dd",
   "metadata": {},
   "outputs": [],
   "source": [
    "train['Blood test result'] = train['Blood test result'].map(bloodtest)\n",
    "test['Blood test result'] = test['Blood test result'].map(bloodtest)"
   ]
  },
  {
   "cell_type": "code",
   "execution_count": 84,
   "id": "8d94a12c",
   "metadata": {},
   "outputs": [
    {
     "data": {
      "text/plain": [
       "<AxesSubplot:>"
      ]
     },
     "execution_count": 84,
     "metadata": {},
     "output_type": "execute_result"
    },
    {
     "data": {
      "image/png": "[encoded data removed]",
      "text/plain": [
       "<Figure size 1800x720 with 2 Axes>"
      ]
     },
     "metadata": {
      "needs_background": "light"
     },
     "output_type": "display_data"
    }
   ],
   "source": [
    "ms.matrix(train[['Test 1','Test 2','Test 3','Test 4','Test 5']])"
   ]
  },
  {
   "cell_type": "code",
   "execution_count": 85,
   "id": "2fb033de",
   "metadata": {},
   "outputs": [],
   "source": [
    "train.drop(['Test 1','Test 2','Test 3','Test 4','Test 5'],axis=1,inplace=True)\n",
    "test.drop(['Test 1','Test 2','Test 3','Test 4','Test 5'],axis=1,inplace=True)"
   ]
  },
  {
   "cell_type": "code",
   "execution_count": 86,
   "id": "9cb729be",
   "metadata": {},
   "outputs": [
    {
     "data": {
      "text/plain": [
       "array([nan, 'Yes', 'No'], dtype=object)"
      ]
     },
     "execution_count": 86,
     "metadata": {},
     "output_type": "execute_result"
    }
   ],
   "source": [
    "train['H/O serious maternal illness'].unique()"
   ]
  },
  {
   "cell_type": "code",
   "execution_count": 87,
   "id": "62d7feb6",
   "metadata": {},
   "outputs": [
    {
     "data": {
      "text/plain": [
       "array(['No', 'Yes', '-99'], dtype=object)"
      ]
     },
     "execution_count": 87,
     "metadata": {},
     "output_type": "execute_result"
    }
   ],
   "source": [
    "test['H/O serious maternal illness'].unique()"
   ]
  },
  {
   "cell_type": "code",
   "execution_count": 88,
   "id": "0709c91f",
   "metadata": {},
   "outputs": [],
   "source": [
    "def onezero(x):\n",
    "    return 1 if x=='Yes' else 0"
   ]
  },
  {
   "cell_type": "code",
   "execution_count": 89,
   "id": "fe1f0d23",
   "metadata": {},
   "outputs": [],
   "source": [
    "train['H/O serious maternal illness']=train['H/O serious maternal illness'].map(onezero)\n",
    "test['H/O serious maternal illness'] = test['H/O serious maternal illness'].map(onezero)"
   ]
  },
  {
   "cell_type": "code",
   "execution_count": 90,
   "id": "3f429936",
   "metadata": {},
   "outputs": [],
   "source": [
    "train.dropna(axis=0,inplace=True)"
   ]
  },
  {
   "cell_type": "code",
   "execution_count": 91,
   "id": "26ba71f3",
   "metadata": {},
   "outputs": [
    {
     "data": {
      "text/plain": [
       "array(['Multifactorial genetic inheritance disorders',\n",
       "       'Mitochondrial genetic inheritance disorders',\n",
       "       'Single-gene inheritance diseases'], dtype=object)"
      ]
     },
     "execution_count": 91,
     "metadata": {},
     "output_type": "execute_result"
    }
   ],
   "source": [
    "train['Genetic Disorder'].unique()"
   ]
  },
  {
   "cell_type": "code",
   "execution_count": 92,
   "id": "b46fa106",
   "metadata": {},
   "outputs": [
    {
     "data": {
      "text/plain": [
       "array(['Diabetes', 'Leigh syndrome', 'Cancer', 'Cystic fibrosis',\n",
       "       'Tay-Sachs', 'Hemochromatosis', 'Mitochondrial myopathy',\n",
       "       \"Leber's hereditary optic neuropathy\", \"Alzheimer's\"], dtype=object)"
      ]
     },
     "execution_count": 92,
     "metadata": {},
     "output_type": "execute_result"
    }
   ],
   "source": [
    "train['Disorder Subclass'].unique()"
   ]
  },
  {
   "cell_type": "code",
   "execution_count": 93,
   "id": "e5691f4d",
   "metadata": {},
   "outputs": [],
   "source": [
    "x= range(0,9)"
   ]
  },
  {
   "cell_type": "code",
   "execution_count": 94,
   "id": "1f43061a",
   "metadata": {},
   "outputs": [
    {
     "data": {
      "text/html": [
       "<div>\n",
       "<style scoped>\n",
       "    .dataframe tbody tr th:only-of-type {\n",
       "        vertical-align: middle;\n",
       "    }\n",
       "\n",
       "    .dataframe tbody tr th {\n",
       "        vertical-align: top;\n",
       "    }\n",
       "\n",
       "    .dataframe thead th {\n",
       "        text-align: right;\n",
       "    }\n",
       "</style>\n",
       "<table border=\"1\" class=\"dataframe\">\n",
       "  <thead>\n",
       "    <tr style=\"text-align: right;\">\n",
       "      <th></th>\n",
       "      <th>class</th>\n",
       "      <th>codes</th>\n",
       "    </tr>\n",
       "  </thead>\n",
       "  <tbody>\n",
       "    <tr>\n",
       "      <th>0</th>\n",
       "      <td>Diabetes</td>\n",
       "      <td>0</td>\n",
       "    </tr>\n",
       "    <tr>\n",
       "      <th>1</th>\n",
       "      <td>Leigh syndrome</td>\n",
       "      <td>1</td>\n",
       "    </tr>\n",
       "    <tr>\n",
       "      <th>2</th>\n",
       "      <td>Cancer</td>\n",
       "      <td>2</td>\n",
       "    </tr>\n",
       "    <tr>\n",
       "      <th>3</th>\n",
       "      <td>Cystic fibrosis</td>\n",
       "      <td>3</td>\n",
       "    </tr>\n",
       "    <tr>\n",
       "      <th>4</th>\n",
       "      <td>Tay-Sachs</td>\n",
       "      <td>4</td>\n",
       "    </tr>\n",
       "    <tr>\n",
       "      <th>5</th>\n",
       "      <td>Hemochromatosis</td>\n",
       "      <td>5</td>\n",
       "    </tr>\n",
       "    <tr>\n",
       "      <th>6</th>\n",
       "      <td>Mitochondrial myopathy</td>\n",
       "      <td>6</td>\n",
       "    </tr>\n",
       "    <tr>\n",
       "      <th>7</th>\n",
       "      <td>Leber's hereditary optic neuropathy</td>\n",
       "      <td>7</td>\n",
       "    </tr>\n",
       "    <tr>\n",
       "      <th>8</th>\n",
       "      <td>Alzheimer's</td>\n",
       "      <td>8</td>\n",
       "    </tr>\n",
       "  </tbody>\n",
       "</table>\n",
       "</div>"
      ],
      "text/plain": [
       "                                 class  codes\n",
       "0                             Diabetes      0\n",
       "1                       Leigh syndrome      1\n",
       "2                               Cancer      2\n",
       "3                      Cystic fibrosis      3\n",
       "4                            Tay-Sachs      4\n",
       "5                      Hemochromatosis      5\n",
       "6               Mitochondrial myopathy      6\n",
       "7  Leber's hereditary optic neuropathy      7\n",
       "8                          Alzheimer's      8"
      ]
     },
     "execution_count": 94,
     "metadata": {},
     "output_type": "execute_result"
    }
   ],
   "source": [
    "disorder = {\"class\":train['Disorder Subclass'].unique(),\"codes\":x}\n",
    "pd.DataFrame(disorder)"
   ]
  },
  {
   "cell_type": "code",
   "execution_count": 95,
   "id": "8546a513",
   "metadata": {},
   "outputs": [],
   "source": [
    "def subclass(x):\n",
    "    cnt = 0\n",
    "    for i in train['Disorder Subclass'].unique():\n",
    "        if(x==i):\n",
    "            return cnt\n",
    "        cnt+=1\n",
    "train['subclass'] = train['Disorder Subclass'].map(subclass)"
   ]
  },
  {
   "cell_type": "code",
   "execution_count": 96,
   "id": "80c4ba91",
   "metadata": {},
   "outputs": [
    {
     "data": {
      "text/plain": [
       "array(['Multifactorial genetic inheritance disorders',\n",
       "       'Mitochondrial genetic inheritance disorders',\n",
       "       'Single-gene inheritance diseases'], dtype=object)"
      ]
     },
     "execution_count": 96,
     "metadata": {},
     "output_type": "execute_result"
    }
   ],
   "source": [
    "train['Genetic Disorder'].unique()"
   ]
  },
  {
   "cell_type": "code",
   "execution_count": 97,
   "id": "5bb84341",
   "metadata": {},
   "outputs": [
    {
     "data": {
      "text/html": [
       "<div>\n",
       "<style scoped>\n",
       "    .dataframe tbody tr th:only-of-type {\n",
       "        vertical-align: middle;\n",
       "    }\n",
       "\n",
       "    .dataframe tbody tr th {\n",
       "        vertical-align: top;\n",
       "    }\n",
       "\n",
       "    .dataframe thead th {\n",
       "        text-align: right;\n",
       "    }\n",
       "</style>\n",
       "<table border=\"1\" class=\"dataframe\">\n",
       "  <thead>\n",
       "    <tr style=\"text-align: right;\">\n",
       "      <th></th>\n",
       "      <th>disorder</th>\n",
       "      <th>codes</th>\n",
       "    </tr>\n",
       "  </thead>\n",
       "  <tbody>\n",
       "    <tr>\n",
       "      <th>0</th>\n",
       "      <td>Multifactorial genetic inheritance disorders</td>\n",
       "      <td>0</td>\n",
       "    </tr>\n",
       "    <tr>\n",
       "      <th>1</th>\n",
       "      <td>Mitochondrial genetic inheritance disorders</td>\n",
       "      <td>1</td>\n",
       "    </tr>\n",
       "    <tr>\n",
       "      <th>2</th>\n",
       "      <td>Single-gene inheritance diseases</td>\n",
       "      <td>2</td>\n",
       "    </tr>\n",
       "  </tbody>\n",
       "</table>\n",
       "</div>"
      ],
      "text/plain": [
       "                                       disorder  codes\n",
       "0  Multifactorial genetic inheritance disorders      0\n",
       "1   Mitochondrial genetic inheritance disorders      1\n",
       "2              Single-gene inheritance diseases      2"
      ]
     },
     "execution_count": 97,
     "metadata": {},
     "output_type": "execute_result"
    }
   ],
   "source": [
    "genetic = {\"disorder\":train['Genetic Disorder'].unique(),\"codes\":range(0,3)}\n",
    "pd.DataFrame(genetic)"
   ]
  },
  {
   "cell_type": "code",
   "execution_count": 98,
   "id": "d2004783",
   "metadata": {},
   "outputs": [],
   "source": [
    "def genome(x):\n",
    "    cnt = 0\n",
    "    for i in train['Genetic Disorder'].unique():\n",
    "        if(x==i):\n",
    "            return cnt\n",
    "        cnt+=1\n",
    "train['genome'] = train['Genetic Disorder'].map(genome)"
   ]
  },
  {
   "cell_type": "code",
   "execution_count": 99,
   "id": "311562c3",
   "metadata": {},
   "outputs": [
    {
     "data": {
      "text/html": [
       "<div>\n",
       "<style scoped>\n",
       "    .dataframe tbody tr th:only-of-type {\n",
       "        vertical-align: middle;\n",
       "    }\n",
       "\n",
       "    .dataframe tbody tr th {\n",
       "        vertical-align: top;\n",
       "    }\n",
       "\n",
       "    .dataframe thead th {\n",
       "        text-align: right;\n",
       "    }\n",
       "</style>\n",
       "<table border=\"1\" class=\"dataframe\">\n",
       "  <thead>\n",
       "    <tr style=\"text-align: right;\">\n",
       "      <th></th>\n",
       "      <th>Patient Age</th>\n",
       "      <th>Genes in mother's side</th>\n",
       "      <th>Paternal gene</th>\n",
       "      <th>Blood cell count (mcL)</th>\n",
       "      <th>Mother's age</th>\n",
       "      <th>Father's age</th>\n",
       "      <th>Status</th>\n",
       "      <th>Follow-up</th>\n",
       "      <th>Gender</th>\n",
       "      <th>Birth asphyxia</th>\n",
       "      <th>Autopsy shows birth defect (if applicable)</th>\n",
       "      <th>Folic acid details (peri-conceptional)</th>\n",
       "      <th>H/O serious maternal illness</th>\n",
       "      <th>H/O radiation exposure (x-ray)</th>\n",
       "      <th>H/O substance abuse</th>\n",
       "      <th>Assisted conception IVF/ART</th>\n",
       "      <th>History of anomalies in previous pregnancies</th>\n",
       "      <th>No. of previous abortion</th>\n",
       "      <th>Birth defects</th>\n",
       "      <th>White Blood cell count (thousand per microliter)</th>\n",
       "      <th>Blood test result</th>\n",
       "      <th>Symptom 1</th>\n",
       "      <th>Symptom 2</th>\n",
       "      <th>Symptom 3</th>\n",
       "      <th>Symptom 4</th>\n",
       "      <th>Symptom 5</th>\n",
       "      <th>Genetic Disorder</th>\n",
       "      <th>Disorder Subclass</th>\n",
       "      <th>subclass</th>\n",
       "      <th>genome</th>\n",
       "    </tr>\n",
       "  </thead>\n",
       "  <tbody>\n",
       "    <tr>\n",
       "      <th>2</th>\n",
       "      <td>6.0</td>\n",
       "      <td>1</td>\n",
       "      <td>0</td>\n",
       "      <td>4.893297</td>\n",
       "      <td>41.0</td>\n",
       "      <td>22.0</td>\n",
       "      <td>1</td>\n",
       "      <td>0.0</td>\n",
       "      <td>2</td>\n",
       "      <td>2</td>\n",
       "      <td>2.0</td>\n",
       "      <td>1.0</td>\n",
       "      <td>0</td>\n",
       "      <td>1.0</td>\n",
       "      <td>2</td>\n",
       "      <td>1</td>\n",
       "      <td>1</td>\n",
       "      <td>4.0</td>\n",
       "      <td>0</td>\n",
       "      <td>7.750000</td>\n",
       "      <td>1</td>\n",
       "      <td>False</td>\n",
       "      <td>True</td>\n",
       "      <td>True</td>\n",
       "      <td>True</td>\n",
       "      <td>True</td>\n",
       "      <td>Multifactorial genetic inheritance disorders</td>\n",
       "      <td>Diabetes</td>\n",
       "      <td>0</td>\n",
       "      <td>0</td>\n",
       "    </tr>\n",
       "    <tr>\n",
       "      <th>3</th>\n",
       "      <td>12.0</td>\n",
       "      <td>1</td>\n",
       "      <td>0</td>\n",
       "      <td>4.705280</td>\n",
       "      <td>21.0</td>\n",
       "      <td>42.0</td>\n",
       "      <td>0</td>\n",
       "      <td>1.0</td>\n",
       "      <td>0</td>\n",
       "      <td>2</td>\n",
       "      <td>0.0</td>\n",
       "      <td>0.0</td>\n",
       "      <td>1</td>\n",
       "      <td>2.0</td>\n",
       "      <td>2</td>\n",
       "      <td>2</td>\n",
       "      <td>1</td>\n",
       "      <td>1.0</td>\n",
       "      <td>0</td>\n",
       "      <td>7.919321</td>\n",
       "      <td>3</td>\n",
       "      <td>False</td>\n",
       "      <td>False</td>\n",
       "      <td>True</td>\n",
       "      <td>False</td>\n",
       "      <td>False</td>\n",
       "      <td>Mitochondrial genetic inheritance disorders</td>\n",
       "      <td>Leigh syndrome</td>\n",
       "      <td>1</td>\n",
       "      <td>1</td>\n",
       "    </tr>\n",
       "    <tr>\n",
       "      <th>4</th>\n",
       "      <td>11.0</td>\n",
       "      <td>1</td>\n",
       "      <td>1</td>\n",
       "      <td>4.720703</td>\n",
       "      <td>32.0</td>\n",
       "      <td>42.0</td>\n",
       "      <td>1</td>\n",
       "      <td>0.0</td>\n",
       "      <td>0</td>\n",
       "      <td>2</td>\n",
       "      <td>2.0</td>\n",
       "      <td>0.0</td>\n",
       "      <td>1</td>\n",
       "      <td>2.0</td>\n",
       "      <td>2</td>\n",
       "      <td>1</td>\n",
       "      <td>0</td>\n",
       "      <td>4.0</td>\n",
       "      <td>1</td>\n",
       "      <td>4.098210</td>\n",
       "      <td>3</td>\n",
       "      <td>False</td>\n",
       "      <td>False</td>\n",
       "      <td>False</td>\n",
       "      <td>False</td>\n",
       "      <td>True</td>\n",
       "      <td>Multifactorial genetic inheritance disorders</td>\n",
       "      <td>Cancer</td>\n",
       "      <td>2</td>\n",
       "      <td>0</td>\n",
       "    </tr>\n",
       "    <tr>\n",
       "      <th>5</th>\n",
       "      <td>14.0</td>\n",
       "      <td>1</td>\n",
       "      <td>0</td>\n",
       "      <td>5.103188</td>\n",
       "      <td>35.0</td>\n",
       "      <td>41.0</td>\n",
       "      <td>0</td>\n",
       "      <td>0.0</td>\n",
       "      <td>1</td>\n",
       "      <td>2</td>\n",
       "      <td>2.0</td>\n",
       "      <td>0.0</td>\n",
       "      <td>0</td>\n",
       "      <td>0.0</td>\n",
       "      <td>0</td>\n",
       "      <td>2</td>\n",
       "      <td>0</td>\n",
       "      <td>0.0</td>\n",
       "      <td>1</td>\n",
       "      <td>10.272230</td>\n",
       "      <td>1</td>\n",
       "      <td>True</td>\n",
       "      <td>False</td>\n",
       "      <td>False</td>\n",
       "      <td>True</td>\n",
       "      <td>False</td>\n",
       "      <td>Single-gene inheritance diseases</td>\n",
       "      <td>Cystic fibrosis</td>\n",
       "      <td>3</td>\n",
       "      <td>2</td>\n",
       "    </tr>\n",
       "    <tr>\n",
       "      <th>7</th>\n",
       "      <td>3.0</td>\n",
       "      <td>0</td>\n",
       "      <td>1</td>\n",
       "      <td>4.964816</td>\n",
       "      <td>40.0</td>\n",
       "      <td>41.0</td>\n",
       "      <td>1</td>\n",
       "      <td>0.0</td>\n",
       "      <td>2</td>\n",
       "      <td>2</td>\n",
       "      <td>2.0</td>\n",
       "      <td>1.0</td>\n",
       "      <td>1</td>\n",
       "      <td>0.0</td>\n",
       "      <td>2</td>\n",
       "      <td>0</td>\n",
       "      <td>1</td>\n",
       "      <td>1.0</td>\n",
       "      <td>0</td>\n",
       "      <td>9.836352</td>\n",
       "      <td>3</td>\n",
       "      <td>False</td>\n",
       "      <td>False</td>\n",
       "      <td>True</td>\n",
       "      <td>True</td>\n",
       "      <td>False</td>\n",
       "      <td>Single-gene inheritance diseases</td>\n",
       "      <td>Tay-Sachs</td>\n",
       "      <td>4</td>\n",
       "      <td>2</td>\n",
       "    </tr>\n",
       "  </tbody>\n",
       "</table>\n",
       "</div>"
      ],
      "text/plain": [
       "   Patient Age  Genes in mother's side  Paternal gene  Blood cell count (mcL)  \\\n",
       "2          6.0                       1              0                4.893297   \n",
       "3         12.0                       1              0                4.705280   \n",
       "4         11.0                       1              1                4.720703   \n",
       "5         14.0                       1              0                5.103188   \n",
       "7          3.0                       0              1                4.964816   \n",
       "\n",
       "   Mother's age  Father's age  Status  Follow-up  Gender  Birth asphyxia  \\\n",
       "2          41.0          22.0       1        0.0       2               2   \n",
       "3          21.0          42.0       0        1.0       0               2   \n",
       "4          32.0          42.0       1        0.0       0               2   \n",
       "5          35.0          41.0       0        0.0       1               2   \n",
       "7          40.0          41.0       1        0.0       2               2   \n",
       "\n",
       "   Autopsy shows birth defect (if applicable)  \\\n",
       "2                                         2.0   \n",
       "3                                         0.0   \n",
       "4                                         2.0   \n",
       "5                                         2.0   \n",
       "7                                         2.0   \n",
       "\n",
       "   Folic acid details (peri-conceptional)  H/O serious maternal illness  \\\n",
       "2                                     1.0                             0   \n",
       "3                                     0.0                             1   \n",
       "4                                     0.0                             1   \n",
       "5                                     0.0                             0   \n",
       "7                                     1.0                             1   \n",
       "\n",
       "   H/O radiation exposure (x-ray)  H/O substance abuse  \\\n",
       "2                             1.0                    2   \n",
       "3                             2.0                    2   \n",
       "4                             2.0                    2   \n",
       "5                             0.0                    0   \n",
       "7                             0.0                    2   \n",
       "\n",
       "   Assisted conception IVF/ART  History of anomalies in previous pregnancies  \\\n",
       "2                            1                                             1   \n",
       "3                            2                                             1   \n",
       "4                            1                                             0   \n",
       "5                            2                                             0   \n",
       "7                            0                                             1   \n",
       "\n",
       "   No. of previous abortion  Birth defects  \\\n",
       "2                       4.0              0   \n",
       "3                       1.0              0   \n",
       "4                       4.0              1   \n",
       "5                       0.0              1   \n",
       "7                       1.0              0   \n",
       "\n",
       "   White Blood cell count (thousand per microliter)  Blood test result  \\\n",
       "2                                          7.750000                  1   \n",
       "3                                          7.919321                  3   \n",
       "4                                          4.098210                  3   \n",
       "5                                         10.272230                  1   \n",
       "7                                          9.836352                  3   \n",
       "\n",
       "   Symptom 1  Symptom 2  Symptom 3  Symptom 4  Symptom 5  \\\n",
       "2      False       True       True       True       True   \n",
       "3      False      False       True      False      False   \n",
       "4      False      False      False      False       True   \n",
       "5       True      False      False       True      False   \n",
       "7      False      False       True       True      False   \n",
       "\n",
       "                               Genetic Disorder Disorder Subclass  subclass  \\\n",
       "2  Multifactorial genetic inheritance disorders          Diabetes         0   \n",
       "3   Mitochondrial genetic inheritance disorders    Leigh syndrome         1   \n",
       "4  Multifactorial genetic inheritance disorders            Cancer         2   \n",
       "5              Single-gene inheritance diseases   Cystic fibrosis         3   \n",
       "7              Single-gene inheritance diseases         Tay-Sachs         4   \n",
       "\n",
       "   genome  \n",
       "2       0  \n",
       "3       1  \n",
       "4       0  \n",
       "5       2  \n",
       "7       2  "
      ]
     },
     "execution_count": 99,
     "metadata": {},
     "output_type": "execute_result"
    }
   ],
   "source": [
    "train.head()"
   ]
  },
  {
   "cell_type": "code",
   "execution_count": 100,
   "id": "e199b0b5",
   "metadata": {},
   "outputs": [
    {
     "name": "stderr",
     "output_type": "stream",
     "text": [
      "2021-08-09 15:38:35.880175: W tensorflow/stream_executor/platform/default/dso_loader.cc:64] Could not load dynamic library 'libcudart.so.11.0'; dlerror: libcudart.so.11.0: cannot open shared object file: No such file or directory\n",
      "2021-08-09 15:38:35.880200: I tensorflow/stream_executor/cuda/cudart_stub.cc:29] Ignore above cudart dlerror if you do not have a GPU set up on your machine.\n"
     ]
    }
   ],
   "source": [
    "from tensorflow.keras.models import Sequential\n",
    "from keras.layers import Dense"
   ]
  },
  {
   "cell_type": "code",
   "execution_count": 101,
   "id": "6c96b9fa",
   "metadata": {},
   "outputs": [
    {
     "name": "stderr",
     "output_type": "stream",
     "text": [
      "2021-08-09 15:38:37.239041: W tensorflow/stream_executor/platform/default/dso_loader.cc:64] Could not load dynamic library 'libcuda.so.1'; dlerror: libcuda.so.1: cannot open shared object file: No such file or directory\n",
      "2021-08-09 15:38:37.239071: W tensorflow/stream_executor/cuda/cuda_driver.cc:326] failed call to cuInit: UNKNOWN ERROR (303)\n",
      "2021-08-09 15:38:37.239092: I tensorflow/stream_executor/cuda/cuda_diagnostics.cc:156] kernel driver does not appear to be running on this host (shaury-HP-250-G8-Notebook-PC): /proc/driver/nvidia/version does not exist\n",
      "2021-08-09 15:38:37.239397: I tensorflow/core/platform/cpu_feature_guard.cc:142] This TensorFlow binary is optimized with oneAPI Deep Neural Network Library (oneDNN) to use the following CPU instructions in performance-critical operations:  AVX2 AVX512F FMA\n",
      "To enable them in other operations, rebuild TensorFlow with the appropriate compiler flags.\n"
     ]
    }
   ],
   "source": [
    "model = Sequential()\n",
    "model.add(Dense(5,activation='softmax'))\n",
    "model.add(Dense(5,activation='softmax'))\n",
    "model.add(Dense(5,activation='softmax'))\n",
    "model.add(Dense(5,activation='softmax'))\n",
    "model.add(Dense(5,activation='softmax'))\n",
    "model.add(Dense(9))"
   ]
  },
  {
   "cell_type": "code",
   "execution_count": 102,
   "id": "6e979382",
   "metadata": {},
   "outputs": [],
   "source": [
    "model.compile(optimizer='adam',loss='categorical_crossentropy',metrics='accuracy')"
   ]
  },
  {
   "cell_type": "code",
   "execution_count": 103,
   "id": "193551f5",
   "metadata": {},
   "outputs": [],
   "source": [
    "xtrain = train.drop(['Genetic Disorder','genome','Disorder Subclass','subclass'],axis=1)\n",
    "ytrain = train['subclass']"
   ]
  },
  {
   "cell_type": "code",
   "execution_count": 104,
   "id": "6aec946a",
   "metadata": {},
   "outputs": [],
   "source": [
    "from sklearn.preprocessing import StandardScaler\n",
    "scaler = StandardScaler()\n",
    "scaler.fit(xtrain)\n",
    "xtrain = scaler.transform(xtrain)"
   ]
  },
  {
   "cell_type": "code",
   "execution_count": 105,
   "id": "5cb1386f",
   "metadata": {},
   "outputs": [],
   "source": [
    "from tensorflow.keras.utils import to_categorical\n",
    "ytrain = to_categorical(ytrain)"
   ]
  },
  {
   "cell_type": "code",
   "execution_count": 106,
   "id": "1ef63db7",
   "metadata": {},
   "outputs": [
    {
     "data": {
      "text/plain": [
       "array([0, 1, 2, 3, 4, 5, 6, 7, 8])"
      ]
     },
     "execution_count": 106,
     "metadata": {},
     "output_type": "execute_result"
    }
   ],
   "source": [
    "train['subclass'].unique()"
   ]
  },
  {
   "cell_type": "code",
   "execution_count": 107,
   "id": "aec733e4",
   "metadata": {},
   "outputs": [
    {
     "data": {
      "text/plain": [
       "array([[1., 0., 0., ..., 0., 0., 0.],\n",
       "       [0., 1., 0., ..., 0., 0., 0.],\n",
       "       [0., 0., 1., ..., 0., 0., 0.],\n",
       "       ...,\n",
       "       [0., 1., 0., ..., 0., 0., 0.],\n",
       "       [1., 0., 0., ..., 0., 0., 0.],\n",
       "       [1., 0., 0., ..., 0., 0., 0.]], dtype=float32)"
      ]
     },
     "execution_count": 107,
     "metadata": {},
     "output_type": "execute_result"
    }
   ],
   "source": [
    "ytrain"
   ]
  },
  {
   "cell_type": "code",
   "execution_count": 109,
   "id": "c4b8305d",
   "metadata": {},
   "outputs": [
    {
     "name": "stdout",
     "output_type": "stream",
     "text": [
      "Epoch 1/10\n",
      "392/392 [==============================] - 1s 2ms/step - loss: 11.5780 - accuracy: 0.2586\n",
      "Epoch 2/10\n",
      "392/392 [==============================] - 1s 2ms/step - loss: 11.5780 - accuracy: 0.2586\n",
      "Epoch 3/10\n",
      "392/392 [==============================] - 1s 2ms/step - loss: 11.5780 - accuracy: 0.2586\n",
      "Epoch 4/10\n",
      "392/392 [==============================] - 1s 2ms/step - loss: 11.5780 - accuracy: 0.2586\n",
      "Epoch 5/10\n",
      "392/392 [==============================] - 1s 2ms/step - loss: 11.5780 - accuracy: 0.2586\n",
      "Epoch 6/10\n",
      "392/392 [==============================] - 1s 2ms/step - loss: 11.5780 - accuracy: 0.2586\n",
      "Epoch 7/10\n",
      "392/392 [==============================] - 1s 2ms/step - loss: 11.5780 - accuracy: 0.2586\n",
      "Epoch 8/10\n",
      "392/392 [==============================] - 1s 2ms/step - loss: 11.5780 - accuracy: 0.2586\n",
      "Epoch 9/10\n",
      "392/392 [==============================] - 1s 2ms/step - loss: 11.5780 - accuracy: 0.2586\n",
      "Epoch 10/10\n",
      "392/392 [==============================] - 1s 2ms/step - loss: 11.5780 - accuracy: 0.2586\n"
     ]
    },
    {
     "data": {
      "text/plain": [
       "<tensorflow.python.keras.callbacks.History at 0x7f7e4f9187f0>"
      ]
     },
     "execution_count": 109,
     "metadata": {},
     "output_type": "execute_result"
    }
   ],
   "source": [
    "model.fit(xtrain,ytrain,epochs=10)"
   ]
  },
  {
   "cell_type": "code",
   "execution_count": 110,
   "id": "42c27680",
   "metadata": {},
   "outputs": [
    {
     "name": "stdout",
     "output_type": "stream",
     "text": [
      "392/392 [==============================] - 1s 1ms/step - loss: 11.5780 - accuracy: 0.2586\n"
     ]
    },
    {
     "data": {
      "text/plain": [
       "[11.577978134155273, 0.25861793756484985]"
      ]
     },
     "execution_count": 110,
     "metadata": {},
     "output_type": "execute_result"
    }
   ],
   "source": [
    "model.evaluate(xtrain,ytrain)"
   ]
  },
  {
   "cell_type": "code",
   "execution_count": 115,
   "id": "091d5545",
   "metadata": {},
   "outputs": [
    {
     "data": {
      "text/plain": [
       "{'prd': array([1, 1, 1, ..., 1, 1, 1])}"
      ]
     },
     "execution_count": 115,
     "metadata": {},
     "output_type": "execute_result"
    }
   ],
   "source": [
    "prd = model.predict_classes(xtrain)\n",
    "prd = {\"prd\":prd}\n",
    "prd"
   ]
  },
  {
   "cell_type": "code",
   "execution_count": 121,
   "id": "844ce588",
   "metadata": {},
   "outputs": [
    {
     "data": {
      "text/plain": [
       "2        0\n",
       "3        1\n",
       "4        2\n",
       "5        3\n",
       "7        4\n",
       "        ..\n",
       "22072    6\n",
       "22074    5\n",
       "22076    1\n",
       "22079    0\n",
       "22082    0\n",
       "Name: subclass, Length: 12532, dtype: int64"
      ]
     },
     "execution_count": 121,
     "metadata": {},
     "output_type": "execute_result"
    }
   ],
   "source": [
    "train['subclass']"
   ]
  },
  {
   "cell_type": "code",
   "execution_count": 123,
   "id": "f8edc7e5",
   "metadata": {},
   "outputs": [
    {
     "data": {
      "text/plain": [
       "array([[   0,    0,    0,    0,    0,    0,    0,    0,    0],\n",
       "       [1130, 3241,   59, 2207, 1812,  827, 2760,  405,   91],\n",
       "       [   0,    0,    0,    0,    0,    0,    0,    0,    0],\n",
       "       [   0,    0,    0,    0,    0,    0,    0,    0,    0],\n",
       "       [   0,    0,    0,    0,    0,    0,    0,    0,    0],\n",
       "       [   0,    0,    0,    0,    0,    0,    0,    0,    0],\n",
       "       [   0,    0,    0,    0,    0,    0,    0,    0,    0],\n",
       "       [   0,    0,    0,    0,    0,    0,    0,    0,    0],\n",
       "       [   0,    0,    0,    0,    0,    0,    0,    0,    0]])"
      ]
     },
     "execution_count": 123,
     "metadata": {},
     "output_type": "execute_result"
    }
   ],
   "source": [
    "from sklearn.metrics import confusion_matrix\n",
    "confusion_matrix(pd.DataFrame(prd),train['subclass'])"
   ]
  },
  {
   "cell_type": "code",
   "execution_count": null,
   "id": "73b54861",
   "metadata": {},
   "outputs": [],
   "source": []
  },
  {
   "cell_type": "code",
   "execution_count": null,
   "id": "fd5107ff",
   "metadata": {},
   "outputs": [],
   "source": [
    "xtrain = train.drop(['Genetic Disorder','genome','Disorder Subclass'],axis=1)\n",
    "ytrain = train['genome']"
   ]
  },
  {
   "cell_type": "code",
   "execution_count": null,
   "id": "230da45f",
   "metadata": {},
   "outputs": [],
   "source": [
    "model2 = Sequential()\n",
    "model2.add(Dense(5,activation='softmax'))\n",
    "model2.add(Dense(5,activation='softmax'))\n",
    "model2.add(Dense(5,activation='softmax'))\n",
    "model2.add(Dense(5,activation='softmax'))\n",
    "model2.add(Dense(3))"
   ]
  },
  {
   "cell_type": "code",
   "execution_count": null,
   "id": "5581c4cf",
   "metadata": {},
   "outputs": [],
   "source": [
    "model2.compile(optimizer='adam',loss='categorical_crossentropy',metrics='accuracy')"
   ]
  },
  {
   "cell_type": "code",
   "execution_count": null,
   "id": "e8e80733",
   "metadata": {},
   "outputs": [],
   "source": [
    "from sklearn.preprocessing import StandardScaler\n",
    "scaler = StandardScaler()\n",
    "scaler.fit(xtrain)\n",
    "xtrain = scaler.transform(xtrain)"
   ]
  },
  {
   "cell_type": "code",
   "execution_count": null,
   "id": "f44a3842",
   "metadata": {},
   "outputs": [],
   "source": [
    "ytrain = to_categorical(ytrain)"
   ]
  },
  {
   "cell_type": "code",
   "execution_count": null,
   "id": "e4ad5a85",
   "metadata": {},
   "outputs": [],
   "source": [
    "model2.fit(xtrain,ytrain,epochs=150)"
   ]
  },
  {
   "cell_type": "code",
   "execution_count": null,
   "id": "378d1c42",
   "metadata": {},
   "outputs": [],
   "source": []
  },
  {
   "cell_type": "code",
   "execution_count": null,
   "id": "eb39b898",
   "metadata": {},
   "outputs": [],
   "source": [
    "test.fillna(0,inplace=True)"
   ]
  },
  {
   "cell_type": "code",
   "execution_count": null,
   "id": "8d8ff153",
   "metadata": {},
   "outputs": [],
   "source": []
  },
  {
   "cell_type": "code",
   "execution_count": null,
   "id": "ab6f36bb",
   "metadata": {},
   "outputs": [],
   "source": [
    "scaler.fit(test)\n",
    "xtest = scaler.transform(test)"
   ]
  },
  {
   "cell_type": "markdown",
   "id": "7d387d6a",
   "metadata": {},
   "source": [
    "# using the XBClassifier"
   ]
  },
  {
   "cell_type": "markdown",
   "id": "1f6cc42d",
   "metadata": {},
   "source": [
    "from xgboost import XGBClassifier\n",
    "model1 = XGBClassifier()"
   ]
  },
  {
   "cell_type": "markdown",
   "id": "fcbecdb8",
   "metadata": {},
   "source": [
    "model1.fit(train.drop(['Genetic Disorder','genome','Disorder Subclass','subclass'],axis=1),train['subclass'])"
   ]
  },
  {
   "cell_type": "markdown",
   "id": "d75c2913",
   "metadata": {},
   "source": [
    "subclasstest = model1.predict(test)"
   ]
  },
  {
   "cell_type": "markdown",
   "id": "bab13fd2",
   "metadata": {},
   "source": [
    "test['subclass'] = subclasstest"
   ]
  },
  {
   "cell_type": "markdown",
   "id": "05cb4a56",
   "metadata": {},
   "source": [
    "def returnbackclass(x):\n",
    "    return disorder['class'][x]\n",
    "test['Disorder Subclass']=test['subclass'].map(returnbackclass)"
   ]
  },
  {
   "cell_type": "markdown",
   "id": "4d53d8a2",
   "metadata": {},
   "source": [
    "test.head()"
   ]
  },
  {
   "cell_type": "code",
   "execution_count": null,
   "id": "be92059a",
   "metadata": {},
   "outputs": [],
   "source": []
  },
  {
   "cell_type": "markdown",
   "id": "070bc88f",
   "metadata": {},
   "source": [
    "model2 = XGBClassifier()"
   ]
  },
  {
   "cell_type": "markdown",
   "id": "8e93cb23",
   "metadata": {},
   "source": [
    "model2.fit(train.drop(['Genetic Disorder','genome','Disorder Subclass'],axis=1),train['Genetic Disorder'])"
   ]
  },
  {
   "cell_type": "markdown",
   "id": "29c29006",
   "metadata": {},
   "source": [
    "final = model2.predict(test.drop('Disorder Subclass',axis=1))"
   ]
  },
  {
   "cell_type": "markdown",
   "id": "fc95c916",
   "metadata": {},
   "source": [
    "test['Genetic disorder'] = final"
   ]
  },
  {
   "cell_type": "markdown",
   "id": "82da7e4b",
   "metadata": {},
   "source": [
    "test.head()"
   ]
  },
  {
   "cell_type": "markdown",
   "id": "e5d97b0f",
   "metadata": {},
   "source": [
    "last = pd.read_csv('/home/shaury/Desktop/pvsc/genome-hackerearth/dataset/test.csv')"
   ]
  },
  {
   "cell_type": "markdown",
   "id": "da741362",
   "metadata": {},
   "source": [
    "last.head()"
   ]
  },
  {
   "cell_type": "markdown",
   "id": "522f35ae",
   "metadata": {},
   "source": [
    "findict = {\"Patient Id\":last['Patient Id'],\"Genetic Disorder\":final,\"Disorder Subclass\":test['Disorder Subclass']}"
   ]
  },
  {
   "cell_type": "markdown",
   "id": "c7acafb6",
   "metadata": {},
   "source": [
    "pd.DataFrame(findict).to_csv('/home/shaury/ans.csv')"
   ]
  },
  {
   "cell_type": "markdown",
   "id": "7b57e986",
   "metadata": {},
   "source": [
    "# using the random forest model "
   ]
  },
  {
   "cell_type": "code",
   "execution_count": null,
   "id": "d62bfe1b",
   "metadata": {},
   "outputs": [],
   "source": []
  },
  {
   "cell_type": "markdown",
   "id": "abe7b535",
   "metadata": {},
   "source": [
    "test = test.drop(['Genetic disorder','Disorder Subclass','subclass'],axis=1)"
   ]
  },
  {
   "cell_type": "markdown",
   "id": "b5ae100c",
   "metadata": {},
   "source": [
    "test.fillna(0,inplace=True)"
   ]
  },
  {
   "cell_type": "markdown",
   "id": "b0e62fc4",
   "metadata": {},
   "source": [
    "from sklearn.ensemble import RandomForestClassifier\n",
    "model3 = RandomForestClassifier()\n",
    "\n",
    "model3.fit(train.drop(['Genetic Disorder','genome','Disorder Subclass','subclass'],axis=1),train['subclass'])\n",
    "\n",
    "subclasstest = model3.predict(test)\n",
    "\n",
    "test['subclass'] = subclasstest\n",
    "\n",
    "test['Disorder Subclass']=test['subclass'].map(returnbackclass)\n",
    "\n",
    "test.head()\n",
    "\n",
    "model4 = RandomForestClassifier()\n",
    "\n",
    "model4.fit(train.drop(['Genetic Disorder','genome','Disorder Subclass'],axis=1),train['Genetic Disorder'])\n",
    "\n",
    "final = model4.predict(test.drop('Disorder Subclass',axis=1))\n",
    "\n",
    "test['Genetic disorder'] = final\n",
    "\n",
    "findict = {\"Patient Id\":last['Patient Id'],\"Genetic Disorder\":final,\"Disorder Subclass\":test['Disorder Subclass']}\n",
    "\n",
    "pd.DataFrame(findict).to_csv('/home/shaury/ansrfc.csv')"
   ]
  },
  {
   "cell_type": "markdown",
   "id": "54b05e09",
   "metadata": {},
   "source": [
    "# rfc performed better"
   ]
  }
 ],
 "metadata": {
  "kernelspec": {
   "display_name": "Python 3 (ipykernel)",
   "language": "python",
   "name": "python3"
  },
  "language_info": {
   "codemirror_mode": {
    "name": "ipython",
    "version": 3
   },
   "file_extension": ".py",
   "mimetype": "text/x-python",
   "name": "python",
   "nbconvert_exporter": "python",
   "pygments_lexer": "ipython3",
   "version": "3.8.10"
  }
 },
 "nbformat": 4,
 "nbformat_minor": 5
}
