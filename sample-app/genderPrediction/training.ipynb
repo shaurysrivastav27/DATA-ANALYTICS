{
 "cells": [
  {
   "cell_type": "code",
   "execution_count": 1,
   "metadata": {},
   "outputs": [],
   "source": [
    "import pandas as pd\n",
    "import numpy as np\n",
    "import string\n",
    "import tensorflow as tf"
   ]
  },
  {
   "cell_type": "code",
   "execution_count": 2,
   "metadata": {},
   "outputs": [],
   "source": [
    "df = pd.read_csv('./name_gender.csv',names=['name','gender','prob'])"
   ]
  },
  {
   "cell_type": "code",
   "execution_count": 3,
   "metadata": {},
   "outputs": [
    {
     "data": {
      "text/html": [
       "<div>\n",
       "<style scoped>\n",
       "    .dataframe tbody tr th:only-of-type {\n",
       "        vertical-align: middle;\n",
       "    }\n",
       "\n",
       "    .dataframe tbody tr th {\n",
       "        vertical-align: top;\n",
       "    }\n",
       "\n",
       "    .dataframe thead th {\n",
       "        text-align: right;\n",
       "    }\n",
       "</style>\n",
       "<table border=\"1\" class=\"dataframe\">\n",
       "  <thead>\n",
       "    <tr style=\"text-align: right;\">\n",
       "      <th></th>\n",
       "      <th>name</th>\n",
       "      <th>gender</th>\n",
       "      <th>prob</th>\n",
       "    </tr>\n",
       "  </thead>\n",
       "  <tbody>\n",
       "    <tr>\n",
       "      <th>0</th>\n",
       "      <td>Aaban</td>\n",
       "      <td>M</td>\n",
       "      <td>1.0</td>\n",
       "    </tr>\n",
       "    <tr>\n",
       "      <th>1</th>\n",
       "      <td>Aabha</td>\n",
       "      <td>F</td>\n",
       "      <td>1.0</td>\n",
       "    </tr>\n",
       "    <tr>\n",
       "      <th>2</th>\n",
       "      <td>Aabid</td>\n",
       "      <td>M</td>\n",
       "      <td>1.0</td>\n",
       "    </tr>\n",
       "    <tr>\n",
       "      <th>3</th>\n",
       "      <td>Aabriella</td>\n",
       "      <td>F</td>\n",
       "      <td>1.0</td>\n",
       "    </tr>\n",
       "    <tr>\n",
       "      <th>4</th>\n",
       "      <td>Aada</td>\n",
       "      <td>F</td>\n",
       "      <td>1.0</td>\n",
       "    </tr>\n",
       "  </tbody>\n",
       "</table>\n",
       "</div>"
      ],
      "text/plain": [
       "        name gender  prob\n",
       "0      Aaban      M   1.0\n",
       "1      Aabha      F   1.0\n",
       "2      Aabid      M   1.0\n",
       "3  Aabriella      F   1.0\n",
       "4       Aada      F   1.0"
      ]
     },
     "execution_count": 3,
     "metadata": {},
     "output_type": "execute_result"
    }
   ],
   "source": [
    "df.head()"
   ]
  },
  {
   "cell_type": "code",
   "execution_count": 4,
   "metadata": {},
   "outputs": [],
   "source": [
    "map_letter = dict(zip(list(string.ascii_lowercase),np.arange(0,26)))"
   ]
  },
  {
   "cell_type": "code",
   "execution_count": 5,
   "metadata": {},
   "outputs": [],
   "source": [
    "df['sex'] = df['gender'].map({\"M\":0,\"F\":1})"
   ]
  },
  {
   "cell_type": "code",
   "execution_count": 6,
   "metadata": {},
   "outputs": [],
   "source": [
    "X,y = df['name'].values,df['sex'].values"
   ]
  },
  {
   "cell_type": "code",
   "execution_count": 7,
   "metadata": {},
   "outputs": [],
   "source": [
    "def map_letter_func(s):\n",
    "    return np.array([map_letter[i] for i in s.lower().strip()])"
   ]
  },
  {
   "cell_type": "code",
   "execution_count": 8,
   "metadata": {},
   "outputs": [],
   "source": [
    "x = []\n",
    "for names in X:\n",
    "    x.append(map_letter_func(names))"
   ]
  },
  {
   "cell_type": "code",
   "execution_count": 9,
   "metadata": {},
   "outputs": [],
   "source": [
    "padded_x = tf.keras.preprocessing.sequence.pad_sequences(x,maxlen=15)"
   ]
  },
  {
   "cell_type": "code",
   "execution_count": 10,
   "metadata": {},
   "outputs": [
    {
     "data": {
      "text/plain": [
       "(95025, 15)"
      ]
     },
     "execution_count": 10,
     "metadata": {},
     "output_type": "execute_result"
    }
   ],
   "source": [
    "padded_x.shape"
   ]
  },
  {
   "cell_type": "code",
   "execution_count": 11,
   "metadata": {},
   "outputs": [],
   "source": [
    "X = padded_x.reshape(95025,-1,15)"
   ]
  },
  {
   "cell_type": "code",
   "execution_count": 12,
   "metadata": {},
   "outputs": [
    {
     "name": "stdout",
     "output_type": "stream",
     "text": [
      "Model: \"bilstm_model_activity\"\n",
      "_________________________________________________________________\n",
      " Layer (type)                Output Shape              Param #   \n",
      "=================================================================\n",
      " bilstm0 (Bidirectional)     (None, None, 1024)        2162688   \n",
      "                                                                 \n",
      " bilstm1 (Bidirectional)     (None, 1024)              6295552   \n",
      "                                                                 \n",
      " dense_2 (Dense)             (None, 2)                 2050      \n",
      "                                                                 \n",
      " activation (Activation)     (None, 2)                 0         \n",
      "                                                                 \n",
      "=================================================================\n",
      "Total params: 8,460,290\n",
      "Trainable params: 8,460,290\n",
      "Non-trainable params: 0\n",
      "_________________________________________________________________\n"
     ]
    }
   ],
   "source": [
    "model = tf.keras.models.Sequential(name='bilstm_model_activity')\n",
    "model.add(tf.keras.layers.Input(shape= (None,padded_x[0].shape[0]),name='input'))\n",
    "model.add(tf.keras.layers.Bidirectional(\n",
    "    tf.keras.layers.LSTM(512, return_sequences=True), \n",
    "    backward_layer=tf.keras.layers.LSTM(512, return_sequences=True, go_backwards=True),name = 'bilstm0'))\n",
    "model.add(tf.keras.layers.Bidirectional(tf.keras.layers.LSTM(512),name = 'bilstm1'))\n",
    "model.add(tf.keras.layers.Dense(2, activity_regularizer=tf.keras.regularizers.l2(0.002),name = 'dense_2'))\n",
    "model.add(tf.keras.layers.Activation('softmax',name = 'activation'))\n",
    "model.compile(loss='categorical_crossentropy', optimizer='adam',metrics=['accuracy'])\n",
    "model.summary()"
   ]
  },
  {
   "cell_type": "code",
   "execution_count": 13,
   "metadata": {},
   "outputs": [],
   "source": [
    "y_cat = tf.keras.utils.to_categorical(y)"
   ]
  },
  {
   "cell_type": "code",
   "execution_count": 25,
   "metadata": {},
   "outputs": [
    {
     "name": "stdout",
     "output_type": "stream",
     "text": [
      "Epoch 1/10\n",
      "2970/2970 [==============================] - 138s 46ms/step - loss: 0.2419 - accuracy: 0.9024\n",
      "Epoch 2/10\n",
      "2970/2970 [==============================] - 133s 45ms/step - loss: 0.2395 - accuracy: 0.9030\n",
      "Epoch 3/10\n",
      "2970/2970 [==============================] - 134s 45ms/step - loss: 0.2357 - accuracy: 0.9052\n",
      "Epoch 4/10\n",
      "2970/2970 [==============================] - 151s 51ms/step - loss: 0.2343 - accuracy: 0.9059\n",
      "Epoch 5/10\n",
      "2970/2970 [==============================] - 135s 46ms/step - loss: 0.2311 - accuracy: 0.9078\n",
      "Epoch 6/10\n",
      "2970/2970 [==============================] - 140s 47ms/step - loss: 0.2277 - accuracy: 0.9094\n",
      "Epoch 7/10\n",
      "2970/2970 [==============================] - 143s 48ms/step - loss: 0.2250 - accuracy: 0.9122\n",
      "Epoch 8/10\n",
      "2970/2970 [==============================] - 145s 49ms/step - loss: 0.2233 - accuracy: 0.9112\n",
      "Epoch 9/10\n",
      "2970/2970 [==============================] - 163s 55ms/step - loss: 0.2202 - accuracy: 0.9132\n",
      "Epoch 10/10\n",
      "2970/2970 [==============================] - 164s 55ms/step - loss: 0.2190 - accuracy: 0.9134\n"
     ]
    },
    {
     "data": {
      "text/plain": [
       "<keras.callbacks.History at 0x7f21d407b130>"
      ]
     },
     "execution_count": 25,
     "metadata": {},
     "output_type": "execute_result"
    }
   ],
   "source": [
    "model.fit(X,y_cat,epochs=50)"
   ]
  },
  {
   "cell_type": "code",
   "execution_count": 27,
   "metadata": {},
   "outputs": [
    {
     "name": "stdout",
     "output_type": "stream",
     "text": [
      "2970/2970 [==============================] - 37s 12ms/step - loss: 0.2032 - accuracy: 0.9223\n"
     ]
    },
    {
     "data": {
      "text/plain": [
       "[0.20316444337368011, 0.9223467707633972]"
      ]
     },
     "execution_count": 27,
     "metadata": {},
     "output_type": "execute_result"
    }
   ],
   "source": [
    "model.evaluate(X,y_cat)"
   ]
  },
  {
   "cell_type": "code",
   "execution_count": 28,
   "metadata": {},
   "outputs": [],
   "source": [
    "model.save('./gender_classifier.h5')"
   ]
  }
 ],
 "metadata": {
  "kernelspec": {
   "display_name": "Python 3",
   "language": "python",
   "name": "python3"
  },
  "language_info": {
   "codemirror_mode": {
    "name": "ipython",
    "version": 3
   },
   "file_extension": ".py",
   "mimetype": "text/x-python",
   "name": "python",
   "nbconvert_exporter": "python",
   "pygments_lexer": "ipython3",
   "version": "3.8.10"
  }
 },
 "nbformat": 4,
 "nbformat_minor": 4
}
