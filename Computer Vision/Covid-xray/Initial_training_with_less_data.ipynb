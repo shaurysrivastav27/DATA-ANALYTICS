{
  "cells": [
    {
      "cell_type": "code",
      "execution_count": null,
      "metadata": {
        "id": "Lru81xd7Pgpf"
      },
      "outputs": [],
      "source": [
        "import pandas as pd\n",
        "import numpy as np\n",
        "import seaborn as sns\n",
        "import matplotlib.pyplot as plt\n",
        "import re\n",
        "import os\n",
        "from tensorflow.keras.preprocessing.image import ImageDataGenerator,smart_resize\n",
        "from tensorflow.keras.layers import Conv2D,MaxPool2D,Flatten,Dense\n",
        "from tensorflow.keras.models import Sequential\n",
        "from tensorflow.keras.callbacks import EarlyStopping\n",
        "from tensorflow.keras.utils import image_dataset_from_directory\n",
        "import tensorflow as tf\n",
        "from sklearn.metrics import confusion_matrix\n",
        "from sklearn.metrics import classification_report"
      ]
    },
    {
      "cell_type": "markdown",
      "metadata": {
        "id": "XVPnYuj5Pgpw"
      },
      "source": [
        "## Initial training "
      ]
    },
    {
      "cell_type": "code",
      "execution_count": null,
      "metadata": {
        "id": "Y7KyqRV6Pgp1"
      },
      "outputs": [],
      "source": [
        "i_g = ImageDataGenerator()"
      ]
    },
    {
      "cell_type": "code",
      "source": [
        "from google.colab import drive\n",
        "drive.mount('/content/drive')"
      ],
      "metadata": {
        "colab": {
          "base_uri": "https://localhost:8080/"
        },
        "id": "fZGmST-lp1X0",
        "outputId": "643bf917-6b60-43f3-dc87-9d0d2f84529c"
      },
      "execution_count": null,
      "outputs": [
        {
          "output_type": "stream",
          "name": "stdout",
          "text": [
            "Mounted at /content/drive\n"
          ]
        }
      ]
    },
    {
      "cell_type": "code",
      "execution_count": null,
      "metadata": {
        "id": "Y8pS2m3OPgp7",
        "colab": {
          "base_uri": "https://localhost:8080/"
        },
        "outputId": "a6036e27-08bf-46c2-9446-0d64a8f751fb"
      },
      "outputs": [
        {
          "output_type": "stream",
          "name": "stdout",
          "text": [
            "Found 94 images belonging to 2 classes.\n"
          ]
        }
      ],
      "source": [
        "train = i_g.flow_from_directory('/content/drive/MyDrive/dataset', target_size = (300,300),color_mode='grayscale',batch_size = 16, class_mode='binary')"
      ]
    },
    {
      "cell_type": "markdown",
      "source": [
        "## Data augmentation for increased training\n"
      ],
      "metadata": {
        "id": "Fxw9CIbGN4v-"
      }
    },
    {
      "cell_type": "code",
      "execution_count": null,
      "metadata": {
        "id": "-yZS4n-qPgp8",
        "colab": {
          "base_uri": "https://localhost:8080/"
        },
        "outputId": "2a9b2b61-0906-4f0d-dd5d-651c8e7696d4"
      },
      "outputs": [
        {
          "output_type": "stream",
          "name": "stdout",
          "text": [
            "Found 94 images belonging to 2 classes.\n"
          ]
        }
      ],
      "source": [
        "extra = ImageDataGenerator(shear_range=0.2,zca_epsilon=0.2)\n",
        "extra1 = extra.flow_from_directory('/content/drive/MyDrive/dataset', target_size = (300,300),color_mode='grayscale',batch_size = 16, class_mode='binary')"
      ]
    },
    {
      "cell_type": "code",
      "execution_count": null,
      "metadata": {
        "id": "h8cuYTddPgp-",
        "colab": {
          "base_uri": "https://localhost:8080/"
        },
        "outputId": "fd29ab50-8103-43e4-b8cf-fbd09a0737ff"
      },
      "outputs": [
        {
          "output_type": "execute_result",
          "data": {
            "text/plain": [
              "{'covid': 0, 'normal': 1}"
            ]
          },
          "metadata": {},
          "execution_count": 6
        }
      ],
      "source": [
        "train.class_indices"
      ]
    },
    {
      "cell_type": "code",
      "execution_count": null,
      "metadata": {
        "id": "iaDy4pF3PgqA",
        "colab": {
          "base_uri": "https://localhost:8080/"
        },
        "outputId": "f9b479d5-0418-405b-aaa2-d3961acbc643"
      },
      "outputs": [
        {
          "output_type": "stream",
          "name": "stdout",
          "text": [
            "Found 94 images belonging to 2 classes.\n"
          ]
        },
        {
          "output_type": "execute_result",
          "data": {
            "text/plain": [
              "{'covid': 0, 'normal': 1}"
            ]
          },
          "metadata": {},
          "execution_count": 7
        }
      ],
      "source": [
        "val = i_g.flow_from_directory('/content/drive/MyDrive/dataset', target_size = (300,300),color_mode='grayscale',batch_size = 16, class_mode='binary')\n",
        "val.class_indices"
      ]
    },
    {
      "cell_type": "code",
      "execution_count": null,
      "metadata": {
        "id": "Nx0Ajs22PgqC",
        "colab": {
          "base_uri": "https://localhost:8080/"
        },
        "outputId": "0bc26471-d99d-4d2f-c68b-b5af6df56852"
      },
      "outputs": [
        {
          "output_type": "stream",
          "name": "stdout",
          "text": [
            "Model: \"model\"\n",
            "__________________________________________________________________________________________________\n",
            " Layer (type)                   Output Shape         Param #     Connected to                     \n",
            "==================================================================================================\n",
            " input (InputLayer)             [(None, 300, 300, 1  0           []                               \n",
            "                                )]                                                                \n",
            "                                                                                                  \n",
            " cnn1 (Conv2D)                  (None, 298, 298, 32  320         ['input[0][0]']                  \n",
            "                                )                                                                 \n",
            "                                                                                                  \n",
            " pool1 (MaxPooling2D)           (None, 149, 149, 32  0           ['cnn1[0][0]']                   \n",
            "                                )                                                                 \n",
            "                                                                                                  \n",
            " cnn2 (Conv2D)                  (None, 147, 147, 64  18496       ['pool1[0][0]']                  \n",
            "                                )                                                                 \n",
            "                                                                                                  \n",
            " pool2 (MaxPooling2D)           (None, 73, 73, 64)   0           ['cnn2[0][0]']                   \n",
            "                                                                                                  \n",
            " cnn3 (Conv2D)                  (None, 71, 71, 128)  73856       ['pool2[0][0]']                  \n",
            "                                                                                                  \n",
            " pool3 (MaxPooling2D)           (None, 35, 35, 128)  0           ['cnn3[0][0]']                   \n",
            "                                                                                                  \n",
            " attention (Attention)          (None, 35, 35, 128)  0           ['pool3[0][0]',                  \n",
            "                                                                  'pool3[0][0]']                  \n",
            "                                                                                                  \n",
            " norm0 (Normalization)          (None, 35, 35, 128)  3           ['attention[0][0]']              \n",
            "                                                                                                  \n",
            " flatten (Flatten)              (None, 156800)       0           ['norm0[0][0]']                  \n",
            "                                                                                                  \n",
            " final (Dense)                  (None, 1)            156801      ['flatten[0][0]']                \n",
            "                                                                                                  \n",
            "==================================================================================================\n",
            "Total params: 249,476\n",
            "Trainable params: 249,473\n",
            "Non-trainable params: 3\n",
            "__________________________________________________________________________________________________\n"
          ]
        }
      ],
      "source": [
        "query = tf.keras.layers.Input(shape = (300,300,1),name='input')\n",
        "cnn1 = tf.keras.layers.Conv2D(32,kernel_size = (3,3),activation = 'relu',name ='cnn1')\n",
        "activation = cnn1(query)\n",
        "activation = tf.keras.layers.MaxPooling2D(pool_size = (2,2),name = 'pool1')(activation)\n",
        "cnn2 = tf.keras.layers.Conv2D(64,kernel_size= (3,3),activation = 'relu',name='cnn2')\n",
        "activation = cnn2(activation)\n",
        "activation = tf.keras.layers.MaxPooling2D(pool_size = (2,2),name = 'pool2')(activation)\n",
        "cnn3 = tf.keras.layers.Conv2D(128,kernel_size = (3,3),activation = 'relu',name='cnn3')\n",
        "activation = cnn3(activation)\n",
        "activation = tf.keras.layers.MaxPooling2D(pool_size = (2,2),name = 'pool3')(activation)\n",
        "\n",
        "attention = tf.keras.layers.Attention(name='attention')([activation,activation])\n",
        "attention = tf.keras.layers.Normalization(axis=None,name='norm0')(attention)\n",
        "\n",
        "final = tf.keras.layers.Flatten(name='flatten')(attention)\n",
        "\n",
        "final = tf.keras.layers.Dense(1,activation = 'sigmoid',name='final')(final)\n",
        "\n",
        "model = tf.keras.Model(query,final)\n",
        "\n",
        "model.summary()"
      ]
    },
    {
      "cell_type": "code",
      "execution_count": null,
      "metadata": {
        "id": "hS8FtCXRPgqF"
      },
      "outputs": [],
      "source": [
        "model.compile(optimizer = 'adam' , loss= tf.keras.losses.binary_crossentropy,metrics = ['accuracy'])"
      ]
    },
    {
      "cell_type": "code",
      "execution_count": null,
      "metadata": {
        "id": "pp2Rhja6PgqG"
      },
      "outputs": [],
      "source": [
        "early = tf.keras.callbacks.EarlyStopping(patience=3)"
      ]
    },
    {
      "cell_type": "code",
      "execution_count": null,
      "metadata": {
        "id": "cbf8vFOkPgqG",
        "colab": {
          "base_uri": "https://localhost:8080/"
        },
        "outputId": "731f5881-78e3-4e35-8755-876cc39871a4"
      },
      "outputs": [
        {
          "output_type": "stream",
          "name": "stdout",
          "text": [
            "Epoch 1/25\n",
            "6/6 [==============================] - 56s 7s/step - loss: 138.4492 - accuracy: 0.4894 - val_loss: 35.4089 - val_accuracy: 0.2660\n",
            "Epoch 2/25\n",
            "6/6 [==============================] - 7s 1s/step - loss: 11.1897 - accuracy: 0.7553 - val_loss: 18.5890 - val_accuracy: 0.5106\n",
            "Epoch 3/25\n",
            "6/6 [==============================] - 7s 1s/step - loss: 9.0083 - accuracy: 0.7872 - val_loss: 5.6194 - val_accuracy: 0.8830\n",
            "Epoch 4/25\n",
            "6/6 [==============================] - 7s 1s/step - loss: 2.4694 - accuracy: 0.8298 - val_loss: 0.5163 - val_accuracy: 0.9574\n",
            "Epoch 5/25\n",
            "6/6 [==============================] - 7s 1s/step - loss: 0.5765 - accuracy: 0.9468 - val_loss: 0.0229 - val_accuracy: 0.9894\n",
            "Epoch 6/25\n",
            "6/6 [==============================] - 7s 1s/step - loss: 0.0345 - accuracy: 0.9894 - val_loss: 0.0040 - val_accuracy: 1.0000\n",
            "Epoch 7/25\n",
            "6/6 [==============================] - 7s 1s/step - loss: 0.0263 - accuracy: 0.9894 - val_loss: 0.0061 - val_accuracy: 1.0000\n",
            "Epoch 8/25\n",
            "6/6 [==============================] - 7s 1s/step - loss: 0.0157 - accuracy: 0.9894 - val_loss: 0.0066 - val_accuracy: 1.0000\n",
            "Epoch 9/25\n",
            "6/6 [==============================] - 7s 1s/step - loss: 0.0645 - accuracy: 0.9894 - val_loss: 0.0017 - val_accuracy: 1.0000\n",
            "Epoch 10/25\n",
            "6/6 [==============================] - 7s 1s/step - loss: 0.0010 - accuracy: 1.0000 - val_loss: 0.0020 - val_accuracy: 1.0000\n",
            "Epoch 11/25\n",
            "6/6 [==============================] - 7s 1s/step - loss: 0.0067 - accuracy: 1.0000 - val_loss: 0.0016 - val_accuracy: 1.0000\n",
            "Epoch 12/25\n",
            "6/6 [==============================] - 7s 1s/step - loss: 0.0012 - accuracy: 1.0000 - val_loss: 2.1767e-04 - val_accuracy: 1.0000\n",
            "Epoch 13/25\n",
            "6/6 [==============================] - 7s 1s/step - loss: 3.1459e-04 - accuracy: 1.0000 - val_loss: 1.8305e-04 - val_accuracy: 1.0000\n",
            "Epoch 14/25\n",
            "6/6 [==============================] - 7s 1s/step - loss: 9.2252e-05 - accuracy: 1.0000 - val_loss: 5.7014e-05 - val_accuracy: 1.0000\n",
            "Epoch 15/25\n",
            "6/6 [==============================] - 7s 1s/step - loss: 3.9049e-05 - accuracy: 1.0000 - val_loss: 2.2138e-05 - val_accuracy: 1.0000\n",
            "Epoch 16/25\n",
            "6/6 [==============================] - 7s 1s/step - loss: 1.8126e-05 - accuracy: 1.0000 - val_loss: 1.8243e-05 - val_accuracy: 1.0000\n",
            "Epoch 17/25\n",
            "6/6 [==============================] - 7s 1s/step - loss: 1.8669e-05 - accuracy: 1.0000 - val_loss: 2.0433e-05 - val_accuracy: 1.0000\n",
            "Epoch 18/25\n",
            "6/6 [==============================] - 7s 1s/step - loss: 2.3564e-05 - accuracy: 1.0000 - val_loss: 2.2749e-05 - val_accuracy: 1.0000\n",
            "Epoch 19/25\n",
            "6/6 [==============================] - 7s 1s/step - loss: 2.2297e-05 - accuracy: 1.0000 - val_loss: 2.1045e-05 - val_accuracy: 1.0000\n"
          ]
        }
      ],
      "source": [
        "model.fit(train,epochs=25,validation_data=val,callbacks=[early])\n",
        "loss= pd.DataFrame(model.history.history)\n",
        "loss.to_csv('./losses.csv')"
      ]
    },
    {
      "cell_type": "code",
      "execution_count": null,
      "metadata": {
        "id": "AZLjYAIZPgqI",
        "colab": {
          "base_uri": "https://localhost:8080/"
        },
        "outputId": "2c1e2d25-66f0-4c26-af6d-0929815066d7"
      },
      "outputs": [
        {
          "output_type": "stream",
          "name": "stdout",
          "text": [
            "Epoch 1/25\n",
            "6/6 [==============================] - 8s 1s/step - loss: 0.0029 - accuracy: 1.0000 - val_loss: 0.0433 - val_accuracy: 0.9894\n",
            "Epoch 2/25\n",
            "6/6 [==============================] - 7s 1s/step - loss: 0.0080 - accuracy: 1.0000 - val_loss: 0.0247 - val_accuracy: 0.9894\n",
            "Epoch 3/25\n",
            "6/6 [==============================] - 7s 1s/step - loss: 0.1122 - accuracy: 0.9681 - val_loss: 0.0015 - val_accuracy: 1.0000\n",
            "Epoch 4/25\n",
            "6/6 [==============================] - 7s 1s/step - loss: 0.1498 - accuracy: 0.9787 - val_loss: 0.0253 - val_accuracy: 0.9894\n",
            "Epoch 5/25\n",
            "6/6 [==============================] - 7s 1s/step - loss: 0.1214 - accuracy: 0.9681 - val_loss: 7.5332e-04 - val_accuracy: 1.0000\n",
            "Epoch 6/25\n",
            "6/6 [==============================] - 7s 1s/step - loss: 7.2394e-05 - accuracy: 1.0000 - val_loss: 9.3758e-06 - val_accuracy: 1.0000\n",
            "Epoch 7/25\n",
            "6/6 [==============================] - 7s 1s/step - loss: 9.8214e-04 - accuracy: 1.0000 - val_loss: 1.5547e-04 - val_accuracy: 1.0000\n",
            "Epoch 8/25\n",
            "6/6 [==============================] - 7s 1s/step - loss: 0.0473 - accuracy: 0.9894 - val_loss: 1.7737e-04 - val_accuracy: 1.0000\n",
            "Epoch 9/25\n",
            "6/6 [==============================] - 7s 1s/step - loss: 0.0693 - accuracy: 0.9894 - val_loss: 0.0817 - val_accuracy: 0.9787\n"
          ]
        }
      ],
      "source": [
        "model.fit(extra1,epochs=25,validation_data=val,callbacks=[early])\n",
        "loss2 = pd.DataFrame(model.history.history)\n",
        "loss2.to_csv('./losses2.csv')"
      ]
    },
    {
      "cell_type": "code",
      "execution_count": null,
      "metadata": {
        "id": "5K9YpF2EPgqJ",
        "colab": {
          "base_uri": "https://localhost:8080/",
          "height": 282
        },
        "outputId": "c372a28b-3ad6-4f8a-c523-06e1d3b25da6"
      },
      "outputs": [
        {
          "output_type": "execute_result",
          "data": {
            "text/plain": [
              "<matplotlib.axes._subplots.AxesSubplot at 0x7f4222cc2e50>"
            ]
          },
          "metadata": {},
          "execution_count": 15
        },
        {
          "output_type": "display_data",
          "data": {
            "text/plain": [
              "<Figure size 432x288 with 1 Axes>"
            ],
            "image/png": "[encoded data removed]"
          },
          "metadata": {
            "needs_background": "light"
          }
        }
      ],
      "source": [
        "loss[['loss','val_loss']].plot()"
      ]
    },
    {
      "cell_type": "code",
      "execution_count": null,
      "metadata": {
        "id": "z_jjeUaJPgqK",
        "colab": {
          "base_uri": "https://localhost:8080/",
          "height": 282
        },
        "outputId": "a9c55f7c-3071-472d-8e2c-844cf05fc519"
      },
      "outputs": [
        {
          "output_type": "execute_result",
          "data": {
            "text/plain": [
              "<matplotlib.axes._subplots.AxesSubplot at 0x7f4222bcc210>"
            ]
          },
          "metadata": {},
          "execution_count": 16
        },
        {
          "output_type": "display_data",
          "data": {
            "text/plain": [
              "<Figure size 432x288 with 1 Axes>"
            ],
            "image/png": "[encoded data removed]"
          },
          "metadata": {
            "needs_background": "light"
          }
        }
      ],
      "source": [
        "loss[['accuracy','val_accuracy']].plot()"
      ]
    },
    {
      "cell_type": "code",
      "source": [
        "val = i_g.flow_from_directory('/content/drive/MyDrive/dataset', target_size = (300,300),color_mode='grayscale',batch_size = 16, class_mode='binary',shuffle = False)\n",
        "val.class_indices"
      ],
      "metadata": {
        "colab": {
          "base_uri": "https://localhost:8080/"
        },
        "id": "LMh4Kb53rS67",
        "outputId": "d9f564e0-1286-4543-af25-d171231309ab"
      },
      "execution_count": null,
      "outputs": [
        {
          "output_type": "stream",
          "name": "stdout",
          "text": [
            "Found 94 images belonging to 2 classes.\n"
          ]
        },
        {
          "output_type": "execute_result",
          "data": {
            "text/plain": [
              "{'covid': 0, 'normal': 1}"
            ]
          },
          "metadata": {},
          "execution_count": 13
        }
      ]
    },
    {
      "cell_type": "code",
      "execution_count": null,
      "metadata": {
        "id": "0ii2xt_uPgqN"
      },
      "outputs": [],
      "source": [
        "pred = []\n",
        "for i in model.predict(val).reshape(1,-1)[0]:\n",
        "    pred.append(np.round(i))"
      ]
    },
    {
      "cell_type": "code",
      "execution_count": null,
      "metadata": {
        "id": "cQ7cr81gPgqN",
        "colab": {
          "base_uri": "https://localhost:8080/"
        },
        "outputId": "c831c563-04f9-41e7-9567-439d945d87ac"
      },
      "outputs": [
        {
          "output_type": "stream",
          "name": "stdout",
          "text": [
            "              precision    recall  f1-score   support\n",
            "\n",
            "         0.0       0.97      1.00      0.99        67\n",
            "         1.0       1.00      0.93      0.96        27\n",
            "\n",
            "    accuracy                           0.98        94\n",
            "   macro avg       0.99      0.96      0.97        94\n",
            "weighted avg       0.98      0.98      0.98        94\n",
            "\n"
          ]
        }
      ],
      "source": [
        "print(classification_report(pred,val.classes))"
      ]
    },
    {
      "cell_type": "code",
      "execution_count": null,
      "metadata": {
        "id": "noKiHo0dPgqO"
      },
      "outputs": [],
      "source": [
        "import seaborn as sns"
      ]
    },
    {
      "cell_type": "code",
      "execution_count": null,
      "metadata": {
        "id": "WVkhvmvFPgqP",
        "colab": {
          "base_uri": "https://localhost:8080/",
          "height": 282
        },
        "outputId": "50ea6617-2135-45cd-dd5c-29dd559f14b4"
      },
      "outputs": [
        {
          "output_type": "execute_result",
          "data": {
            "text/plain": [
              "<matplotlib.axes._subplots.AxesSubplot at 0x7f7e846b06d0>"
            ]
          },
          "metadata": {},
          "execution_count": 17
        },
        {
          "output_type": "display_data",
          "data": {
            "text/plain": [
              "<Figure size 432x288 with 2 Axes>"
            ],
            "image/png": "[encoded data removed]"
          },
          "metadata": {
            "needs_background": "light"
          }
        }
      ],
      "source": [
        "sns.heatmap(confusion_matrix(pred,val.classes),annot=True)"
      ]
    },
    {
      "cell_type": "code",
      "execution_count": null,
      "metadata": {
        "id": "HuI31--SPgqQ"
      },
      "outputs": [],
      "source": [
        "model.save('./covid.h5')"
      ]
    }
  ],
  "metadata": {
    "kernelspec": {
      "display_name": "Python 3",
      "language": "python",
      "name": "python3"
    },
    "language_info": {
      "codemirror_mode": {
        "name": "ipython",
        "version": 3
      },
      "file_extension": ".py",
      "mimetype": "text/x-python",
      "name": "python",
      "nbconvert_exporter": "python",
      "pygments_lexer": "ipython3",
      "version": "3.8.10"
    },
    "colab": {
      "name": "Initial_training_with_less_data.ipynb",
      "provenance": [],
      "collapsed_sections": []
    },
    "accelerator": "GPU"
  },
  "nbformat": 4,
  "nbformat_minor": 0
}